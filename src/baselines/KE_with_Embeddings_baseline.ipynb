{
 "cells": [
  {
   "cell_type": "code",
   "execution_count": 1,
   "id": "4087be86",
   "metadata": {},
   "outputs": [
    {
     "name": "stdout",
     "output_type": "stream",
     "text": [
      "1.14.0\n"
     ]
    }
   ],
   "source": [
    "import warnings\n",
    "warnings.filterwarnings('ignore')\n",
    "warnings.filterwarnings('ignore', category=DeprecationWarning)\n",
    "warnings.filterwarnings('ignore', category=FutureWarning)\n",
    "\n",
    "import os\n",
    "os.environ[\"CUDA_VISIBLE_DEVICES\"]=\"2\"\n",
    "from sentence_transformers import SentenceTransformer\n",
    "os.environ['TF_CPP_MIN_LOG_LEVEL'] = '2' \n",
    "\n",
    "import sys\n",
    "sys.path.append(\"/home/rtue/playground/jupyter-notebook/workspace/codes\")\n",
    "sys.path.append(\"/home/rtue/playground/python_projects/tool_keaml/src/utils\")\n",
    "sys.path.append(\"/home/rtue/playground/jupyter-notebook/keyword_extraction\")\n",
    "import util, evaluation_metrics\n",
    "import encoding_pipeline\n",
    "from training_data.data_prepare import DataPrepare\n",
    "from youTube_pipeline_c import youtube_pipeline\n",
    "\n",
    "import ast\n",
    "from termcolor import colored\n",
    "from sklearn.metrics.pairwise import cosine_similarity\n",
    "import numpy as np\n",
    "import itertools"
   ]
  },
  {
   "cell_type": "code",
   "execution_count": 2,
   "id": "bb7a24ba",
   "metadata": {},
   "outputs": [],
   "source": [
    "path_dw_id_kw='/home/rtue/playground/python_projects/resources/df_np_id_kw.csv'\n",
    "path_dw_id_tit_abst_claim ='/home/rtue/playground/python_projects/resources/df_np_id_tit_abst_claim_detden.csv'"
   ]
  },
  {
   "cell_type": "code",
   "execution_count": 3,
   "id": "0267cef5",
   "metadata": {},
   "outputs": [
    {
     "name": "stderr",
     "output_type": "stream",
     "text": [
      "WARNING:root:\n",
      "DeepCTR version 0.9.0 detected. Your version is 0.8.5.\n",
      "Use `pip install -U deepctr` to upgrade.Changelog: https://github.com/shenweichen/DeepCTR/releases/tag/v0.9.0\n"
     ]
    }
   ],
   "source": [
    "model = SentenceTransformer(\"AI-Growth-Lab/PatentSBERTa\")\n",
    "embedding_dim=768\n",
    "max_len_token=model.get_max_seq_length()"
   ]
  },
  {
   "cell_type": "code",
   "execution_count": 4,
   "id": "912a42c8",
   "metadata": {},
   "outputs": [
    {
     "name": "stdout",
     "output_type": "stream",
     "text": [
      "DataPrepare object has the following properties:\n",
      " df_full_text, dict_full_text, df_der_text, dict_der_text\n"
     ]
    }
   ],
   "source": [
    "data=DataPrepare()\n",
    "\n",
    "data.set_der_abst()\n",
    "data.set_full_text()"
   ]
  },
  {
   "cell_type": "code",
   "execution_count": 5,
   "id": "a50dfd6e",
   "metadata": {},
   "outputs": [
    {
     "name": "stdout",
     "output_type": "stream",
     "text": [
      "rows_with_NaN: Empty DataFrame\n",
      "Columns: [PPID, KEYWORD]\n",
      "Index: []\n",
      "rows_with_NaN: Empty DataFrame\n",
      "Columns: [PPID, TIEN, ABEN, CLMEN, DETDEN]\n",
      "Index: []\n",
      "data_kw is merged version and len(data_kw): 271137\n"
     ]
    }
   ],
   "source": [
    "data_id_kw, data_id_tit_abs_clm, data_kw=util.read_dataset(path_dw_id_kw, path_dw_id_tit_abst_claim)"
   ]
  },
  {
   "cell_type": "code",
   "execution_count": 6,
   "id": "8d8c55f3",
   "metadata": {},
   "outputs": [
    {
     "name": "stdout",
     "output_type": "stream",
     "text": [
      "occurance dictionary len: 79450\n"
     ]
    }
   ],
   "source": [
    "dict_occ_kw=util.get_occurance_dict(data_kw,['KEYWORD'])"
   ]
  },
  {
   "cell_type": "code",
   "execution_count": 7,
   "id": "3e8c0a42",
   "metadata": {},
   "outputs": [],
   "source": [
    "list_ele_1=util.get_list_ele_len_less_than(dict_occ_kw)\n",
    "list_ele_2=util.get_list_ele_occ_less_than(dict_occ_kw, 100)\n",
    "list_ele_3 = util.get_list_pha_len_less(dict_occ_kw)\n",
    "list_ele_4 = util.get_list_ele_occ_more_than(dict_occ_kw)\n",
    "lst_all=set(list_ele_1 + list_ele_2+list_ele_3+list_ele_4)"
   ]
  },
  {
   "cell_type": "code",
   "execution_count": 8,
   "id": "825f5f45",
   "metadata": {},
   "outputs": [
    {
     "name": "stdout",
     "output_type": "stream",
     "text": [
      "removing rows from the df\n",
      "occurance dictionary len: 77\n"
     ]
    }
   ],
   "source": [
    "data_kw=util.remove_rows_contain_kw_in_list(lst_all, data_kw)\n",
    "dict_occ_kw_clean=util.get_occurance_dict(data_kw,['KEYWORD'])"
   ]
  },
  {
   "cell_type": "code",
   "execution_count": 9,
   "id": "88cd7ac8",
   "metadata": {},
   "outputs": [],
   "source": [
    "kw_list=list(dict_occ_kw_clean.keys())"
   ]
  },
  {
   "cell_type": "code",
   "execution_count": 10,
   "id": "21ccce94",
   "metadata": {},
   "outputs": [],
   "source": [
    "f_name_test_dict='/home/rtue/playground/python_projects/resources/baseline_test_datasets/test_set_dict_baseline_embedding'\n",
    "#/77_kws/train_test_sets/test_set_dict_10_de_20220222-134947'\n",
    "test_set_dict=util.load_obj(f_name_test_dict)"
   ]
  },
  {
   "cell_type": "code",
   "execution_count": 76,
   "id": "333c3d38",
   "metadata": {},
   "outputs": [
    {
     "name": "stdout",
     "output_type": "stream",
     "text": [
      "0 US20100272700A1 {'ovarian cancer', 'crohn disease', 'culture medium', 'cervical cancer', 'effective amount', 'lung cancer', 'dendritic cell', 'rheumatoid arthritis', 'sjogren syndrome', 'pancreatic cancer', 'breast cancer', 'multiple myeloma', 'myasthenia gravis', 'prostate cancer', 'autoimmune disease'}\n",
      "1 CN106478819A {'ovarian cancer', 'inflammatory disease', 'infectious disease', 'cervical cancer', 'monoclonal antibody', 'lung cancer', 'expression vector', 'therapeutic agent', 'pancreatic cancer', 'hodgkin lymphoma', 'colon cancer', 'breast cancer', 'respiratory syncytial virus', 'influenza virus', 'hepatitis virus', 'nucleotide sequence', 'prostate cancer'}\n",
      "2 WO2004108899A2 {'crohn disease', 'rheumatoid arthritis', 'inflammatory bowel disease', 'sjogren syndrome', 'herpe simplex virus', 'systemic lupus erythematosus', 'ebola virus', 'lung cancer', 'bacterial infection', 'alzheimer disease', 'respiratory syncytial virus', 'dengue virus', 'breast cancer', 'myasthenia gravis', 'human immunodeficiency virus', 'infectious disease', 'colon cancer', 'influenza virus', 'liver cancer', 'prostate cancer', 'ovarian cancer', 'cervical cancer', 'bladder cancer', 'pancreatic cancer', 'multiple sclerosis'}\n",
      "3 GB2450088A {'hiv infection', 'rheumatoid arthritis', 'inflammatory bowel disease', 'sjogren syndrome', 'viral disease', 'human immunodeficiency virus', 'multiple sclerosis', 'neurodegenerative disease', 'ulcerative colitis', 'chronic obstructive pulmonary disease', 'systemic lupus erythematosus', 'septic shock', 'autoimmune disorder', 'hepatitis virus', 'autoimmune disease'}\n",
      "4 WO2008051424A2 {'ovarian cancer', 'infectious disease', 'crohn disease', 'cervical cancer', 'lung cancer', 'bladder cancer', 'rheumatoid arthritis', 'inflammatory bowel disease', 'pancreatic cancer', 'colon cancer', 'breast cancer', 'multiple sclerosis', 'systemic lupus erythematosus', 'myasthenia gravis', 'liver cancer', 'prostate cancer', 'autoimmune disease'}\n",
      "5 WO2001055329A2 {'infectious disease', 'inflammatory disease', 'isolate antibody', 'recombinant vector', 'rheumatoid arthritis', 'alzheimer disease', 'fusion protein', 'isolated nucleic acid molecule', 'biological sample', 'parkinson disease', 'autoimmune disorder', 'systemic lupus erythematosus', 'gene therapy', 'nucleotide sequence'}\n",
      "6 WO2007066313A2 {'infectious disease', 'amyotrophic lateral sclerosis', 'dendritic cell', 'rheumatoid arthritis', 'alzheimer disease', 'sjogren syndrome', 'huntington disease', 'multiple sclerosis', 'neurodegenerative disease', 'parkinson disease', 'autoimmune disease'}\n",
      "7 WO2005013896A2 {'infectious disease', 'parainfluenza virus', 'crohn disease', 'lung cancer', 'dendritic cell', 'rheumatoid arthritis', 'sjogren syndrome', 'liver cancer', 'breast cancer', 'multiple sclerosis', 'systemic lupus erythematosus', 'influenza virus', 'myasthenia gravis', 'hepatitis virus', 'prostate cancer', 'autoimmune disease'}\n",
      "8 WO2002016576A1 {'infectious disease', 'isolate antibody', 'nucleic acid molecule', 'rheumatoid arthritis', 'alzheimer disease', 'inflammatory bowel disease', 'biological sample', 'parkinson disease', 'autoimmune disorder', 'gene therapy', 'nucleotide sequence', 'multiple sclerosis'}\n",
      "9 CN105582018A {'ovarian cancer', 'inflammatory disease', 'cardiovascular disease', 'bladder cancer', 'rheumatoid arthritis', 'alzheimer disease', 'breast cancer', 'autoimmune disease', 'multiple myeloma', 'liver cancer', 'multiple sclerosis'}\n",
      "10 US20100233779A1 {'lung cancer', 'hiv infection', 'rheumatoid arthritis', 'sjogren syndrome', 'breast cancer', 'diabetes mellitus', 'ulcerative colitis', 'systemic lupus erythematosus', 'multiple myeloma', 'myasthenia gravis', 'multiple sclerosis'}\n",
      "11 US5965394A {'crohn disease', 'parainfluenza virus', 'atopic dermatitis', 'expression vector', 'rheumatoid arthritis', 'sjogren syndrome', 'respiratory syncytial virus', 'herpe simplex virus', 'biological sample', 'diabetes mellitus', 'influenza virus', 'myasthenia gravis', 'hepatitis virus', 'multiple sclerosis'}\n",
      "12 US20120237442A1 {'ovarian cancer', 'amyotrophic lateral sclerosis', 'cardiovascular disease', 'lung cancer', 'rheumatoid arthritis', 'sjogren syndrome', 'pancreatic cancer', 'hodgkin lymphoma', 'colon cancer', 'breast cancer', 'multiple sclerosis', 'neurodegenerative disease', 'ulcerative colitis', 'diabetes mellitus', 'systemic lupus erythematosus', 'multiple myeloma', 'myasthenia gravis', 'prostate cancer', 'autoimmune disease'}\n",
      "13 WO2002060898A1 {'crohn disease', 'atopic dermatitis', 'inflammatory bowel disease', 'human immunodeficiency virus', 'cystic fibrosis', 'parkinson disease', 'ulcerative colitis', 'diabetes mellitus', 'chronic obstructive pulmonary disease', 'septic shock', 'systemic lupus erythematosus', 'myasthenia gravis', 'multiple sclerosis'}\n",
      "14 US20120276100A1 {'ovarian cancer', 'amyotrophic lateral sclerosis', 'cervical cancer', 'lung cancer', 'rheumatoid arthritis', 'sjogren syndrome', 'pancreatic cancer', 'hodgkin lymphoma', 'colon cancer', 'breast cancer', 'multiple sclerosis', 'ulcerative colitis', 'fusion protein', 'diabetes mellitus', 'systemic lupus erythematosus', 'multiple myeloma', 'myasthenia gravis', 'liver cancer', 'prostate cancer', 'autoimmune disease'}\n",
      "15 WO2004110990A2 {'inflammatory disease', 'infectious disease', 'crohn disease', 'severe acute respiratory syndrome', 'rheumatoid arthritis', 'alzheimer disease', 'inflammatory bowel disease', 'multiple myeloma', 'huntington disease', 'breast cancer', 'multiple sclerosis', 'neurodegenerative disease', 'parkinson disease', 'chronic obstructive pulmonary disease', 'influenza virus', 'septic shock', 'myasthenia gravis', 'ulcerative colitis', 'diabetes mellitus', 'viral disease'}\n",
      "16 CN105497035A {'amyotrophic lateral sclerosis', 'bacterial infection', 'rheumatoid arthritis', 'inflammatory bowel disease', 'cystic fibrosis', 'parkinson disease', 'ulcerative colitis', 'chronic obstructive pulmonary disease', 'systemic lupus erythematosus', 'multiple myeloma', 'multiple sclerosis'}\n",
      "17 DE102007001370A1 {'infectious disease', 'crohn disease', 'amyotrophic lateral sclerosis', 'cardiovascular disease', 'lung cancer', 'rheumatoid arthritis', 'alzheimer disease', 'parkinson disease', 'systemic lupus erythematosus', 'autoimmune disease', 'myasthenia gravis', 'multiple sclerosis'}\n",
      "18 US5981263A {'crohn disease', 'atopic dermatitis', 'rheumatoid arthritis', 'inflammatory bowel disease', 'sjogren syndrome', 'cystic fibrosis', 'diabetes mellitus', 'ulcerative colitis', 'systemic lupus erythematosus', 'myasthenia gravis', 'multiple sclerosis'}\n",
      "19 US20120321556A1 {'ovarian cancer', 'amyotrophic lateral sclerosis', 'lung cancer', 'rheumatoid arthritis', 'sjogren syndrome', 'pancreatic cancer', 'hodgkin lymphoma', 'colon cancer', 'breast cancer', 'multiple sclerosis', 'ulcerative colitis', 'diabetes mellitus', 'systemic lupus erythematosus', 'multiple myeloma', 'myasthenia gravis', 'prostate cancer', 'autoimmune disease'}\n",
      "20 US20140219956A1 {'rheumatoid arthritis', 'sjogren syndrome', 'target cell', 'herpe simplex virus', 'systemic lupus erythematosus', 'amyotrophic lateral sclerosis', 'lung cancer', 'respiratory syncytial virus', 'hodgkin lymphoma', 'dengue virus', 'breast cancer', 'multiple myeloma', 'myasthenia gravis', 'infectious disease', 'colon cancer', 'diabetes mellitus', 'influenza virus', 'hepatitis virus', 'liver cancer', 'prostate cancer', 'ovarian cancer', 'cervical cancer', 'pancreatic cancer', 'multiple sclerosis', 'ulcerative colitis', 'autoimmune disease'}\n",
      "21 WO2009030254A1 {'infectious disease', 'amyotrophic lateral sclerosis', 'cardiovascular disease', 'alzheimer disease', 'pancreatic cancer', 'hodgkin lymphoma', 'multiple sclerosis', 'parkinson disease', 'diabetes mellitus', 'systemic lupus erythematosus', 'liver cancer', 'autoimmune disease'}\n",
      "22 US20160130333A1 {'inflammatory disease', 'infectious disease', 'amyotrophic lateral sclerosis', 'cardiovascular disease', 'rheumatoid arthritis', 'sjogren syndrome', 'multiple sclerosis', 'ulcerative colitis', 'diabetes mellitus', 'systemic lupus erythematosus', 'septic shock', 'myasthenia gravis', 'autoimmune disease'}\n",
      "23 WO2002022611A2 {'crohn disease', 'infectious disease', 'inflammatory disease', 'amyotrophic lateral sclerosis', 'atopic dermatitis', 'hiv infection', 'rheumatoid arthritis', 'alzheimer disease', 'inflammatory bowel disease', 'huntington disease', 'multiple sclerosis', 'parkinson disease', 'ulcerative colitis', 'systemic lupus erythematosus', 'septic shock', 'myasthenia gravis', 'autoimmune disease'}\n",
      "24 EP1229034A1 {'crohn disease', 'atopic dermatitis', 'hiv infection', 'inflammatory bowel disease', 'cystic fibrosis', 'multiple sclerosis', 'parkinson disease', 'ulcerative colitis', 'chronic obstructive pulmonary disease', 'systemic lupus erythematosus', 'septic shock', 'myasthenia gravis', 'diabetes mellitus', 'human immunodeficiency virus'}\n",
      "25 US20170128429A1 {'crohn disease', 'severe acute respiratory syndrome', 'rheumatoid arthritis', 'alzheimer disease', 'inflammatory bowel disease', 'multiple myeloma', 'viral disease', 'huntington disease', 'breast cancer', 'parkinson disease', 'diabetes mellitus', 'chronic obstructive pulmonary disease', 'influenza virus', 'septic shock', 'myasthenia gravis', 'multiple sclerosis'}\n",
      "26 US20100286214A1 {'crohn disease', 'amyotrophic lateral sclerosis', 'rheumatoid arthritis', 'alzheimer disease', 'inflammatory bowel disease', 'huntington disease', 'parkinson disease', 'chronic obstructive pulmonary disease', 'systemic lupus erythematosus', 'autoimmune disease', 'multiple sclerosis'}\n",
      "27 WO2008042480A2 {'inflammatory disease', 'crohn disease', 'infectious disease', 'rheumatoid arthritis', 'alzheimer disease', 'inflammatory bowel disease', 'breast cancer', 'cystic fibrosis', 'chronic obstructive pulmonary disease', 'immune system', 'multiple sclerosis', 'coronavirus infection'}\n",
      "28 WO2005121076A1 {'ovarian cancer', 'crohn disease', 'cardiovascular disease', 'rheumatoid arthritis', 'alzheimer disease', 'inflammatory bowel disease', 'breast cancer', 'multiple sclerosis', 'chronic obstructive pulmonary disease', 'systemic lupus erythematosus', 'multiple myeloma', 'prostate cancer', 'autoimmune disease'}\n",
      "29 WO2006002438A2 {'crohn disease', 'atopic dermatitis', 'effective amount', 'expression vector', 'rheumatoid arthritis', 'therapeutic agent', 'target cell', 'inflammatory bowel disease', 'hodgkin lymphoma', 'autoimmune disorder', 'systemic lupus erythematosus', 'autoimmune disease', 'myasthenia gravis', 'multiple sclerosis'}\n",
      "30 WO2001055449A1 {'infectious disease', 'isolate antibody', 'nucleic acid molecule', 'recombinant vector', 'rheumatoid arthritis', 'alzheimer disease', 'fusion protein', 'isolated nucleic acid molecule', 'biological sample', 'parkinson disease', 'autoimmune disorder', 'septic shock', 'gene therapy', 'nucleotide sequence'}\n",
      "31 WO2007062167A2 {'crohn disease', 'severe acute respiratory syndrome', 'rheumatoid arthritis', 'alzheimer disease', 'inflammatory bowel disease', 'huntington disease', 'parkinson disease', 'diabetes mellitus', 'chronic obstructive pulmonary disease', 'septic shock', 'influenza virus', 'myasthenia gravis', 'multiple sclerosis'}\n",
      "32 WO2008147562A2 {'ovarian cancer', 'inflammatory disease', 'lung cancer', 'rheumatoid arthritis', 'alzheimer disease', 'inflammatory bowel disease', 'pancreatic cancer', 'colon cancer', 'cystic fibrosis', 'diabetes mellitus', 'chronic obstructive pulmonary disease'}\n",
      "33 US20180064695A1 {'crohn disease', 'severe acute respiratory syndrome', 'rheumatoid arthritis', 'alzheimer disease', 'inflammatory bowel disease', 'multiple myeloma', 'viral disease', 'huntington disease', 'breast cancer', 'parkinson disease', 'diabetes mellitus', 'chronic obstructive pulmonary disease', 'septic shock', 'influenza virus', 'myasthenia gravis', 'multiple sclerosis'}\n",
      "34 WO2004004658A2 {'ovarian cancer', 'infectious disease', 'cervical cancer', 'bacterial infection', 'hiv infection', 'bladder cancer', 'pancreatic cancer', 'herpe simplex virus', 'breast cancer', 'liver cancer', 'prostate cancer'}\n",
      "35 WO2002069904A2 {'crohn disease', 'atopic dermatitis', 'rheumatoid arthritis', 'inflammatory bowel disease', 'sjogren syndrome', 'multiple sclerosis', 'chronic obstructive pulmonary disease', 'septic shock', 'systemic lupus erythematosus', 'myasthenia gravis', 'autoimmune disorder', 'autoimmune disease'}\n",
      "36 WO2004094613A2 {'amyotrophic lateral sclerosis', 'culture medium', 'rheumatoid arthritis', 'alzheimer disease', 'sjogren syndrome', 'isolated nucleic acid molecule', 'dengue virus', 'human immunodeficiency virus', 'respiratory syncytial virus', 'diabetes mellitus', 'ulcerative colitis', 'autoimmune disorder', 'influenza virus', 'systemic lupus erythematosus', 'myasthenia gravis', 'hepatitis virus', 'multiple sclerosis'}\n",
      "37 WO2002060875A1 {'crohn disease', 'atopic dermatitis', 'hiv infection', 'rheumatoid arthritis', 'inflammatory bowel disease', 'human immunodeficiency virus', 'cystic fibrosis', 'parkinson disease', 'ulcerative colitis', 'diabetes mellitus', 'septic shock', 'systemic lupus erythematosus', 'myasthenia gravis', 'multiple sclerosis'}\n",
      "38 WO2009004379A1 {'crohn disease', 'atopic dermatitis', 'alzheimer disease', 'respiratory syncytial virus', 'diabetes mellitus', 'ulcerative colitis', 'chronic obstructive pulmonary disease', 'systemic lupus erythematosus', 'myasthenia gravis', 'active ingredient', 'multiple sclerosis'}\n",
      "39 WO2009005675A1 {'crohn disease', 'infectious disease', 'rheumatoid arthritis', 'inflammatory bowel disease', 'sjogren syndrome', 'cystic fibrosis', 'neurodegenerative disease', 'ulcerative colitis', 'systemic lupus erythematosus', 'myasthenia gravis', 'multiple sclerosis'}\n",
      "40 WO2005030927A2 {'ovarian cancer', 'inflammatory disease', 'cervical cancer', 'bladder cancer', 'rheumatoid arthritis', 'inflammatory bowel disease', 'sjogren syndrome', 'pancreatic cancer', 'nucleic acid sequence', 'colon cancer', 'breast cancer', 'systemic lupus erythematosus', 'liver cancer', 'nucleotide sequence', 'multiple sclerosis'}\n",
      "41 US20160250198A1 {'crohn disease', 'severe acute respiratory syndrome', 'rheumatoid arthritis', 'inflammatory bowel disease', 'alzheimer disease', 'huntington disease', 'parkinson disease', 'diabetes mellitus', 'septic shock', 'myasthenia gravis', 'chronic obstructive pulmonary disease'}\n",
      "42 KR2018028653A {'ovarian cancer', 'cervical cancer', 'lung cancer', 'bladder cancer', 'pancreatic cancer', 'biological sample', 'breast cancer', 'colon cancer', 'liver cancer', 'prostate cancer', 'cancer cell'}\n",
      "43 US20160185786A1 {'inflammatory disease', 'crohn disease', 'amyotrophic lateral sclerosis', 'cardiovascular disease', 'bacterial infection', 'alzheimer disease', 'inflammatory bowel disease', 'huntington disease', 'parkinson disease', 'neurodegenerative disease', 'tumor cell'}\n",
      "44 AU2016201892A1 {'crohn disease', 'atopic dermatitis', 'monoclonal antibody', 'isolate antibody', 'rheumatoid arthritis', 'inflammatory bowel disease', 'sjogren syndrome', 'chronic obstructive pulmonary disease', 'systemic lupus erythematosus', 'seq id nos', 'myasthenia gravis', 'autoimmune disease'}\n",
      "45 US20180030137A1 {'ovarian cancer', 'infectious disease', 'lung cancer', 'expression vector', 'bladder cancer', 'therapeutic agent', 'pancreatic cancer', 'breast cancer', 'mammalian cell', 'colorectal cancer', 'prostate cancer'}\n",
      "46 US20160229872A1 {'inflammatory disease', 'amyotrophic lateral sclerosis', 'cardiovascular disease', 'effective amount', 'bacterial infection', 'alzheimer disease', 'huntington disease', 'parkinson disease', 'neurodegenerative disease', 'tumor cell', 'multiple sclerosis'}\n",
      "47 US20160195554A1 {'ovarian cancer', 'cervical cancer', 'lung cancer', 'bladder cancer', 'colorectal cancer', 'pancreatic cancer', 'hodgkin lymphoma', 'breast cancer', 'multiple myeloma', 'liver cancer', 'prostate cancer'}\n",
      "48 US20160311931A1 {'inflammatory disease', 'amyotrophic lateral sclerosis', 'rheumatoid arthritis', 'inflammatory bowel disease', 'sjogren syndrome', 'diabetes mellitus', 'ulcerative colitis', 'systemic lupus erythematosus', 'autoimmune disease', 'myasthenia gravis', 'septic shock', 'multiple sclerosis'}\n",
      "49 US20170158757A1 {'crohn disease', 'expression vector', 'rheumatoid arthritis', 'alzheimer disease', 'sjogren syndrome', 'therapeutic agent', 'inflammatory bowel disease', 'parkinson disease', 'neurodegenerative disease', 'chronic obstructive pulmonary disease', 'systemic lupus erythematosus', 'seq id nos', 'multiple sclerosis'}\n",
      "50 US20140378484A1 {'inflammatory disease', 'crohn disease', 'amyotrophic lateral sclerosis', 'hiv infection', 'rheumatoid arthritis', 'alzheimer disease', 'huntington disease', 'multiple sclerosis', 'parkinson disease', 'autoimmune disease', 'viral disease'}\n",
      "51 WO2001066710A2 {'crohn disease', 'amino acid residue', 'atopic dermatitis', 'nucleic acid molecule', 'expression vector', 'rheumatoid arthritis', 'sjogren syndrome', 'fusion protein', 'isolated nucleic acid molecule', 'biological sample', 'diabetes mellitus', 'ulcerative colitis', 'myasthenia gravis', 'nucleotide sequence', 'multiple sclerosis'}\n",
      "52 US20120276608A1 {'ovarian cancer', 'amyotrophic lateral sclerosis', 'cervical cancer', 'lung cancer', 'rheumatoid arthritis', 'sjogren syndrome', 'pancreatic cancer', 'hodgkin lymphoma', 'fusion protein', 'breast cancer', 'multiple sclerosis', 'ulcerative colitis', 'diabetes mellitus', 'systemic lupus erythematosus', 'colorectal cancer', 'myasthenia gravis', 'liver cancer', 'prostate cancer', 'autoimmune disease'}\n",
      "53 EP2520292A1 {'crohn disease', 'parainfluenza virus', 'rheumatoid arthritis', 'alzheimer disease', 'sjogren syndrome', 'inflammatory bowel disease', 'multiple myeloma', 'colorectal cancer', 'respiratory syncytial virus', 'ulcerative colitis', 'chronic obstructive pulmonary disease', 'influenza virus', 'systemic lupus erythematosus', 'myasthenia gravis', 'multiple sclerosis'}\n",
      "54 WO2007095347A2 {'crohn disease', 'rheumatoid arthritis', 'inflammatory bowel disease', 'sjogren syndrome', 'herpe simplex virus', 'systemic lupus erythematosus', 'ebola virus', 'bacterial infection', 'alzheimer disease', 'respiratory syncytial virus', 'dengue virus', 'breast cancer', 'myasthenia gravis', 'human immunodeficiency virus', 'inflammatory disease', 'atopic dermatitis', 'colon cancer', 'influenza virus', 'hepatitis virus', 'liver cancer', 'ovarian cancer', 'cervical cancer', 'bladder cancer', 'pancreatic cancer', 'multiple sclerosis', 'ulcerative colitis', 'autoimmune disease'}\n",
      "55 US20080249294A1 {'infectious disease', 'crohn disease', 'amyotrophic lateral sclerosis', 'cardiovascular disease', 'rheumatoid arthritis', 'alzheimer disease', 'respiratory syncytial virus', 'cystic fibrosis', 'multiple sclerosis', 'chronic obstructive pulmonary disease', 'systemic lupus erythematosus', 'septic shock', 'nucleotide sequence', 'autoimmune disease'}\n",
      "56 US20040019022A1 {'severe acute respiratory syndrome', 'parainfluenza virus', 'bacterial infection', 'rheumatoid arthritis', 'alzheimer disease', 'inflammatory bowel disease', 'human immunodeficiency virus', 'cystic fibrosis', 'parkinson disease', 'huntington disease', 'chronic obstructive pulmonary disease', 'multiple sclerosis'}\n",
      "57 WO2008132485A2 {'crohn disease', 'atopic dermatitis', 'nucleic acid molecule', 'rheumatoid arthritis', 'alzheimer disease', 'inflammatory bowel disease', 'multiple myeloma', 'colorectal cancer', 'isolated nucleic acid molecule', 'breast cancer', 'diabetes mellitus', 'ulcerative colitis', 'septic shock', 'systemic lupus erythematosus', 'multiple sclerosis'}\n",
      "58 WO2008001341A1 {'ovarian cancer', 'crohn disease', 'cervical cancer', 'lung cancer', 'alzheimer disease', 'hodgkin lymphoma', 'colon cancer', 'cystic fibrosis', 'breast cancer', 'liver cancer', 'multiple sclerosis'}\n",
      "59 AU2018202168A1 {'severe acute respiratory syndrome', 'atopic dermatitis', 'lung cancer', 'dengue virus', 'colon cancer', 'breast cancer', 'systemic lupus erythematosus', 'multiple myeloma', 'hepatitis virus', 'prostate cancer', 'multiple sclerosis', 'side effect'}\n",
      "60 WO2002038766A2 {'crohn disease', 'myasthenia gravis', 'nucleic acid molecule', 'expression vector', 'rheumatoid arthritis', 'fusion protein', 'biological sample', 'autoimmune disorder', 'multiple myeloma', 'immune system', 'tumor cell', 'multiple sclerosis'}\n",
      "61 EP3143997A2 {'crohn disease', 'severe acute respiratory syndrome', 'rheumatoid arthritis', 'alzheimer disease', 'inflammatory bowel disease', 'multiple myeloma', 'huntington disease', 'breast cancer', 'multiple sclerosis', 'parkinson disease', 'diabetes mellitus', 'chronic obstructive pulmonary disease', 'influenza virus', 'autoimmune disease', 'myasthenia gravis', 'septic shock', 'autoimmune disorder', 'viral disease', 'side effect'}\n",
      "62 WO2008138658A2 {'ovarian cancer', 'infectious disease', 'cervical cancer', 'atopic dermatitis', 'lung cancer', 'sjogren syndrome', 'human immunodeficiency virus', 'breast cancer', 'colon cancer', 'ulcerative colitis', 'ebola virus', 'liver cancer', 'autoimmune disease'}\n",
      "63 WO2001055447A1 {'isolate antibody', 'recombinant vector', 'rheumatoid arthritis', 'alzheimer disease', 'fusion protein', 'isolated nucleic acid molecule', 'biological sample', 'parkinson disease', 'autoimmune disorder', 'systemic lupus erythematosus', 'gene therapy', 'nucleotide sequence'}\n",
      "64 US20110123436A1 {'rheumatoid arthritis', 'sjogren syndrome', 'systemic lupus erythematosus', 'amyotrophic lateral sclerosis', 'lung cancer', 'hodgkin lymphoma', 'breast cancer', 'autoimmune disease', 'multiple myeloma', 'myasthenia gravis', 'infectious disease', 'colon cancer', 'diabetes mellitus', 'liver cancer', 'prostate cancer', 'ovarian cancer', 'cervical cancer', 'bladder cancer', 'pancreatic cancer', 'ulcerative colitis', 'multiple sclerosis'}\n",
      "65 US20180162835A1 {'inflammatory disease', 'crohn disease', 'amyotrophic lateral sclerosis', 'cardiovascular disease', 'bacterial infection', 'alzheimer disease', 'inflammatory bowel disease', 'huntington disease', 'parkinson disease', 'neurodegenerative disease', 'tumor cell', 'multiple sclerosis'}\n",
      "66 US20030203887A1 {'crohn disease', 'severe acute respiratory syndrome', 'amyotrophic lateral sclerosis', 'cardiovascular disease', 'rheumatoid arthritis', 'alzheimer disease', 'huntington disease', 'cystic fibrosis', 'parkinson disease', 'ulcerative colitis', 'autoimmune disorder', 'septic shock', 'multiple sclerosis'}\n",
      "67 WO2001088088A2 {'crohn disease', 'expression vector', 'rheumatoid arthritis', 'alzheimer disease', 'inflammatory bowel disease', 'nucleic acid sequence', 'huntington disease', 'parkinson disease', 'neurodegenerative disease', 'gene therapy', 'myasthenia gravis', 'nucleotide sequence'}\n",
      "68 US20160199524A1 {'ovarian cancer', 'cervical cancer', 'lung cancer', 'bladder cancer', 'colorectal cancer', 'pancreatic cancer', 'hodgkin lymphoma', 'colon cancer', 'breast cancer', 'multiple myeloma', 'liver cancer', 'prostate cancer', 'cancer cell'}\n",
      "69 US20120121730A1 {'inflammatory disease', 'crohn disease', 'severe acute respiratory syndrome', 'amyotrophic lateral sclerosis', 'alzheimer disease', 'inflammatory bowel disease', 'huntington disease', 'parkinson disease', 'ulcerative colitis', 'chronic obstructive pulmonary disease', 'autoimmune disease', 'immune system', 'multiple sclerosis', 'coronavirus infection'}\n",
      "70 US20150225432A1 {'inflammatory disease', 'crohn disease', 'infectious disease', 'rheumatoid arthritis', 'respiratory syncytial virus', 'breast cancer', 'diabetes mellitus', 'ulcerative colitis', 'chronic obstructive pulmonary disease', 'systemic lupus erythematosus', 'autoimmune disease', 'multiple sclerosis'}\n",
      "71 US20120270945A1 {'ovarian cancer', 'inflammatory disease', 'amyotrophic lateral sclerosis', 'bladder cancer', 'alzheimer disease', 'pancreatic cancer', 'liver cancer', 'colon cancer', 'ulcerative colitis', 'hepatitis virus', 'autoimmune disease'}\n",
      "72 US20170333411A1 {'crohn disease', 'severe acute respiratory syndrome', 'alzheimer disease', 'inflammatory bowel disease', 'huntington disease', 'parkinson disease', 'diabetes mellitus', 'septic shock', 'influenza virus', 'myasthenia gravis', 'chronic obstructive pulmonary disease'}\n",
      "73 WO2005016348A1 {'crohn disease', 'severe acute respiratory syndrome', 'atopic dermatitis', 'rheumatoid arthritis', 'inflammatory bowel disease', 'respiratory syncytial virus', 'cystic fibrosis', 'ulcerative colitis', 'chronic obstructive pulmonary disease', 'autoimmune disease', 'myasthenia gravis', 'multiple sclerosis'}\n",
      "74 US20170267714A1 {'ovarian cancer', 'severe acute respiratory syndrome', 'cervical cancer', 'lung cancer', 'bladder cancer', 'alzheimer disease', 'pancreatic cancer', 'colon cancer', 'breast cancer', 'parkinson disease', 'neurodegenerative disease', 'liver cancer'}\n",
      "75 US20160222010A1 {'crohn disease', 'rheumatoid arthritis', 'inflammatory bowel disease', 'sjogren syndrome', 'herpe simplex virus', 'parkinson disease', 'systemic lupus erythematosus', 'lung cancer', 'alzheimer disease', 'dengue virus', 'breast cancer', 'autoimmune disease', 'colorectal cancer', 'myasthenia gravis', 'human immunodeficiency virus', 'infectious disease', 'colon cancer', 'hepatitis virus', 'prostate cancer', 'ovarian cancer', 'cervical cancer', 'bladder cancer', 'pancreatic cancer', 'ulcerative colitis', 'multiple sclerosis'}\n",
      "76 WO2008052770A2 {'crohn disease', 'infectious disease', 'amyotrophic lateral sclerosis', 'cervical cancer', 'bladder cancer', 'alzheimer disease', 'pancreatic cancer', 'hodgkin lymphoma', 'multiple sclerosis', 'parkinson disease', 'systemic lupus erythematosus', 'ebola virus', 'myasthenia gravis', 'liver cancer', 'prostate cancer', 'autoimmune disease'}\n",
      "77 US20130022541A1 {'ovarian cancer', 'amyotrophic lateral sclerosis', 'lung cancer', 'rheumatoid arthritis', 'sjogren syndrome', 'pancreatic cancer', 'hodgkin lymphoma', 'colon cancer', 'breast cancer', 'multiple sclerosis', 'ulcerative colitis', 'diabetes mellitus', 'systemic lupus erythematosus', 'multiple myeloma', 'myasthenia gravis', 'prostate cancer', 'autoimmune disease'}\n",
      "78 US20080312294A1 {'crohn disease', 'amyotrophic lateral sclerosis', 'rheumatoid arthritis', 'inflammatory bowel disease', 'alzheimer disease', 'huntington disease', 'parkinson disease', 'ulcerative colitis', 'chronic obstructive pulmonary disease', 'myasthenia gravis', 'multiple sclerosis'}\n",
      "79 WO2008147956A2 {'ovarian cancer', 'infectious disease', 'cardiovascular disease', 'lung cancer', 'rheumatoid arthritis', 'alzheimer disease', 'colorectal cancer', 'pancreatic cancer', 'breast cancer', 'ulcerative colitis', 'systemic lupus erythematosus', 'multiple myeloma'}\n",
      "80 WO2001055168A1 {'isolate antibody', 'recombinant vector', 'rheumatoid arthritis', 'alzheimer disease', 'fusion protein', 'isolated nucleic acid molecule', 'biological sample', 'parkinson disease', 'autoimmune disorder', 'systemic lupus erythematosus', 'gene therapy', 'nucleotide sequence'}\n",
      "81 WO2007076161A2 {'crohn disease', 'lung cancer', 'bacterial infection', 'alzheimer disease', 'herpe simplex virus', 'human immunodeficiency virus', 'breast cancer', 'colon cancer', 'ebola virus', 'hepatitis virus', 'prostate cancer', 'autoimmune disease', 'side effect'}\n",
      "82 WO2007042554A2 {'infectious disease', 'parainfluenza virus', 'viral disease', 'therapeutic agent', 'respiratory syncytial virus', 'herpe simplex virus', 'dengue virus', 'hodgkin lymphoma', 'influenza virus', 'ebola virus', 'hepatitis virus', 'autoimmune disease'}\n",
      "83 WO2008145142A1 {'atopic dermatitis', 'cardiovascular disease', 'lung cancer', 'bladder cancer', 'rheumatoid arthritis', 'alzheimer disease', 'inflammatory bowel disease', 'pancreatic cancer', 'colon cancer', 'breast cancer', 'parkinson disease', 'neurodegenerative disease', 'myasthenia gravis', 'liver cancer', 'prostate cancer', 'multiple sclerosis'}\n",
      "84 FR3008408A1 {'crohn disease', 'lung cancer', 'rheumatoid arthritis', 'colorectal cancer', 'pancreatic cancer', 'hodgkin lymphoma', 'breast cancer', 'multiple myeloma', 'liver cancer', 'prostate cancer', 'multiple sclerosis'}\n",
      "85 WO2002012187A1 {'inflammatory disease', 'crohn disease', 'amyotrophic lateral sclerosis', 'rheumatoid arthritis', 'alzheimer disease', 'inflammatory bowel disease', 'huntington disease', 'cystic fibrosis', 'parkinson disease', 'septic shock', 'immune system', 'chronic obstructive pulmonary disease'}\n",
      "86 US20140271652A1 {'ovarian cancer', 'crohn disease', 'isolate antibody', 'expression vector', 'rheumatoid arthritis', 'nucleic acid sequence', 'breast cancer', 'ulcerative colitis', 'systemic lupus erythematosus', 'tumor cell', 'autoimmune disease'}\n",
      "87 WO2001055388A1 {'infectious disease', 'isolate antibody', 'nucleic acid molecule', 'recombinant vector', 'rheumatoid arthritis', 'alzheimer disease', 'fusion protein', 'isolated nucleic acid molecule', 'biological sample', 'parkinson disease', 'autoimmune disorder', 'septic shock', 'gene therapy', 'nucleotide sequence'}\n",
      "88 US20070270362A1 {'crohn disease', 'atopic dermatitis', 'rheumatoid arthritis', 'alzheimer disease', 'inflammatory bowel disease', 'cystic fibrosis', 'multiple sclerosis', 'ulcerative colitis', 'diabetes mellitus', 'chronic obstructive pulmonary disease', 'systemic lupus erythematosus', 'myasthenia gravis', 'autoimmune disease'}\n",
      "89 WO2005016349A1 {'crohn disease', 'severe acute respiratory syndrome', 'atopic dermatitis', 'dendritic cell', 'rheumatoid arthritis', 'inflammatory bowel disease', 'cystic fibrosis', 'chronic obstructive pulmonary disease', 'systemic lupus erythematosus', 'myasthenia gravis', 'multiple sclerosis'}\n",
      "90 WO2001029179A2 {'isolate antibody', 'rheumatoid arthritis', 'alzheimer disease', 'fusion protein', 'isolated nucleic acid molecule', 'biological sample', 'parkinson disease', 'autoimmune disorder', 'gene therapy', 'recombinant vector', 'immune system', 'multiple sclerosis', 'side effect'}\n",
      "91 US20170100381A1 {'crohn disease', 'severe acute respiratory syndrome', 'rheumatoid arthritis', 'alzheimer disease', 'inflammatory bowel disease', 'huntington disease', 'parkinson disease', 'diabetes mellitus', 'septic shock', 'influenza virus', 'myasthenia gravis', 'chronic obstructive pulmonary disease'}\n",
      "92 WO2008127302A2 {'inflammatory disease', 'amyotrophic lateral sclerosis', 'rheumatoid arthritis', 'alzheimer disease', 'huntington disease', 'parkinson disease', 'diabetes mellitus', 'systemic lupus erythematosus', 'autoimmune disease', 'multiple sclerosis', 'side effect'}\n",
      "93 US20160340692A1 {'ovarian cancer', 'lung cancer', 'dendritic cell', 'bladder cancer', 'pancreatic cancer', 'colon cancer', 'breast cancer', 'colorectal cancer', 'liver cancer', 'prostate cancer', 'side effect'}\n",
      "94 US20160229833A1 {'crohn disease', 'inflammatory disease', 'amyotrophic lateral sclerosis', 'cardiovascular disease', 'bacterial infection', 'alzheimer disease', 'inflammatory bowel disease', 'huntington disease', 'parkinson disease', 'neurodegenerative disease', 'tumor cell', 'multiple sclerosis'}\n",
      "95 US20160229864A1 {'inflammatory disease', 'crohn disease', 'amyotrophic lateral sclerosis', 'cardiovascular disease', 'bacterial infection', 'alzheimer disease', 'inflammatory bowel disease', 'huntington disease', 'parkinson disease', 'neurodegenerative disease', 'tumor cell', 'multiple sclerosis'}\n",
      "96 WO2004091578A2 {'ovarian cancer', 'crohn disease', 'cervical cancer', 'bacterial infection', 'alzheimer disease', 'inflammatory bowel disease', 'pancreatic cancer', 'breast cancer', 'parkinson disease', 'autoimmune disorder', 'colorectal cancer', 'myasthenia gravis', 'prostate cancer', 'multiple sclerosis'}\n",
      "97 WO2002069949A2 {'ovarian cancer', 'cervical cancer', 'lung cancer', 'bacterial infection', 'bladder cancer', 'pancreatic cancer', 'colon cancer', 'breast cancer', 'liver cancer', 'prostate cancer', 'coronavirus infection'}\n",
      "98 WO2008149244A2 {'inflammatory disease', 'infectious disease', 'amyotrophic lateral sclerosis', 'cardiovascular disease', 'alzheimer disease', 'sjogren syndrome', 'inflammatory bowel disease', 'huntington disease', 'parkinson disease', 'neurodegenerative disease', 'autoimmune disease'}\n",
      "99 WO2008116156A2 {'crohn disease', 'bacterial infection', 'rheumatoid arthritis', 'inflammatory bowel disease', 'sjogren syndrome', 'hodgkin lymphoma', 'neurodegenerative disease', 'chronic obstructive pulmonary disease', 'autoimmune disorder', 'myasthenia gravis', 'multiple sclerosis'}\n"
     ]
    }
   ],
   "source": [
    "count=0\n",
    "for (k,v) in test_set_dict.items():\n",
    "    print(count, k,v)\n",
    "    count+=1\n",
    "\n",
    "    len(test_set_dict)"
   ]
  },
  {
   "cell_type": "code",
   "execution_count": 11,
   "id": "16cb77d6",
   "metadata": {},
   "outputs": [],
   "source": [
    "candidate_embeddings = model.encode(kw_list)"
   ]
  },
  {
   "cell_type": "code",
   "execution_count": 12,
   "id": "7b9d1883",
   "metadata": {},
   "outputs": [
    {
     "data": {
      "text/plain": [
       "(77, 768)"
      ]
     },
     "execution_count": 12,
     "metadata": {},
     "output_type": "execute_result"
    }
   ],
   "source": [
    "candidate_embeddings.shape"
   ]
  },
  {
   "cell_type": "code",
   "execution_count": 13,
   "id": "8577e1e7",
   "metadata": {},
   "outputs": [],
   "source": [
    "def assign_kw_based_on_embeddin(model, test_set, candidates, n):\n",
    "    dict_result=dict()\n",
    "    r = []\n",
    "    p = []\n",
    "    p_len = []\n",
    "    hit = 0\n",
    "    lst_preds=[]\n",
    "    \n",
    "    candidate_embeddings=model.encode(candidates)\n",
    "    \n",
    "    for (k,v) in test_set.items():\n",
    "        #print(k,v)\n",
    "        row=data.df_full_text.loc[data.df_full_text['PPID'] == k]\n",
    "        #row=data_id_tit_abs_clm.loc[data_id_tit_abs_clm['PPID'] == k]\n",
    "        tien=row['TIEN'].iloc[0]\n",
    "        aben=row['ABEN'].iloc[0]\n",
    "        clmen=row['CLMEN'].iloc[0]\n",
    "        text=[tien+aben+clmen]\n",
    "        \n",
    "        \n",
    "        row_np=data_id_tit_abs_clm.loc[data_id_tit_abs_clm['PPID'] == k]\n",
    "        \n",
    "        tien_np=row_np['TIEN'].iloc[0]\n",
    "        aben_np=row_np['ABEN'].iloc[0]\n",
    "        clmen_np=row_np['CLMEN'].iloc[0]\n",
    "        detden_np=row_np['DETDEN'].iloc[0]\n",
    "        \n",
    "        set_full_kws=set(itertools.chain(util.literal_eval(tien_np), util.literal_eval(aben_np),util.literal_eval(clmen_np),util.literal_eval(detden_np)))\n",
    "\n",
    "        if len(text)> max_len_token:\n",
    "            doc_embedding = encoding_pipeline.get_vec_long_text(text, model)\n",
    "        else:\n",
    "            doc_embedding = model.encode(text)\n",
    "    \n",
    "        distances = cosine_similarity(doc_embedding, candidate_embeddings)\n",
    "      \n",
    "        \n",
    "        keywords = [candidates[index] for index in distances.argsort()[0]]\n",
    "\n",
    "        keywords = [kw for kw in keywords if kw in set_full_kws][:n]\n",
    "\n",
    "        \n",
    "        \n",
    "        recall_score = evaluation_metrics.recall_at_N(v, keywords, n)\n",
    "        precision= evaluation_metrics.precision_at_N( v, keywords)\n",
    "\n",
    "        r.append(recall_score)\n",
    "\n",
    "        if len(set(keywords))>0:\n",
    "            p.append(precision)\n",
    "            p_len.append(len(set(keywords)))\n",
    "\n",
    "        #hit += len(set(set_gt_decoded) & set(pred_post))\n",
    "    \n",
    "    print(\"precision\", np.mean(p))\n",
    "    print(\"recall\", np.mean(r))\n",
    "    print('f_score:', evaluation_metrics.f_score(np.mean(p), np.mean(r)) )\n",
    "    #p=[x for x in p if x>0]\n",
    "    #print(\"precision after removing zeros\", np.mean(p))\n",
    "    #print('f1 after removing :', f_score(np.mean(p), np.mean(r)) )"
   ]
  },
  {
   "cell_type": "code",
   "execution_count": 14,
   "id": "417477c4",
   "metadata": {},
   "outputs": [
    {
     "name": "stdout",
     "output_type": "stream",
     "text": [
      "precision 0.572\n",
      "recall 0.4320704883981973\n",
      "f_score: 0.492284799163932\n"
     ]
    }
   ],
   "source": [
    "n=10\n",
    "assign_kw_based_on_embeddin(model, test_set_dict, kw_list, n)"
   ]
  },
  {
   "cell_type": "code",
   "execution_count": 15,
   "id": "1230a332",
   "metadata": {},
   "outputs": [
    {
     "name": "stdout",
     "output_type": "stream",
     "text": [
      "precision 0.5642234432234432\n",
      "recall 0.634145546421243\n",
      "f_score: 0.5971445970288207\n"
     ]
    }
   ],
   "source": [
    "n=15\n",
    "assign_kw_based_on_embeddin(model, test_set_dict, kw_list, n)"
   ]
  },
  {
   "cell_type": "code",
   "execution_count": 16,
   "id": "a388376d",
   "metadata": {},
   "outputs": [
    {
     "name": "stdout",
     "output_type": "stream",
     "text": [
      "precision 0.5511065271587717\n",
      "recall 0.770720197452473\n",
      "f_score: 0.6426696079307608\n"
     ]
    }
   ],
   "source": [
    "n=20\n",
    "assign_kw_based_on_embeddin(model, test_set_dict, kw_list, n)"
   ]
  }
 ],
 "metadata": {
  "kernelspec": {
   "display_name": "Python [conda env:snorkel_env_keyterm_clone]",
   "language": "python",
   "name": "conda-env-snorkel_env_keyterm_clone-py"
  },
  "language_info": {
   "codemirror_mode": {
    "name": "ipython",
    "version": 3
   },
   "file_extension": ".py",
   "mimetype": "text/x-python",
   "name": "python",
   "nbconvert_exporter": "python",
   "pygments_lexer": "ipython3",
   "version": "3.6.12"
  }
 },
 "nbformat": 4,
 "nbformat_minor": 5
}
