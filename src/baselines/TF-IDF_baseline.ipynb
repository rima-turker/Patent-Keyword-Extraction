{
 "cells": [
  {
   "cell_type": "code",
   "execution_count": 49,
   "id": "d6aa70a0",
   "metadata": {},
   "outputs": [],
   "source": [
    "import warnings\n",
    "warnings.filterwarnings('ignore')\n",
    "warnings.filterwarnings('ignore', category=DeprecationWarning)\n",
    "warnings.filterwarnings('ignore', category=FutureWarning)\n",
    "\n",
    "import os\n",
    "os.environ['TF_CPP_MIN_LOG_LEVEL'] = '2'\n",
    "from sentence_transformers import SentenceTransformer\n",
    "\n",
    "\n",
    "import sys\n",
    "sys.path.append(\"/home/rtue/playground/jupyter-notebook/workspace/codes\")\n",
    "sys.path.append(\"/home/rtue/playground/jupyter-notebook/\")\n",
    "sys.path.append(\"/home/rtue/playground/python_projects/tool_keaml/src/utils\")\n",
    "import util, evaluation_metrics\n",
    "from training_data.data_prepare import DataPrepare\n",
    "import prepare_input_for_YouTubeDNN as prepare_input_for_dnn\n",
    "\n",
    "import ast\n",
    "import pandas as pd\n",
    "from termcolor import colored\n",
    "import numpy as np\n",
    "from sklearn.feature_extraction.text import TfidfVectorizer,CountVectorizer,TfidfTransformer"
   ]
  },
  {
   "cell_type": "code",
   "execution_count": 50,
   "id": "d540b9b7",
   "metadata": {},
   "outputs": [],
   "source": [
    "path_dw_id_kw='/home/rtue/playground/python_projects/resources/df_np_id_kw.csv'\n",
    "path_dw_id_tit_abst_claim ='/home/rtue/playground/python_projects/resources/df_np_id_tit_abst_claim_detden.csv'"
   ]
  },
  {
   "cell_type": "code",
   "execution_count": 51,
   "id": "922d0f62",
   "metadata": {},
   "outputs": [],
   "source": [
    "f_name_test_dict='/home/rtue/playground/jupyter-notebook/obj/77_kws/train_test_sets/test_set_dict'\n",
    "#/77_kws/train_test_sets/test_set_dict_30_de_20220222-144213'\n",
    "#test_set_dict_10_de_20220222-134947'\n",
    "#test_set_dict_above_70_de_20220221-175613'\n",
    "# test_set_dict_30_de_20220222-144213\n",
    "\n",
    "test_set_dict=util.load_obj(f_name_test_dict)"
   ]
  },
  {
   "cell_type": "code",
   "execution_count": 8,
   "id": "bafa5f8b",
   "metadata": {},
   "outputs": [],
   "source": [
    "n_less_occ_th=100"
   ]
  },
  {
   "cell_type": "code",
   "execution_count": 9,
   "id": "ae208bd9",
   "metadata": {},
   "outputs": [
    {
     "name": "stdout",
     "output_type": "stream",
     "text": [
      "DataPrepare object has the following properties:\n",
      " df_full_text, dict_full_text, df_der_text, dict_der_text\n"
     ]
    }
   ],
   "source": [
    "data=DataPrepare()\n",
    "\n",
    "data.set_der_abst()\n",
    "data.set_full_text()"
   ]
  },
  {
   "cell_type": "code",
   "execution_count": 10,
   "id": "4494c613",
   "metadata": {},
   "outputs": [],
   "source": [
    "rows=[]\n",
    "for (k,v) in test_set_dict.items():\n",
    "    rows.append([k,data.dict_der_text[k],list(v)])\n",
    "    \n",
    "\n",
    "df = pd.DataFrame(rows, columns=[\"PPID\",\"DWPI_ABSTRACT\", \"KEYWORD\"]) \n",
    "df.to_csv('df_test.csv',sep='\\t', index=False)"
   ]
  },
  {
   "cell_type": "code",
   "execution_count": 11,
   "id": "343cde4a",
   "metadata": {},
   "outputs": [],
   "source": [
    "df_tmp=pd.read_csv('df_test.csv',sep='\\t', error_bad_lines=False)"
   ]
  },
  {
   "cell_type": "code",
   "execution_count": 12,
   "id": "e4102f9f",
   "metadata": {},
   "outputs": [],
   "source": [
    "df_tmp_ft=pd.read_csv('df_test_fulltext.csv',sep='\\t', error_bad_lines=False)"
   ]
  },
  {
   "cell_type": "code",
   "execution_count": 13,
   "id": "b0039875",
   "metadata": {},
   "outputs": [
    {
     "data": {
      "text/plain": [
       "\"['pancreatic cancer', 'breast cancer', 'alzheimer disease', 'prostate cancer', 'ovarian cancer', 'systemic lupus erythematosus', 'crohn disease', 'therapeutic agent', 'bladder cancer', 'multiple sclerosis', 'lung cancer', 'autoimmune disease', 'rheumatoid arthritis', 'liver cancer', 'ulcerative colitis', 'sjogren syndrome', 'cancer cell', 'colon cancer', 'neurodegenerative disease', 'myasthenia gravis']\""
      ]
     },
     "execution_count": 13,
     "metadata": {},
     "output_type": "execute_result"
    }
   ],
   "source": [
    "df_tmp_ft[df_tmp_ft['PPID']=='US20120276100A1']['KEYWORD'].iloc[0]"
   ]
  },
  {
   "cell_type": "code",
   "execution_count": 14,
   "id": "67237747",
   "metadata": {},
   "outputs": [
    {
     "data": {
      "text/plain": [
       "\"A dock and lock (DNL) construct comprising an ribonuclease (RNase) attached to a dimerization and docking domain (DDD) moiety from human protein kinase A (PKA) RI- alpha , RI- beta , RII- alpha or RII- beta , and an antibody or antigen binding antibody fragment attached to an anchoring domain (AD) moiety from an A-kinase anchoring proteins (AKAP), where two copies of the DDD moiety form a dimer and bind to the AD moiety to form the DNL construct, is new.The DNL construct is useful for treating a disease by administering DNL construct in a subject, where the disease is chosen from cancer, immune dysfunction and autoimmune disease. The cancer is chosen from non-Hodgkin's lymphoma, B cell lymphoma, B cell leukemia, T cell lymphoma, T cell leukemia, acute lymphoid leukemia, chronic lymphoid leukemia, Burkitt's lymphoma, Hodgkin's lymphoma, hairy cell leukemia, acute myeloid leukemia, chronic myeloid leukemia, multiple myeloma, glioma, Waldenstrom's macroglobulinemia, carcinoma, melanoma, sarcoma, skin cancer, oral cavity cancer, gastrointestinal tract cancer, colon cancer, stomach cancer, pulmonary tract cancer, lung cancer, breast cancer, ovarian cancer, prostate cancer, uterine cancer, endometrial cancer, cervical cancer, urinary bladder cancer, pancreatic cancer, bone cancer, liver cancer, gall bladder cancer, kidney cancer, and testicular cancer. The autoimmune disease is chosen from acute idiopathic thrombocytopenic purpura, chronic idiopathic thrombocytopenic purpura, dermatomyositis, Sydenham's chorea, myasthenia gravis, systemic lupus erythematosus, lupus nephritis, rheumatic fever, polyglandular syndromes, bullous pemphigoid, diabetes mellitus, Henoch-Schonlein purpura, post-streptococcal nephritis, erythema nodosum, Takayasu's arteritis, Addison's disease, rheumatoid arthritis, multiple sclerosis, sarcoidosis, ulcerative colitis, erythema multiforme, immunoglobulin A nephropathy, polyarteritis nodosa, ankylosing spondylitis, Goodpasture's syndrome, thromboangitis obliterans, Sjogren's syndrome, primary biliary cirrhosis, Hashimoto's thyroiditis, thyrotoxicosis, scleroderma, chronic active hepatitis, polymyositis/dermatomyositis, polychondritis, pemphigus vulgaris, Wegener's granulomatosis, membranous nephropathy, amyotrophic lateral sclerosis, tabes dorsalis, giant cell arteritis/polymyalgia, pernicious anemia, rapidly progressive glomerulonephritis, psoriasis, and fibrosing alveolitis (all claimed).The DNL construct is non-toxic to normal cells.An INDEPENDENT CLAIM is included for fusion protein, which comprises a protein toxin attached to DDD moiety from human protein kinase A (PKA) RI- alpha , RI- beta , RII- alpha or RII- beta .\""
      ]
     },
     "execution_count": 14,
     "metadata": {},
     "output_type": "execute_result"
    }
   ],
   "source": [
    "df_tmp[df_tmp['PPID']=='US20120276100A1']['DWPI_ABSTRACT'].iloc[0]"
   ]
  },
  {
   "cell_type": "code",
   "execution_count": 17,
   "id": "d37776a1",
   "metadata": {},
   "outputs": [
    {
     "data": {
      "text/html": [
       "<div>\n",
       "<style scoped>\n",
       "    .dataframe tbody tr th:only-of-type {\n",
       "        vertical-align: middle;\n",
       "    }\n",
       "\n",
       "    .dataframe tbody tr th {\n",
       "        vertical-align: top;\n",
       "    }\n",
       "\n",
       "    .dataframe thead th {\n",
       "        text-align: right;\n",
       "    }\n",
       "</style>\n",
       "<table border=\"1\" class=\"dataframe\">\n",
       "  <thead>\n",
       "    <tr style=\"text-align: right;\">\n",
       "      <th></th>\n",
       "      <th>PPID</th>\n",
       "      <th>TIEN</th>\n",
       "      <th>ABEN</th>\n",
       "      <th>CLMEN</th>\n",
       "      <th>DETDEN</th>\n",
       "    </tr>\n",
       "  </thead>\n",
       "  <tbody>\n",
       "    <tr>\n",
       "      <th>0</th>\n",
       "      <td>KR99044039A</td>\n",
       "      <td>Retrovirus packaging system</td>\n",
       "      <td>['The invention provides a novel retroviral pa...</td>\n",
       "      <td>[\"Recombinant Retrovirus in human cells for pr...</td>\n",
       "      <td>['The present invention refers to novel Retrov...</td>\n",
       "    </tr>\n",
       "    <tr>\n",
       "      <th>1</th>\n",
       "      <td>KR2002003917A</td>\n",
       "      <td>FUSION PROTEIN OF TAG PROTEIN AND HUMAN INTERL...</td>\n",
       "      <td>['PURPOSE: A fusion protein of tag protein and...</td>\n",
       "      <td>['Thioredoxin (thioredoxin) region, to Proteol...</td>\n",
       "      <td>['Figure 1 shows a also C-terminal secretion i...</td>\n",
       "    </tr>\n",
       "    <tr>\n",
       "      <th>2</th>\n",
       "      <td>CN110088285A</td>\n",
       "      <td>SPATIOTEMPORAL REGULATORS</td>\n",
       "      <td>['Provided herein, in some embodiments, are me...</td>\n",
       "      <td>[\". Engineered genetic construct It comprises ...</td>\n",
       "      <td>['Related application', '@datdatdatas accordin...</td>\n",
       "    </tr>\n",
       "    <tr>\n",
       "      <th>3</th>\n",
       "      <td>CN111378048A</td>\n",
       "      <td>Antibody-peptide bispecific immunotherapeutic ...</td>\n",
       "      <td>['The invention belongs to the technical field...</td>\n",
       "      <td>['.A fusion protein characterized in that the ...</td>\n",
       "      <td>['Technical Field', 'The invention belongs to ...</td>\n",
       "    </tr>\n",
       "    <tr>\n",
       "      <th>4</th>\n",
       "      <td>CN107532214A</td>\n",
       "      <td>METHODS FOR DIAGNOSIS OF SEPSIS</td>\n",
       "      <td>['Methods for diagnosis of sepsis are disclose...</td>\n",
       "      <td>['. A method for diagnosing a subject method o...</td>\n",
       "      <td>['With regard to the Federal-SPONSORED researc...</td>\n",
       "    </tr>\n",
       "  </tbody>\n",
       "</table>\n",
       "</div>"
      ],
      "text/plain": [
       "            PPID                                               TIEN  \\\n",
       "0    KR99044039A                        Retrovirus packaging system   \n",
       "1  KR2002003917A  FUSION PROTEIN OF TAG PROTEIN AND HUMAN INTERL...   \n",
       "2   CN110088285A                          SPATIOTEMPORAL REGULATORS   \n",
       "3   CN111378048A  Antibody-peptide bispecific immunotherapeutic ...   \n",
       "4   CN107532214A                    METHODS FOR DIAGNOSIS OF SEPSIS   \n",
       "\n",
       "                                                ABEN  \\\n",
       "0  ['The invention provides a novel retroviral pa...   \n",
       "1  ['PURPOSE: A fusion protein of tag protein and...   \n",
       "2  ['Provided herein, in some embodiments, are me...   \n",
       "3  ['The invention belongs to the technical field...   \n",
       "4  ['Methods for diagnosis of sepsis are disclose...   \n",
       "\n",
       "                                               CLMEN  \\\n",
       "0  [\"Recombinant Retrovirus in human cells for pr...   \n",
       "1  ['Thioredoxin (thioredoxin) region, to Proteol...   \n",
       "2  [\". Engineered genetic construct It comprises ...   \n",
       "3  ['.A fusion protein characterized in that the ...   \n",
       "4  ['. A method for diagnosing a subject method o...   \n",
       "\n",
       "                                              DETDEN  \n",
       "0  ['The present invention refers to novel Retrov...  \n",
       "1  ['Figure 1 shows a also C-terminal secretion i...  \n",
       "2  ['Related application', '@datdatdatas accordin...  \n",
       "3  ['Technical Field', 'The invention belongs to ...  \n",
       "4  ['With regard to the Federal-SPONSORED researc...  "
      ]
     },
     "execution_count": 17,
     "metadata": {},
     "output_type": "execute_result"
    }
   ],
   "source": [
    "data.df_full_text.head()"
   ]
  },
  {
   "cell_type": "code",
   "execution_count": 18,
   "id": "609ce096",
   "metadata": {},
   "outputs": [
    {
     "name": "stdout",
     "output_type": "stream",
     "text": [
      "rows_with_NaN: Empty DataFrame\n",
      "Columns: [PPID, KEYWORD]\n",
      "Index: []\n",
      "rows_with_NaN: Empty DataFrame\n",
      "Columns: [PPID, TIEN, ABEN, CLMEN, DETDEN]\n",
      "Index: []\n",
      "data_kw is merged version and len(data_kw): 271137\n"
     ]
    }
   ],
   "source": [
    "data_id_kw, data_id_tit_abs_clm, data_kw=util.read_dataset(path_dw_id_kw, path_dw_id_tit_abst_claim)"
   ]
  },
  {
   "cell_type": "code",
   "execution_count": 19,
   "id": "2388fd07",
   "metadata": {},
   "outputs": [
    {
     "data": {
      "text/html": [
       "<div>\n",
       "<style scoped>\n",
       "    .dataframe tbody tr th:only-of-type {\n",
       "        vertical-align: middle;\n",
       "    }\n",
       "\n",
       "    .dataframe tbody tr th {\n",
       "        vertical-align: top;\n",
       "    }\n",
       "\n",
       "    .dataframe thead th {\n",
       "        text-align: right;\n",
       "    }\n",
       "</style>\n",
       "<table border=\"1\" class=\"dataframe\">\n",
       "  <thead>\n",
       "    <tr style=\"text-align: right;\">\n",
       "      <th></th>\n",
       "      <th>PPID</th>\n",
       "      <th>TIEN</th>\n",
       "      <th>ABEN</th>\n",
       "      <th>CLMEN</th>\n",
       "      <th>DETDEN</th>\n",
       "    </tr>\n",
       "  </thead>\n",
       "  <tbody>\n",
       "    <tr>\n",
       "      <th>0</th>\n",
       "      <td>CN103627821A</td>\n",
       "      <td>{'rt-lamp nucleic acid test strip', 'transmiss...</td>\n",
       "      <td>{'rt-lamp nucleic acid test strip', 'loopb pri...</td>\n",
       "      <td>{'loopb primer', 'porcine transmissible gastro...</td>\n",
       "      <td>{'lamp', 'agarose gel electrophoresis', 'optim...</td>\n",
       "    </tr>\n",
       "    <tr>\n",
       "      <th>1</th>\n",
       "      <td>US20140121990A1</td>\n",
       "      <td>{'genomic-enabled medicine', 'informatic infra...</td>\n",
       "      <td>{'generic computational technique', 'fully seq...</td>\n",
       "      <td>{'match', 'base protocol', 'pharmaceutical dru...</td>\n",
       "      <td>{'deployment', 'error', 'usc', 'pppmt', 'speci...</td>\n",
       "    </tr>\n",
       "    <tr>\n",
       "      <th>2</th>\n",
       "      <td>WO2014064534A2</td>\n",
       "      <td>{'immunogenic composition', 'injection needle'}</td>\n",
       "      <td>{'needle assembly', 'immune response', 'active...</td>\n",
       "      <td>{'polynucleotide encoding', 'polynucleotide', ...</td>\n",
       "      <td>{'percent', 'clearance', 'ross goose avihepadn...</td>\n",
       "    </tr>\n",
       "    <tr>\n",
       "      <th>3</th>\n",
       "      <td>WO2014070975A1</td>\n",
       "      <td>{'theil disease', 'flavivirus'}</td>\n",
       "      <td>{'theiler disease-associated virus', 'disease'...</td>\n",
       "      <td>{'host cell', 'seq ed nos', 'nucleotide', 'seq...</td>\n",
       "      <td>{'lysosensor', 'monobody', 'usa', 'serum plasm...</td>\n",
       "    </tr>\n",
       "    <tr>\n",
       "      <th>4</th>\n",
       "      <td>US20140127259A1</td>\n",
       "      <td>{'cattle'}</td>\n",
       "      <td>{'heifer', 'cow', 'vaccinate cattle', 'against...</td>\n",
       "      <td>{'modify live virus', 'immunogenic composition...</td>\n",
       "      <td>{'tissue culture', 'hydroxyl group', 'sample v...</td>\n",
       "    </tr>\n",
       "  </tbody>\n",
       "</table>\n",
       "</div>"
      ],
      "text/plain": [
       "              PPID                                               TIEN  \\\n",
       "0     CN103627821A  {'rt-lamp nucleic acid test strip', 'transmiss...   \n",
       "1  US20140121990A1  {'genomic-enabled medicine', 'informatic infra...   \n",
       "2   WO2014064534A2    {'immunogenic composition', 'injection needle'}   \n",
       "3   WO2014070975A1                    {'theil disease', 'flavivirus'}   \n",
       "4  US20140127259A1                                         {'cattle'}   \n",
       "\n",
       "                                                ABEN  \\\n",
       "0  {'rt-lamp nucleic acid test strip', 'loopb pri...   \n",
       "1  {'generic computational technique', 'fully seq...   \n",
       "2  {'needle assembly', 'immune response', 'active...   \n",
       "3  {'theiler disease-associated virus', 'disease'...   \n",
       "4  {'heifer', 'cow', 'vaccinate cattle', 'against...   \n",
       "\n",
       "                                               CLMEN  \\\n",
       "0  {'loopb primer', 'porcine transmissible gastro...   \n",
       "1  {'match', 'base protocol', 'pharmaceutical dru...   \n",
       "2  {'polynucleotide encoding', 'polynucleotide', ...   \n",
       "3  {'host cell', 'seq ed nos', 'nucleotide', 'seq...   \n",
       "4  {'modify live virus', 'immunogenic composition...   \n",
       "\n",
       "                                              DETDEN  \n",
       "0  {'lamp', 'agarose gel electrophoresis', 'optim...  \n",
       "1  {'deployment', 'error', 'usc', 'pppmt', 'speci...  \n",
       "2  {'percent', 'clearance', 'ross goose avihepadn...  \n",
       "3  {'lysosensor', 'monobody', 'usa', 'serum plasm...  \n",
       "4  {'tissue culture', 'hydroxyl group', 'sample v...  "
      ]
     },
     "execution_count": 19,
     "metadata": {},
     "output_type": "execute_result"
    }
   ],
   "source": [
    "data_id_tit_abs_clm.head()"
   ]
  },
  {
   "cell_type": "code",
   "execution_count": 20,
   "id": "f8e7a67d",
   "metadata": {},
   "outputs": [
    {
     "name": "stdout",
     "output_type": "stream",
     "text": [
      "occurance dictionary len: 79450\n"
     ]
    }
   ],
   "source": [
    "dict_occ_kw=util.get_occurance_dict(data_kw,['KEYWORD'])"
   ]
  },
  {
   "cell_type": "code",
   "execution_count": 21,
   "id": "a82ea517",
   "metadata": {},
   "outputs": [],
   "source": [
    "list_ele_1=util.get_list_ele_len_less_than(dict_occ_kw)\n",
    "list_ele_2=util.get_list_ele_occ_less_than(dict_occ_kw, n_less_occ_th)\n",
    "list_ele_3 = util.get_list_pha_len_less(dict_occ_kw)\n",
    "list_ele_4 = util.get_list_ele_occ_more_than(dict_occ_kw)\n",
    "lst_all=set(list_ele_1 + list_ele_2+list_ele_3+list_ele_4)"
   ]
  },
  {
   "cell_type": "code",
   "execution_count": 22,
   "id": "b2ede1ff",
   "metadata": {},
   "outputs": [
    {
     "name": "stdout",
     "output_type": "stream",
     "text": [
      "removing rows from the df\n",
      "occurance dictionary len: 77\n"
     ]
    }
   ],
   "source": [
    "data_kw=util.remove_rows_contain_kw_in_list(lst_all, data_kw)\n",
    "dict_occ_kw_clean=util.get_occurance_dict(data_kw,['KEYWORD'])"
   ]
  },
  {
   "cell_type": "code",
   "execution_count": 23,
   "id": "0908cfb1",
   "metadata": {},
   "outputs": [],
   "source": [
    "set_p_ids_all=set(data_kw['PPID'])"
   ]
  },
  {
   "cell_type": "code",
   "execution_count": 24,
   "id": "4ae3bbd5",
   "metadata": {},
   "outputs": [],
   "source": [
    "def space_to_underscore(list_):\n",
    "    result=[]\n",
    "    for e in list_:\n",
    "        result+=[e.replace(\" \", \"_\")]\n",
    "    return result"
   ]
  },
  {
   "cell_type": "code",
   "execution_count": 25,
   "id": "f2713b1c",
   "metadata": {},
   "outputs": [],
   "source": [
    "def get_tf_idf(corpus,df_min):\n",
    "    vectorizer = TfidfVectorizer( token_pattern=r\"(?u)\\S\\S+\",min_df=df_min)\n",
    "    X = vectorizer.fit_transform(corpus)\n",
    "    feature_names = vectorizer.get_feature_names()\n",
    "    return X, vectorizer"
   ]
  },
  {
   "cell_type": "code",
   "execution_count": 26,
   "id": "6bc9fb5c",
   "metadata": {},
   "outputs": [],
   "source": [
    "def get_doc_as_string_for_tf_idf(id_):\n",
    "    row=data_kw.loc[data_kw['PPID']==id_]\n",
    "    tien=list(literal_eval(row['TIEN'].iloc[0]))\n",
    "    aben=list(literal_eval(row['ABEN'].iloc[0]))\n",
    "    clm=list(literal_eval(row['CLMEN'].iloc[0]))\n",
    "\n",
    "    detden=list(literal_eval(row['DETDEN'].iloc[0]))\n",
    "    lst_all=space_to_underscore(tien+aben+clm)\n",
    "    #lst_all=space_to_underscore(tien+aben+clm+detden)\n",
    "    doc=\" \".join([str(item) for item in lst_all])\n",
    "    return doc"
   ]
  },
  {
   "cell_type": "code",
   "execution_count": 18,
   "id": "414418a5",
   "metadata": {},
   "outputs": [],
   "source": [
    "#prepare_corpus_for_tf_idf(set(test_set_dict.keys()))"
   ]
  },
  {
   "cell_type": "code",
   "execution_count": 27,
   "id": "3862377c",
   "metadata": {},
   "outputs": [],
   "source": [
    "def filter_np(lst_filtered_np, lst_to_be_filtered):\n",
    "    return [e for e in lst_to_be_filtered if e in lst_filtered_np]"
   ]
  },
  {
   "cell_type": "code",
   "execution_count": 28,
   "id": "646a6215",
   "metadata": {},
   "outputs": [],
   "source": [
    "def prepare_corpus_for_tf_idf(set_ids):\n",
    "    docs=dict()\n",
    "    corpus=[]\n",
    "    for i, id_ in enumerate(set_ids):\n",
    "        doc=get_doc_as_string_for_tf_idf(id_)\n",
    "        docs[id_]=doc\n",
    "        corpus+=[doc]\n",
    "    print('len corpus:', len(corpus))\n",
    "    return corpus, docs\n",
    "#print(feature_names)"
   ]
  },
  {
   "cell_type": "code",
   "execution_count": 29,
   "id": "ed3ac6bc",
   "metadata": {},
   "outputs": [
    {
     "name": "stdout",
     "output_type": "stream",
     "text": [
      "len corpus: 100\n",
      "len corpus: 5256\n"
     ]
    }
   ],
   "source": [
    "#corpus_all=prepare_corpus_for_tf_idf(set_ids_all)\n",
    "corpus_test, docs_ids_test =prepare_corpus_for_tf_idf(set(test_set_dict.keys()))\n",
    "corpus_train, docs_ids_train = prepare_corpus_for_tf_idf(set_p_ids_all-set(test_set_dict.keys()))"
   ]
  },
  {
   "cell_type": "code",
   "execution_count": 31,
   "id": "cfb3933d",
   "metadata": {},
   "outputs": [
    {
     "data": {
      "text/plain": [
       "396"
      ]
     },
     "execution_count": 31,
     "metadata": {},
     "output_type": "execute_result"
    }
   ],
   "source": [
    "len(data_id_tit_abs_clm[data_id_tit_abs_clm['PPID']=='FR3050455A1']['ABEN'].iloc[0])"
   ]
  },
  {
   "cell_type": "code",
   "execution_count": 33,
   "id": "90dbf125",
   "metadata": {},
   "outputs": [],
   "source": [
    "def precision_N_post(y_true, y_pred):\n",
    "   # print(colored(sorted(y_true), 'red'))\n",
    "    #print(colored(sorted(y_pred), 'green'))\n",
    "    #print(colored((set(y_pred) & set(y_true)), 'blue'))\n",
    "    #sys.exit()\n",
    "    if len(set(y_pred))==0:\n",
    "        return 0\n",
    "\n",
    "    p=len(set(y_pred) & set(y_true)) * 1.0 / len(set(y_pred))\n",
    "    if p==0:\n",
    "        #print('y_pred',y_pred)\n",
    "        #print('\\n')\n",
    "        #print('y_true',y_true)\n",
    "        #print('\\n\\n\\n')\n",
    "        return 0\n",
    "    #print(len(set(y_pred) & set(y_true)) * 1.0 / len(set(y_pred)))\n",
    "    #print(y_pred)\n",
    "    #print('\\n')\n",
    "    #print(y_true)\n",
    "    #print('\\n\\n\\n')\n",
    "    return p"
   ]
  },
  {
   "cell_type": "code",
   "execution_count": 34,
   "id": "e3f08184",
   "metadata": {},
   "outputs": [],
   "source": [
    "def recall_N_post(y_true, y_pred, N):\n",
    "    #print(colored(y_true, 'red'))\n",
    "    #print(colored(y_pred, 'green'))\n",
    "    #print(colored((set(y_pred[:N]) & set(y_true)), 'blue'))\n",
    "   \n",
    "    return len(set(y_pred[:N]) & set(y_true)) * 1.0 / len(y_true)"
   ]
  },
  {
   "cell_type": "code",
   "execution_count": 35,
   "id": "92e29b52",
   "metadata": {},
   "outputs": [],
   "source": [
    "def get_top_tf_idf_words(response, vectorizer, n=10):\n",
    "    feature_array = np.array(vectorizer.get_feature_names())\n",
    "    tfidf_sorting = np.argsort(response.toarray()).flatten()[::-1]\n",
    "    top_n = feature_array[tfidf_sorting][:n]\n",
    "    return top_n"
   ]
  },
  {
   "cell_type": "code",
   "execution_count": 37,
   "id": "a85d4ab0",
   "metadata": {},
   "outputs": [],
   "source": [
    "X, vectorizer=get_tf_idf(corpus_train, df_min=50)\n",
    "feature_names = vectorizer.get_feature_names()"
   ]
  },
  {
   "cell_type": "code",
   "execution_count": 38,
   "id": "074150a0",
   "metadata": {},
   "outputs": [
    {
     "data": {
      "text/plain": [
       "1012"
      ]
     },
     "execution_count": 38,
     "metadata": {},
     "output_type": "execute_result"
    }
   ],
   "source": [
    "len(feature_names)"
   ]
  },
  {
   "cell_type": "code",
   "execution_count": 39,
   "id": "a245f128",
   "metadata": {},
   "outputs": [],
   "source": [
    "kws_considered=space_to_underscore(list(dict_occ_kw_clean.keys()))"
   ]
  },
  {
   "cell_type": "code",
   "execution_count": 40,
   "id": "1f77a048",
   "metadata": {},
   "outputs": [
    {
     "data": {
      "text/plain": [
       "77"
      ]
     },
     "execution_count": 40,
     "metadata": {},
     "output_type": "execute_result"
    }
   ],
   "source": [
    "len(kws_considered)"
   ]
  },
  {
   "cell_type": "code",
   "execution_count": 41,
   "id": "e3da3ed3",
   "metadata": {},
   "outputs": [
    {
     "data": {
      "text/plain": [
       "set()"
      ]
     },
     "execution_count": 41,
     "metadata": {},
     "output_type": "execute_result"
    }
   ],
   "source": [
    "set(kws_considered)-set(feature_names)"
   ]
  },
  {
   "cell_type": "code",
   "execution_count": 42,
   "id": "7a571fb6",
   "metadata": {},
   "outputs": [],
   "source": [
    "def f_score(precision, recall):\n",
    "    return 2 * (precision * recall) / (precision + recall)"
   ]
  },
  {
   "cell_type": "code",
   "execution_count": 45,
   "id": "4d0e2701",
   "metadata": {},
   "outputs": [],
   "source": [
    "def calculate_precision_recall_N(test_set_dict, n):\n",
    "   \n",
    "    r = []\n",
    "    p = []\n",
    "    p_len = []\n",
    "    hit = 0\n",
    "    lst_preds=[]\n",
    "    kws_considered=space_to_underscore(list(dict_occ_kw_clean.keys()))\n",
    "    for i, (uid, gt) in enumerate(test_set_dict.items()):\n",
    "        try:\n",
    "            \n",
    "            id_real=uid\n",
    "            #print(id_real)\n",
    "            #print(id_real, gt)\n",
    "            set_gt_decoded=space_to_underscore(list(gt))\n",
    "            \n",
    "            df_temp=data.df_full_text.loc[data.df_full_text['PPID'] == id_real]\n",
    "            \n",
    "            df_nPha=data_id_tit_abs_clm.loc[data_id_tit_abs_clm['PPID'] == id_real]\n",
    "            tien=df_nPha['TIEN'].iloc[0]\n",
    "            aben=df_nPha['ABEN'].iloc[0]\n",
    "            clmen=df_nPha['CLMEN'].iloc[0]\n",
    "            \n",
    " \n",
    "            \n",
    "            #detden=df_nPha['DETDEN'].iloc[0]\n",
    "            \n",
    "            #set_full_kws=set(itertools.chain(literal_eval(tien), literal_eval(aben),literal_eval(clmen)))\n",
    "            \n",
    "            new_doc = get_doc_as_string_for_tf_idf(id_real)\n",
    "            response = vectorizer.transform([new_doc])\n",
    "            pred=get_top_tf_idf_words(response,vectorizer, n=len(new_doc.split())).tolist()\n",
    "            \n",
    "            #pred=get_top_tf_idf_words(response,vectorizer, n=77).tolist()\n",
    "            \n",
    "            #pred_post=[kw for kw in pred if kw in kws_considered][:n]\n",
    "            #pred_post=[kw for kw in pred][:n]\n",
    "            pred_post=[kw for kw in pred if kw not in lst_all][:n]\n",
    "            \n",
    "            #print(len(pred_post), pred_post)\n",
    "            #sys.exit()\n",
    "            #pred_post=[kw for kw in new_doc.split() if kw in kws_considered][:10]\n",
    "            \n",
    "            recall_score = recall_N_post(set_gt_decoded, pred_post, n)\n",
    "            precision= precision_N_post( set_gt_decoded, pred_post)\n",
    "            \n",
    "            r.append(recall_score)\n",
    "            \n",
    "            #print(precision,recall_score)\n",
    "            '''\n",
    "            if id_real=='US20160185785A1':\n",
    "                print(id_real)\n",
    "                print(set_gt_decoded)\n",
    "                print(len(set(pred_post)),pred_post)\n",
    "                print('pre:',precision)\n",
    "                print('recall:',recall_score)\n",
    "                sys.exit()\n",
    "            '''\n",
    "            if len(set(pred_post))>0:\n",
    "                p.append(precision)\n",
    "                p_len.append(len(set(pred_post)))\n",
    "                   \n",
    "            hit += len(set(set_gt_decoded) & set(pred_post))\n",
    "           \n",
    "        except:\n",
    "            print(i)\n",
    "            sys.exit()\n",
    "    print(\"recall\", np.mean(r))\n",
    "    print(\"precision\", np.mean(p))\n",
    "    print('f_score:', f_score(np.mean(p), np.mean(r)))"
   ]
  },
  {
   "cell_type": "code",
   "execution_count": 46,
   "id": "26e1c843",
   "metadata": {},
   "outputs": [
    {
     "name": "stdout",
     "output_type": "stream",
     "text": [
      "recall 0.2403497050707577\n",
      "precision 0.3126666666666667\n",
      "f_score: 0.2717798060216258\n"
     ]
    }
   ],
   "source": [
    "calculate_precision_recall_N(test_set_dict, n=10)"
   ]
  },
  {
   "cell_type": "code",
   "execution_count": 47,
   "id": "5ce2f2cb",
   "metadata": {},
   "outputs": [
    {
     "name": "stdout",
     "output_type": "stream",
     "text": [
      "recall 0.3994686108582393\n",
      "precision 0.35121212121212125\n",
      "f_score: 0.37378931464043924\n"
     ]
    }
   ],
   "source": [
    "calculate_precision_recall_N(test_set_dict, n=15)"
   ]
  },
  {
   "cell_type": "code",
   "execution_count": 48,
   "id": "7c162483",
   "metadata": {},
   "outputs": [
    {
     "name": "stdout",
     "output_type": "stream",
     "text": [
      "recall 0.5104358236849723\n",
      "precision 0.34280035650623897\n",
      "f_score: 0.41015040476495396\n"
     ]
    }
   ],
   "source": [
    "calculate_precision_recall_N(test_set_dict, n=20)"
   ]
  }
 ],
 "metadata": {
  "kernelspec": {
   "display_name": "Python [conda env:snorkel_env_keyterm_clone]",
   "language": "python",
   "name": "conda-env-snorkel_env_keyterm_clone-py"
  },
  "language_info": {
   "codemirror_mode": {
    "name": "ipython",
    "version": 3
   },
   "file_extension": ".py",
   "mimetype": "text/x-python",
   "name": "python",
   "nbconvert_exporter": "python",
   "pygments_lexer": "ipython3",
   "version": "3.6.12"
  }
 },
 "nbformat": 4,
 "nbformat_minor": 5
}
