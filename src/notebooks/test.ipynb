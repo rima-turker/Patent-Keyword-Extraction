{
 "cells": [
  {
   "cell_type": "code",
   "execution_count": 1,
   "id": "fd70dd2c",
   "metadata": {},
   "outputs": [],
   "source": [
    "import warnings\n",
    "warnings.filterwarnings('ignore')\n",
    "warnings.filterwarnings('ignore', category=DeprecationWarning)\n",
    "warnings.filterwarnings('ignore', category=FutureWarning)\n",
    "\n",
    "import numpy as np\n",
    "import time\n",
    "import pandas as pd\n",
    "import re, string, sys\n",
    "from textblob import TextBlob\n",
    "\n",
    "import utils.global_vars as gv\n",
    "from utils.stop_words import StopWords\n",
    "from utils.config import Config as config\n",
    "from utils import stop_words\n",
    "\n",
    "from training_data.data_prepare import DataPrepare\n",
    "from training_data.generate_training_data import GenerateTrainingData\n",
    "from training_data.labeling_functions import LabelData\n",
    "from termcolor import colored\n",
    "\n",
    "import spacy\n",
    "from nlp_pipeline.nouns_pipeline import PatentNLPPreprocessor\n",
    "from nlp_pipeline import svo_pipeline\n",
    "import pickle\n",
    "import itertools"
   ]
  },
  {
   "cell_type": "code",
   "execution_count": 2,
   "id": "71552998",
   "metadata": {},
   "outputs": [
    {
     "name": "stdout",
     "output_type": "stream",
     "text": [
      "DataPrepare object has the following properties:\n",
      " df_full_text, dict_full_text, df_der_text, dict_der_text\n"
     ]
    },
    {
     "ename": "KeyboardInterrupt",
     "evalue": "",
     "output_type": "error",
     "traceback": [
      "\u001b[0;31m---------------------------------------------------------------------------\u001b[0m",
      "\u001b[0;31mFileNotFoundError\u001b[0m                         Traceback (most recent call last)",
      "\u001b[0;32m~/opt/miniconda3/envs/py-3.6/lib/python3.6/genericpath.py\u001b[0m in \u001b[0;36mexists\u001b[0;34m(path)\u001b[0m\n\u001b[1;32m     18\u001b[0m     \u001b[0;32mtry\u001b[0m\u001b[0;34m:\u001b[0m\u001b[0;34m\u001b[0m\u001b[0;34m\u001b[0m\u001b[0m\n\u001b[0;32m---> 19\u001b[0;31m         \u001b[0mos\u001b[0m\u001b[0;34m.\u001b[0m\u001b[0mstat\u001b[0m\u001b[0;34m(\u001b[0m\u001b[0mpath\u001b[0m\u001b[0;34m)\u001b[0m\u001b[0;34m\u001b[0m\u001b[0;34m\u001b[0m\u001b[0m\n\u001b[0m\u001b[1;32m     20\u001b[0m     \u001b[0;32mexcept\u001b[0m \u001b[0mOSError\u001b[0m\u001b[0;34m:\u001b[0m\u001b[0;34m\u001b[0m\u001b[0;34m\u001b[0m\u001b[0m\n",
      "\u001b[0;31mFileNotFoundError\u001b[0m: [Errno 2] No such file or directory: 'METHODS AND COMPOSITIONS FOR PROMOTING THE MATURATION OF MONOCYTES'",
      "\nDuring handling of the above exception, another exception occurred:\n",
      "\u001b[0;31mKeyboardInterrupt\u001b[0m                         Traceback (most recent call last)",
      "\u001b[0;32m<ipython-input-2-f9c70e5e1698>\u001b[0m in \u001b[0;36m<module>\u001b[0;34m\u001b[0m\n\u001b[1;32m      2\u001b[0m \u001b[0;34m\u001b[0m\u001b[0m\n\u001b[1;32m      3\u001b[0m \u001b[0mdata\u001b[0m\u001b[0;34m.\u001b[0m\u001b[0mset_der_abst\u001b[0m\u001b[0;34m(\u001b[0m\u001b[0;34m)\u001b[0m\u001b[0;34m\u001b[0m\u001b[0;34m\u001b[0m\u001b[0m\n\u001b[0;32m----> 4\u001b[0;31m \u001b[0mdata\u001b[0m\u001b[0;34m.\u001b[0m\u001b[0mset_full_text\u001b[0m\u001b[0;34m(\u001b[0m\u001b[0;34m)\u001b[0m\u001b[0;34m\u001b[0m\u001b[0;34m\u001b[0m\u001b[0m\n\u001b[0m",
      "\u001b[0;32m/Volumes/workspace_python_projects/tool_keaml/src/training_data/data_prepare.py\u001b[0m in \u001b[0;36mset_full_text\u001b[0;34m(self)\u001b[0m\n\u001b[1;32m     20\u001b[0m \u001b[0;34m\u001b[0m\u001b[0m\n\u001b[1;32m     21\u001b[0m         \u001b[0;32mdef\u001b[0m \u001b[0mset_full_text\u001b[0m\u001b[0;34m(\u001b[0m\u001b[0mself\u001b[0m\u001b[0;34m)\u001b[0m\u001b[0;34m:\u001b[0m\u001b[0;34m\u001b[0m\u001b[0;34m\u001b[0m\u001b[0m\n\u001b[0;32m---> 22\u001b[0;31m                 \u001b[0mself\u001b[0m\u001b[0;34m.\u001b[0m\u001b[0mdf_full_text\u001b[0m\u001b[0;34m=\u001b[0m\u001b[0mself\u001b[0m\u001b[0;34m.\u001b[0m\u001b[0mread_data_csv\u001b[0m\u001b[0;34m(\u001b[0m\u001b[0mgv\u001b[0m\u001b[0;34m.\u001b[0m\u001b[0mpath_full_text\u001b[0m\u001b[0;34m)\u001b[0m\u001b[0;34m\u001b[0m\u001b[0;34m\u001b[0m\u001b[0m\n\u001b[0m\u001b[1;32m     23\u001b[0m                 \u001b[0mself\u001b[0m\u001b[0;34m.\u001b[0m\u001b[0mdict_full_text\u001b[0m\u001b[0;34m=\u001b[0m\u001b[0mself\u001b[0m\u001b[0;34m.\u001b[0m\u001b[0mgenerate_dict_from_df\u001b[0m\u001b[0;34m(\u001b[0m\u001b[0mself\u001b[0m\u001b[0;34m.\u001b[0m\u001b[0mdf_full_text\u001b[0m\u001b[0;34m)\u001b[0m\u001b[0;34m\u001b[0m\u001b[0;34m\u001b[0m\u001b[0m\n\u001b[1;32m     24\u001b[0m \u001b[0;34m\u001b[0m\u001b[0m\n",
      "\u001b[0;32m/Volumes/workspace_python_projects/tool_keaml/src/training_data/data_prepare.py\u001b[0m in \u001b[0;36mread_data_csv\u001b[0;34m(self, path)\u001b[0m\n\u001b[1;32m     39\u001b[0m                 \u001b[0;32mfor\u001b[0m \u001b[0mcolumn\u001b[0m \u001b[0;32min\u001b[0m \u001b[0mdf\u001b[0m\u001b[0;34m:\u001b[0m\u001b[0;34m\u001b[0m\u001b[0;34m\u001b[0m\u001b[0m\n\u001b[1;32m     40\u001b[0m                         \u001b[0;32mif\u001b[0m \u001b[0mcolumn\u001b[0m\u001b[0;34m!=\u001b[0m\u001b[0;34m'PPID'\u001b[0m\u001b[0;34m:\u001b[0m\u001b[0;34m\u001b[0m\u001b[0;34m\u001b[0m\u001b[0m\n\u001b[0;32m---> 41\u001b[0;31m                                 \u001b[0mdf\u001b[0m\u001b[0;34m[\u001b[0m\u001b[0mcolumn\u001b[0m\u001b[0;34m]\u001b[0m\u001b[0;34m=\u001b[0m\u001b[0mdf\u001b[0m\u001b[0;34m[\u001b[0m\u001b[0mcolumn\u001b[0m\u001b[0;34m]\u001b[0m\u001b[0;34m.\u001b[0m\u001b[0mmap\u001b[0m\u001b[0;34m(\u001b[0m\u001b[0mself\u001b[0m\u001b[0;34m.\u001b[0m\u001b[0mcleanText\u001b[0m\u001b[0;34m)\u001b[0m\u001b[0;34m\u001b[0m\u001b[0;34m\u001b[0m\u001b[0m\n\u001b[0m\u001b[1;32m     42\u001b[0m                 \u001b[0;32mreturn\u001b[0m \u001b[0mdf\u001b[0m\u001b[0;34m\u001b[0m\u001b[0;34m\u001b[0m\u001b[0m\n\u001b[1;32m     43\u001b[0m \u001b[0;34m\u001b[0m\u001b[0m\n",
      "\u001b[0;32m~/opt/miniconda3/envs/py-3.6/lib/python3.6/site-packages/pandas/core/series.py\u001b[0m in \u001b[0;36mmap\u001b[0;34m(self, arg, na_action)\u001b[0m\n\u001b[1;32m   3981\u001b[0m         \u001b[0mdtype\u001b[0m\u001b[0;34m:\u001b[0m \u001b[0mobject\u001b[0m\u001b[0;34m\u001b[0m\u001b[0;34m\u001b[0m\u001b[0m\n\u001b[1;32m   3982\u001b[0m         \"\"\"\n\u001b[0;32m-> 3983\u001b[0;31m         \u001b[0mnew_values\u001b[0m \u001b[0;34m=\u001b[0m \u001b[0msuper\u001b[0m\u001b[0;34m(\u001b[0m\u001b[0;34m)\u001b[0m\u001b[0;34m.\u001b[0m\u001b[0m_map_values\u001b[0m\u001b[0;34m(\u001b[0m\u001b[0marg\u001b[0m\u001b[0;34m,\u001b[0m \u001b[0mna_action\u001b[0m\u001b[0;34m=\u001b[0m\u001b[0mna_action\u001b[0m\u001b[0;34m)\u001b[0m\u001b[0;34m\u001b[0m\u001b[0;34m\u001b[0m\u001b[0m\n\u001b[0m\u001b[1;32m   3984\u001b[0m         return self._constructor(new_values, index=self.index).__finalize__(\n\u001b[1;32m   3985\u001b[0m             \u001b[0mself\u001b[0m\u001b[0;34m,\u001b[0m \u001b[0mmethod\u001b[0m\u001b[0;34m=\u001b[0m\u001b[0;34m\"map\"\u001b[0m\u001b[0;34m\u001b[0m\u001b[0;34m\u001b[0m\u001b[0m\n",
      "\u001b[0;32m~/opt/miniconda3/envs/py-3.6/lib/python3.6/site-packages/pandas/core/base.py\u001b[0m in \u001b[0;36m_map_values\u001b[0;34m(self, mapper, na_action)\u001b[0m\n\u001b[1;32m   1158\u001b[0m \u001b[0;34m\u001b[0m\u001b[0m\n\u001b[1;32m   1159\u001b[0m         \u001b[0;31m# mapper is a function\u001b[0m\u001b[0;34m\u001b[0m\u001b[0;34m\u001b[0m\u001b[0;34m\u001b[0m\u001b[0m\n\u001b[0;32m-> 1160\u001b[0;31m         \u001b[0mnew_values\u001b[0m \u001b[0;34m=\u001b[0m \u001b[0mmap_f\u001b[0m\u001b[0;34m(\u001b[0m\u001b[0mvalues\u001b[0m\u001b[0;34m,\u001b[0m \u001b[0mmapper\u001b[0m\u001b[0;34m)\u001b[0m\u001b[0;34m\u001b[0m\u001b[0;34m\u001b[0m\u001b[0m\n\u001b[0m\u001b[1;32m   1161\u001b[0m \u001b[0;34m\u001b[0m\u001b[0m\n\u001b[1;32m   1162\u001b[0m         \u001b[0;32mreturn\u001b[0m \u001b[0mnew_values\u001b[0m\u001b[0;34m\u001b[0m\u001b[0;34m\u001b[0m\u001b[0m\n",
      "\u001b[0;32mpandas/_libs/lib.pyx\u001b[0m in \u001b[0;36mpandas._libs.lib.map_infer\u001b[0;34m()\u001b[0m\n",
      "\u001b[0;32m/Volumes/workspace_python_projects/tool_keaml/src/training_data/data_prepare.py\u001b[0m in \u001b[0;36mcleanText\u001b[0;34m(self, text)\u001b[0m\n\u001b[1;32m     29\u001b[0m \u001b[0;34m\u001b[0m\u001b[0m\n\u001b[1;32m     30\u001b[0m         \u001b[0;32mdef\u001b[0m \u001b[0mcleanText\u001b[0m\u001b[0;34m(\u001b[0m\u001b[0mself\u001b[0m\u001b[0;34m,\u001b[0m \u001b[0mtext\u001b[0m\u001b[0;34m)\u001b[0m\u001b[0;34m:\u001b[0m\u001b[0;34m\u001b[0m\u001b[0;34m\u001b[0m\u001b[0m\n\u001b[0;32m---> 31\u001b[0;31m                 \u001b[0mstr_temp\u001b[0m\u001b[0;34m=\u001b[0m\u001b[0mBeautifulSoup\u001b[0m\u001b[0;34m(\u001b[0m\u001b[0mtext\u001b[0m\u001b[0;34m,\u001b[0m \u001b[0;34m\"lxml\"\u001b[0m\u001b[0;34m)\u001b[0m\u001b[0;34m.\u001b[0m\u001b[0mtext\u001b[0m \u001b[0;31m#removes html tags\u001b[0m\u001b[0;34m\u001b[0m\u001b[0;34m\u001b[0m\u001b[0m\n\u001b[0m\u001b[1;32m     32\u001b[0m                 \u001b[0;32mreturn\u001b[0m \u001b[0mre\u001b[0m\u001b[0;34m.\u001b[0m\u001b[0msub\u001b[0m\u001b[0;34m(\u001b[0m\u001b[0;34mr'\\d+'\u001b[0m\u001b[0;34m,\u001b[0m \u001b[0;34m''\u001b[0m\u001b[0;34m,\u001b[0m \u001b[0;34m(\u001b[0m\u001b[0mstr_temp\u001b[0m\u001b[0;34m)\u001b[0m\u001b[0;34m)\u001b[0m \u001b[0;31m#removes numbers\u001b[0m\u001b[0;34m\u001b[0m\u001b[0;34m\u001b[0m\u001b[0m\n\u001b[1;32m     33\u001b[0m \u001b[0;34m\u001b[0m\u001b[0m\n",
      "\u001b[0;32m~/opt/miniconda3/envs/py-3.6/lib/python3.6/site-packages/bs4/__init__.py\u001b[0m in \u001b[0;36m__init__\u001b[0;34m(self, markup, features, builder, parse_only, from_encoding, exclude_encodings, element_classes, **kwargs)\u001b[0m\n\u001b[1;32m    323\u001b[0m             \u001b[0mis_file\u001b[0m \u001b[0;34m=\u001b[0m \u001b[0;32mFalse\u001b[0m\u001b[0;34m\u001b[0m\u001b[0;34m\u001b[0m\u001b[0m\n\u001b[1;32m    324\u001b[0m             \u001b[0;32mtry\u001b[0m\u001b[0;34m:\u001b[0m\u001b[0;34m\u001b[0m\u001b[0;34m\u001b[0m\u001b[0m\n\u001b[0;32m--> 325\u001b[0;31m                 \u001b[0mis_file\u001b[0m \u001b[0;34m=\u001b[0m \u001b[0mos\u001b[0m\u001b[0;34m.\u001b[0m\u001b[0mpath\u001b[0m\u001b[0;34m.\u001b[0m\u001b[0mexists\u001b[0m\u001b[0;34m(\u001b[0m\u001b[0mpossible_filename\u001b[0m\u001b[0;34m)\u001b[0m\u001b[0;34m\u001b[0m\u001b[0;34m\u001b[0m\u001b[0m\n\u001b[0m\u001b[1;32m    326\u001b[0m             \u001b[0;32mexcept\u001b[0m \u001b[0mException\u001b[0m \u001b[0;32mas\u001b[0m \u001b[0me\u001b[0m\u001b[0;34m:\u001b[0m\u001b[0;34m\u001b[0m\u001b[0;34m\u001b[0m\u001b[0m\n\u001b[1;32m    327\u001b[0m                 \u001b[0;31m# This is almost certainly a problem involving\u001b[0m\u001b[0;34m\u001b[0m\u001b[0;34m\u001b[0m\u001b[0;34m\u001b[0m\u001b[0m\n",
      "\u001b[0;32m~/opt/miniconda3/envs/py-3.6/lib/python3.6/genericpath.py\u001b[0m in \u001b[0;36mexists\u001b[0;34m(path)\u001b[0m\n\u001b[1;32m     17\u001b[0m     \u001b[0;34m\"\"\"Test whether a path exists.  Returns False for broken symbolic links\"\"\"\u001b[0m\u001b[0;34m\u001b[0m\u001b[0;34m\u001b[0m\u001b[0m\n\u001b[1;32m     18\u001b[0m     \u001b[0;32mtry\u001b[0m\u001b[0;34m:\u001b[0m\u001b[0;34m\u001b[0m\u001b[0;34m\u001b[0m\u001b[0m\n\u001b[0;32m---> 19\u001b[0;31m         \u001b[0mos\u001b[0m\u001b[0;34m.\u001b[0m\u001b[0mstat\u001b[0m\u001b[0;34m(\u001b[0m\u001b[0mpath\u001b[0m\u001b[0;34m)\u001b[0m\u001b[0;34m\u001b[0m\u001b[0;34m\u001b[0m\u001b[0m\n\u001b[0m\u001b[1;32m     20\u001b[0m     \u001b[0;32mexcept\u001b[0m \u001b[0mOSError\u001b[0m\u001b[0;34m:\u001b[0m\u001b[0;34m\u001b[0m\u001b[0;34m\u001b[0m\u001b[0m\n\u001b[1;32m     21\u001b[0m         \u001b[0;32mreturn\u001b[0m \u001b[0;32mFalse\u001b[0m\u001b[0;34m\u001b[0m\u001b[0;34m\u001b[0m\u001b[0m\n",
      "\u001b[0;31mKeyboardInterrupt\u001b[0m: "
     ]
    }
   ],
   "source": [
    "data=DataPrepare()\n",
    "\n",
    "data.set_der_abst()\n",
    "data.set_full_text()"
   ]
  },
  {
   "cell_type": "code",
   "execution_count": null,
   "id": "a90f853d",
   "metadata": {},
   "outputs": [],
   "source": [
    "for "
   ]
  },
  {
   "cell_type": "code",
   "execution_count": 4,
   "id": "c5f91d24",
   "metadata": {},
   "outputs": [],
   "source": [
    "obj_gen_training_data=GenerateTrainingData(data.df_full_text, data.dict_full_text, data.df_der_text, \n",
    "                                           data.dict_der_text, \"noun_phrase\")"
   ]
  },
  {
   "cell_type": "code",
   "execution_count": 5,
   "id": "e6b4ef59",
   "metadata": {},
   "outputs": [
    {
     "name": "stdout",
     "output_type": "stream",
     "text": [
      "0 --- 13.31009817123413 seconds ---\n",
      "10 --- 167.51785898208618 seconds ---\n",
      "20 --- 108.96171379089355 seconds ---\n",
      "30 --- 82.69539880752563 seconds ---\n",
      "40 --- 56.63676691055298 seconds ---\n",
      "50 --- 37.92247009277344 seconds ---\n",
      "60 --- 103.05678176879883 seconds ---\n",
      "70 --- 46.2660071849823 seconds ---\n",
      "80 --- 47.970197916030884 seconds ---\n",
      "90 --- 29.45009708404541 seconds ---\n",
      "No itersection elements found count: 0\n",
      "count_key_not_in_dict: 0\n",
      "count_pass_kw: 0\n",
      "index: 99\n"
     ]
    }
   ],
   "source": [
    "df_kw, df_res= obj_gen_training_data.label_data()"
   ]
  },
  {
   "cell_type": "code",
   "execution_count": 6,
   "id": "c006cfbd",
   "metadata": {},
   "outputs": [
    {
     "data": {
      "text/html": [
       "<div>\n",
       "<style scoped>\n",
       "    .dataframe tbody tr th:only-of-type {\n",
       "        vertical-align: middle;\n",
       "    }\n",
       "\n",
       "    .dataframe tbody tr th {\n",
       "        vertical-align: top;\n",
       "    }\n",
       "\n",
       "    .dataframe thead th {\n",
       "        text-align: right;\n",
       "    }\n",
       "</style>\n",
       "<table border=\"1\" class=\"dataframe\">\n",
       "  <thead>\n",
       "    <tr style=\"text-align: right;\">\n",
       "      <th></th>\n",
       "      <th>PPID</th>\n",
       "      <th>KEYWORD</th>\n",
       "    </tr>\n",
       "  </thead>\n",
       "  <tbody>\n",
       "    <tr>\n",
       "      <th>0</th>\n",
       "      <td>CA2798250A1</td>\n",
       "      <td>viable circulate stem cell</td>\n",
       "    </tr>\n",
       "    <tr>\n",
       "      <th>1</th>\n",
       "      <td>CA2798250A1</td>\n",
       "      <td>circulate stem cell</td>\n",
       "    </tr>\n",
       "    <tr>\n",
       "      <th>2</th>\n",
       "      <td>CA2798250A1</td>\n",
       "      <td>carcinoma</td>\n",
       "    </tr>\n",
       "    <tr>\n",
       "      <th>3</th>\n",
       "      <td>CA2798250A1</td>\n",
       "      <td>viable form</td>\n",
       "    </tr>\n",
       "    <tr>\n",
       "      <th>4</th>\n",
       "      <td>CA2798250A1</td>\n",
       "      <td>colorectal carcinoma</td>\n",
       "    </tr>\n",
       "  </tbody>\n",
       "</table>\n",
       "</div>"
      ],
      "text/plain": [
       "          PPID                     KEYWORD\n",
       "0  CA2798250A1  viable circulate stem cell\n",
       "1  CA2798250A1         circulate stem cell\n",
       "2  CA2798250A1                   carcinoma\n",
       "3  CA2798250A1                 viable form\n",
       "4  CA2798250A1        colorectal carcinoma"
      ]
     },
     "execution_count": 6,
     "metadata": {},
     "output_type": "execute_result"
    }
   ],
   "source": [
    "df_kw.head()"
   ]
  },
  {
   "cell_type": "code",
   "execution_count": 8,
   "id": "7ab20936",
   "metadata": {},
   "outputs": [],
   "source": [
    "list_kw=[]\n",
    "for index, (reviewerID, hist) in enumerate (df_kw.groupby('PPID')):    \n",
    "    list_kw+=hist['KEYWORD'].tolist()"
   ]
  },
  {
   "cell_type": "code",
   "execution_count": 7,
   "id": "ee07dd8c",
   "metadata": {},
   "outputs": [
    {
     "ename": "IndexError",
     "evalue": "tuple index out of range",
     "output_type": "error",
     "traceback": [
      "\u001b[0;31m---------------------------------------------------------------------------\u001b[0m",
      "\u001b[0;31mIndexError\u001b[0m                                Traceback (most recent call last)",
      "\u001b[0;32m<ipython-input-7-9ba7922e0377>\u001b[0m in \u001b[0;36m<module>\u001b[0;34m\u001b[0m\n\u001b[0;32m----> 1\u001b[0;31m \u001b[0mlist\u001b[0m\u001b[0;34m(\u001b[0m\u001b[0mlist\u001b[0m\u001b[0;34m(\u001b[0m\u001b[0mdf_kw\u001b[0m\u001b[0;34m.\u001b[0m\u001b[0mgroupby\u001b[0m\u001b[0;34m(\u001b[0m\u001b[0;34m'PPID'\u001b[0m\u001b[0;34m)\u001b[0m\u001b[0;34m)\u001b[0m\u001b[0;34m[\u001b[0m\u001b[0;36m1\u001b[0m\u001b[0;34m]\u001b[0m\u001b[0;34m[\u001b[0m\u001b[0;36m2\u001b[0m\u001b[0;34m]\u001b[0m\u001b[0;34m[\u001b[0m\u001b[0;34m'KEYWORD'\u001b[0m\u001b[0;34m]\u001b[0m\u001b[0;34m)\u001b[0m\u001b[0;34m\u001b[0m\u001b[0;34m\u001b[0m\u001b[0m\n\u001b[0m",
      "\u001b[0;31mIndexError\u001b[0m: tuple index out of range"
     ]
    }
   ],
   "source": [
    "list(list(df_kw.groupby('PPID'))[1][2]['KEYWORD'])"
   ]
  },
  {
   "cell_type": "code",
   "execution_count": null,
   "id": "07276f80",
   "metadata": {},
   "outputs": [],
   "source": [
    "list(list(df_kw.groupby('PPID'))[1][2]['KEYWORD'])"
   ]
  },
  {
   "cell_type": "code",
   "execution_count": 9,
   "id": "b98d995b",
   "metadata": {},
   "outputs": [],
   "source": [
    "dict_occ=dict((x,list_kw.count(x)) for x in set(list_kw))\n",
    "dict_occ_sorted={k: v for k, v in sorted(dict_occ.items(), key=lambda item: item[1])}"
   ]
  },
  {
   "cell_type": "code",
   "execution_count": null,
   "id": "b5163c0e",
   "metadata": {},
   "outputs": [],
   "source": [
    "def get_labels(self, text):\n",
    "\n",
    "    if self.labelling_function==\"noun_phrase\":\n",
    "        return self.nlp_pipeline.run_NLP(text, lemma_normalize=True)"
   ]
  },
  {
   "cell_type": "code",
   "execution_count": 21,
   "id": "35e6b710",
   "metadata": {},
   "outputs": [
    {
     "name": "stdout",
     "output_type": "stream",
     "text": [
      "2.3.0\n",
      "--- 0.6114847660064697 seconds title---\n",
      "--- 0.0876779556274414 seconds abst---\n",
      "--- 1.8028042316436768 seconds clem---\n",
      "--- 10.913206100463867 seconds detden---\n",
      "0 --- 8.678436279296875e-05 seconds ---\n",
      "--- 0.26973795890808105 seconds title---\n",
      "--- 0.05341815948486328 seconds abst---\n",
      "--- 0.8746981620788574 seconds clem---\n",
      "--- 12.244946956634521 seconds detden---\n",
      "--- 0.09316587448120117 seconds title---\n",
      "--- 0.03930807113647461 seconds abst---\n",
      "--- 0.45094823837280273 seconds clem---\n",
      "--- 12.33269190788269 seconds detden---\n",
      "--- 0.2551240921020508 seconds title---\n",
      "--- 0.07553267478942871 seconds abst---\n",
      "--- 2.1610870361328125 seconds clem---\n",
      "--- 7.839497804641724 seconds detden---\n",
      "--- 0.2791919708251953 seconds title---\n",
      "--- 0.042842864990234375 seconds abst---\n",
      "--- 0.6841797828674316 seconds clem---\n",
      "--- 5.606541156768799 seconds detden---\n",
      "--- 0.22480487823486328 seconds title---\n",
      "--- 0.04337620735168457 seconds abst---\n",
      "--- 0.2850770950317383 seconds clem---\n",
      "--- 4.970601797103882 seconds detden---\n",
      "--- 0.6136200428009033 seconds title---\n",
      "--- 0.07413101196289062 seconds abst---\n"
     ]
    },
    {
     "ename": "KeyboardInterrupt",
     "evalue": "",
     "output_type": "error",
     "traceback": [
      "\u001b[0;31m---------------------------------------------------------------------------\u001b[0m",
      "\u001b[0;31mKeyboardInterrupt\u001b[0m                         Traceback (most recent call last)",
      "\u001b[0;32m<ipython-input-21-ced00fc64da2>\u001b[0m in \u001b[0;36m<module>\u001b[0;34m\u001b[0m\n\u001b[1;32m     36\u001b[0m         \u001b[0mstart_time\u001b[0m \u001b[0;34m=\u001b[0m \u001b[0mtime\u001b[0m\u001b[0;34m.\u001b[0m\u001b[0mtime\u001b[0m\u001b[0;34m(\u001b[0m\u001b[0;34m)\u001b[0m\u001b[0;34m\u001b[0m\u001b[0;34m\u001b[0m\u001b[0m\n\u001b[1;32m     37\u001b[0m \u001b[0;34m\u001b[0m\u001b[0m\n\u001b[0;32m---> 38\u001b[0;31m         \u001b[0mcount_cor_clem\u001b[0m \u001b[0;34m=\u001b[0m \u001b[0mnlp_pipeline\u001b[0m\u001b[0;34m.\u001b[0m\u001b[0mrun_NLP\u001b[0m\u001b[0;34m(\u001b[0m\u001b[0mclaim\u001b[0m\u001b[0;34m,\u001b[0m \u001b[0mlemma_normalize\u001b[0m\u001b[0;34m=\u001b[0m\u001b[0;32mTrue\u001b[0m\u001b[0;34m)\u001b[0m\u001b[0;34m\u001b[0m\u001b[0;34m\u001b[0m\u001b[0m\n\u001b[0m\u001b[1;32m     39\u001b[0m         \u001b[0mprint\u001b[0m\u001b[0;34m(\u001b[0m\u001b[0;34m\"--- %s seconds clem---\"\u001b[0m \u001b[0;34m%\u001b[0m \u001b[0;34m(\u001b[0m\u001b[0mtime\u001b[0m\u001b[0;34m.\u001b[0m\u001b[0mtime\u001b[0m\u001b[0;34m(\u001b[0m\u001b[0;34m)\u001b[0m \u001b[0;34m-\u001b[0m \u001b[0mstart_time\u001b[0m\u001b[0;34m)\u001b[0m\u001b[0;34m)\u001b[0m\u001b[0;34m\u001b[0m\u001b[0;34m\u001b[0m\u001b[0m\n\u001b[1;32m     40\u001b[0m         \u001b[0mstart_time\u001b[0m \u001b[0;34m=\u001b[0m \u001b[0mtime\u001b[0m\u001b[0;34m.\u001b[0m\u001b[0mtime\u001b[0m\u001b[0;34m(\u001b[0m\u001b[0;34m)\u001b[0m\u001b[0;34m\u001b[0m\u001b[0;34m\u001b[0m\u001b[0m\n",
      "\u001b[0;32m/Volumes/workspace_python_projects/tool_keaml/src/nlp_pipeline/nouns_pipeline.py\u001b[0m in \u001b[0;36mrun_NLP\u001b[0;34m(self, doc_txt, lemma_normalize)\u001b[0m\n\u001b[1;32m    354\u001b[0m                                                 \u001b[0mself\u001b[0m\u001b[0;34m.\u001b[0m\u001b[0mgeneralNPSet\u001b[0m\u001b[0;34m,\u001b[0m\u001b[0;34m\u001b[0m\u001b[0;34m\u001b[0m\u001b[0m\n\u001b[1;32m    355\u001b[0m                                                 \u001b[0mself\u001b[0m\u001b[0;34m.\u001b[0m\u001b[0mnon_stemming_set\u001b[0m\u001b[0;34m,\u001b[0m\u001b[0;34m\u001b[0m\u001b[0;34m\u001b[0m\u001b[0m\n\u001b[0;32m--> 356\u001b[0;31m                                                 lemma_normalize=lemma_normalize)\n\u001b[0m",
      "\u001b[0;32m/Volumes/workspace_python_projects/tool_keaml/src/nlp_pipeline/nouns_pipeline.py\u001b[0m in \u001b[0;36mtext_preprocessing_pipeline\u001b[0;34m(self, docText, stopwordSet, customizedStopwordSet, generalNPSet, non_stemming_set, lemma_normalize)\u001b[0m\n\u001b[1;32m    317\u001b[0m                                                       \u001b[0mgeneralNPSet\u001b[0m\u001b[0;34m,\u001b[0m\u001b[0;34m\u001b[0m\u001b[0;34m\u001b[0m\u001b[0m\n\u001b[1;32m    318\u001b[0m                                                       \u001b[0mnon_stemming_set\u001b[0m\u001b[0;34m,\u001b[0m\u001b[0;34m\u001b[0m\u001b[0;34m\u001b[0m\u001b[0m\n\u001b[0;32m--> 319\u001b[0;31m                                                       lemma_normalize=lemma_normalize))\n\u001b[0m\u001b[1;32m    320\u001b[0m \u001b[0;34m\u001b[0m\u001b[0m\n\u001b[1;32m    321\u001b[0m         \u001b[0;31m# print('One document has been processed')\u001b[0m\u001b[0;34m\u001b[0m\u001b[0;34m\u001b[0m\u001b[0;34m\u001b[0m\u001b[0m\n",
      "\u001b[0;32m/Volumes/workspace_python_projects/tool_keaml/src/nlp_pipeline/nouns_pipeline.py\u001b[0m in \u001b[0;36mprocess_nounPhrases\u001b[0;34m(self, docTxt, stopwordSet, customizedStopwordSet, generalNPSet, non_stemming_set, lemma_normalize)\u001b[0m\n\u001b[1;32m    267\u001b[0m \u001b[0;34m\u001b[0m\u001b[0m\n\u001b[1;32m    268\u001b[0m             \u001b[0;32mif\u001b[0m \u001b[0mlemma_normalize\u001b[0m\u001b[0;34m:\u001b[0m\u001b[0;34m\u001b[0m\u001b[0;34m\u001b[0m\u001b[0m\n\u001b[0;32m--> 269\u001b[0;31m                 \u001b[0mphrase\u001b[0m \u001b[0;34m=\u001b[0m \u001b[0mself\u001b[0m\u001b[0;34m.\u001b[0m\u001b[0mapply_lemmatization\u001b[0m\u001b[0;34m(\u001b[0m\u001b[0mphrase\u001b[0m\u001b[0;34m)\u001b[0m\u001b[0;34m\u001b[0m\u001b[0;34m\u001b[0m\u001b[0m\n\u001b[0m\u001b[1;32m    270\u001b[0m \u001b[0;34m\u001b[0m\u001b[0m\n\u001b[1;32m    271\u001b[0m             \u001b[0;32mif\u001b[0m \u001b[0mlen\u001b[0m\u001b[0;34m(\u001b[0m\u001b[0mphrase\u001b[0m\u001b[0;34m.\u001b[0m\u001b[0mstrip\u001b[0m\u001b[0;34m(\u001b[0m\u001b[0;34m)\u001b[0m\u001b[0;34m.\u001b[0m\u001b[0msplit\u001b[0m\u001b[0;34m(\u001b[0m\u001b[0;34m)\u001b[0m\u001b[0;34m)\u001b[0m \u001b[0;34m==\u001b[0m \u001b[0;36m1\u001b[0m\u001b[0;34m:\u001b[0m\u001b[0;34m\u001b[0m\u001b[0;34m\u001b[0m\u001b[0m\n",
      "\u001b[0;32m/Volumes/workspace_python_projects/tool_keaml/src/nlp_pipeline/nouns_pipeline.py\u001b[0m in \u001b[0;36mapply_lemmatization\u001b[0;34m(self, phrase)\u001b[0m\n\u001b[1;32m    214\u001b[0m         \u001b[0mspacy_local_model\u001b[0m\u001b[0;34m.\u001b[0m\u001b[0mtokenizer\u001b[0m \u001b[0;34m=\u001b[0m \u001b[0mTokenizer\u001b[0m\u001b[0;34m(\u001b[0m\u001b[0mspacy_local_model\u001b[0m\u001b[0;34m.\u001b[0m\u001b[0mvocab\u001b[0m\u001b[0;34m,\u001b[0m \u001b[0mtoken_match\u001b[0m\u001b[0;34m=\u001b[0m\u001b[0mre\u001b[0m\u001b[0;34m.\u001b[0m\u001b[0mcompile\u001b[0m\u001b[0;34m(\u001b[0m\u001b[0;34mr'\\S+'\u001b[0m\u001b[0;34m)\u001b[0m\u001b[0;34m.\u001b[0m\u001b[0mmatch\u001b[0m\u001b[0;34m)\u001b[0m\u001b[0;34m\u001b[0m\u001b[0;34m\u001b[0m\u001b[0m\n\u001b[1;32m    215\u001b[0m \u001b[0;34m\u001b[0m\u001b[0m\n\u001b[0;32m--> 216\u001b[0;31m         \u001b[0;32mreturn\u001b[0m \u001b[0;34m\" \"\u001b[0m\u001b[0;34m.\u001b[0m\u001b[0mjoin\u001b[0m\u001b[0;34m(\u001b[0m\u001b[0;34m[\u001b[0m\u001b[0mtoken\u001b[0m\u001b[0;34m.\u001b[0m\u001b[0mlemma_\u001b[0m \u001b[0;32mfor\u001b[0m \u001b[0mtoken\u001b[0m \u001b[0;32min\u001b[0m \u001b[0mspacy_local_model\u001b[0m\u001b[0;34m(\u001b[0m\u001b[0mphrase\u001b[0m\u001b[0;34m)\u001b[0m\u001b[0;34m]\u001b[0m\u001b[0;34m)\u001b[0m\u001b[0;34m\u001b[0m\u001b[0;34m\u001b[0m\u001b[0m\n\u001b[0m\u001b[1;32m    217\u001b[0m \u001b[0;34m\u001b[0m\u001b[0m\n\u001b[1;32m    218\u001b[0m     \u001b[0;32mdef\u001b[0m \u001b[0mremove_digit_unit\u001b[0m\u001b[0;34m(\u001b[0m\u001b[0mself\u001b[0m\u001b[0;34m,\u001b[0m \u001b[0mphrase\u001b[0m\u001b[0;34m)\u001b[0m\u001b[0;34m:\u001b[0m\u001b[0;34m\u001b[0m\u001b[0;34m\u001b[0m\u001b[0m\n",
      "\u001b[0;32m~/opt/miniconda3/envs/py-3.6/lib/python3.6/site-packages/spacy/language.py\u001b[0m in \u001b[0;36m__call__\u001b[0;34m(self, text, disable, component_cfg)\u001b[0m\n\u001b[1;32m    444\u001b[0m             \u001b[0;32mif\u001b[0m \u001b[0;32mnot\u001b[0m \u001b[0mhasattr\u001b[0m\u001b[0;34m(\u001b[0m\u001b[0mproc\u001b[0m\u001b[0;34m,\u001b[0m \u001b[0;34m\"__call__\"\u001b[0m\u001b[0;34m)\u001b[0m\u001b[0;34m:\u001b[0m\u001b[0;34m\u001b[0m\u001b[0;34m\u001b[0m\u001b[0m\n\u001b[1;32m    445\u001b[0m                 \u001b[0;32mraise\u001b[0m \u001b[0mValueError\u001b[0m\u001b[0;34m(\u001b[0m\u001b[0mErrors\u001b[0m\u001b[0;34m.\u001b[0m\u001b[0mE003\u001b[0m\u001b[0;34m.\u001b[0m\u001b[0mformat\u001b[0m\u001b[0;34m(\u001b[0m\u001b[0mcomponent\u001b[0m\u001b[0;34m=\u001b[0m\u001b[0mtype\u001b[0m\u001b[0;34m(\u001b[0m\u001b[0mproc\u001b[0m\u001b[0;34m)\u001b[0m\u001b[0;34m,\u001b[0m \u001b[0mname\u001b[0m\u001b[0;34m=\u001b[0m\u001b[0mname\u001b[0m\u001b[0;34m)\u001b[0m\u001b[0;34m)\u001b[0m\u001b[0;34m\u001b[0m\u001b[0;34m\u001b[0m\u001b[0m\n\u001b[0;32m--> 446\u001b[0;31m             \u001b[0mdoc\u001b[0m \u001b[0;34m=\u001b[0m \u001b[0mproc\u001b[0m\u001b[0;34m(\u001b[0m\u001b[0mdoc\u001b[0m\u001b[0;34m,\u001b[0m \u001b[0;34m**\u001b[0m\u001b[0mcomponent_cfg\u001b[0m\u001b[0;34m.\u001b[0m\u001b[0mget\u001b[0m\u001b[0;34m(\u001b[0m\u001b[0mname\u001b[0m\u001b[0;34m,\u001b[0m \u001b[0;34m{\u001b[0m\u001b[0;34m}\u001b[0m\u001b[0;34m)\u001b[0m\u001b[0;34m)\u001b[0m\u001b[0;34m\u001b[0m\u001b[0;34m\u001b[0m\u001b[0m\n\u001b[0m\u001b[1;32m    447\u001b[0m             \u001b[0;32mif\u001b[0m \u001b[0mdoc\u001b[0m \u001b[0;32mis\u001b[0m \u001b[0;32mNone\u001b[0m\u001b[0;34m:\u001b[0m\u001b[0;34m\u001b[0m\u001b[0;34m\u001b[0m\u001b[0m\n\u001b[1;32m    448\u001b[0m                 \u001b[0;32mraise\u001b[0m \u001b[0mValueError\u001b[0m\u001b[0;34m(\u001b[0m\u001b[0mErrors\u001b[0m\u001b[0;34m.\u001b[0m\u001b[0mE005\u001b[0m\u001b[0;34m.\u001b[0m\u001b[0mformat\u001b[0m\u001b[0;34m(\u001b[0m\u001b[0mname\u001b[0m\u001b[0;34m=\u001b[0m\u001b[0mname\u001b[0m\u001b[0;34m)\u001b[0m\u001b[0;34m)\u001b[0m\u001b[0;34m\u001b[0m\u001b[0;34m\u001b[0m\u001b[0m\n",
      "\u001b[0;32mnn_parser.pyx\u001b[0m in \u001b[0;36mspacy.syntax.nn_parser.Parser.__call__\u001b[0;34m()\u001b[0m\n",
      "\u001b[0;32mnn_parser.pyx\u001b[0m in \u001b[0;36mspacy.syntax.nn_parser.Parser.predict\u001b[0;34m()\u001b[0m\n",
      "\u001b[0;32mnn_parser.pyx\u001b[0m in \u001b[0;36mspacy.syntax.nn_parser.Parser.greedy_parse\u001b[0;34m()\u001b[0m\n",
      "\u001b[0;32m~/opt/miniconda3/envs/py-3.6/lib/python3.6/site-packages/thinc/neural/_classes/model.py\u001b[0m in \u001b[0;36m__call__\u001b[0;34m(self, x)\u001b[0m\n\u001b[1;32m    165\u001b[0m             \u001b[0mMust\u001b[0m \u001b[0mmatch\u001b[0m \u001b[0mexpected\u001b[0m \u001b[0mshape\u001b[0m\u001b[0;34m\u001b[0m\u001b[0;34m\u001b[0m\u001b[0m\n\u001b[1;32m    166\u001b[0m         \"\"\"\n\u001b[0;32m--> 167\u001b[0;31m         \u001b[0;32mreturn\u001b[0m \u001b[0mself\u001b[0m\u001b[0;34m.\u001b[0m\u001b[0mpredict\u001b[0m\u001b[0;34m(\u001b[0m\u001b[0mx\u001b[0m\u001b[0;34m)\u001b[0m\u001b[0;34m\u001b[0m\u001b[0;34m\u001b[0m\u001b[0m\n\u001b[0m\u001b[1;32m    168\u001b[0m \u001b[0;34m\u001b[0m\u001b[0m\n\u001b[1;32m    169\u001b[0m     \u001b[0;32mdef\u001b[0m \u001b[0mpipe\u001b[0m\u001b[0;34m(\u001b[0m\u001b[0mself\u001b[0m\u001b[0;34m,\u001b[0m \u001b[0mstream\u001b[0m\u001b[0;34m,\u001b[0m \u001b[0mbatch_size\u001b[0m\u001b[0;34m=\u001b[0m\u001b[0;36m128\u001b[0m\u001b[0;34m)\u001b[0m\u001b[0;34m:\u001b[0m\u001b[0;34m\u001b[0m\u001b[0;34m\u001b[0m\u001b[0m\n",
      "\u001b[0;32m~/opt/miniconda3/envs/py-3.6/lib/python3.6/site-packages/thinc/neural/_classes/model.py\u001b[0m in \u001b[0;36mpredict\u001b[0;34m(self, X)\u001b[0m\n\u001b[1;32m    129\u001b[0m \u001b[0;34m\u001b[0m\u001b[0m\n\u001b[1;32m    130\u001b[0m     \u001b[0;32mdef\u001b[0m \u001b[0mpredict\u001b[0m\u001b[0;34m(\u001b[0m\u001b[0mself\u001b[0m\u001b[0;34m,\u001b[0m \u001b[0mX\u001b[0m\u001b[0;34m)\u001b[0m\u001b[0;34m:\u001b[0m\u001b[0;34m\u001b[0m\u001b[0;34m\u001b[0m\u001b[0m\n\u001b[0;32m--> 131\u001b[0;31m         \u001b[0my\u001b[0m\u001b[0;34m,\u001b[0m \u001b[0m_\u001b[0m \u001b[0;34m=\u001b[0m \u001b[0mself\u001b[0m\u001b[0;34m.\u001b[0m\u001b[0mbegin_update\u001b[0m\u001b[0;34m(\u001b[0m\u001b[0mX\u001b[0m\u001b[0;34m,\u001b[0m \u001b[0mdrop\u001b[0m\u001b[0;34m=\u001b[0m\u001b[0;32mNone\u001b[0m\u001b[0;34m)\u001b[0m\u001b[0;34m\u001b[0m\u001b[0;34m\u001b[0m\u001b[0m\n\u001b[0m\u001b[1;32m    132\u001b[0m         \u001b[0;32mreturn\u001b[0m \u001b[0my\u001b[0m\u001b[0;34m\u001b[0m\u001b[0;34m\u001b[0m\u001b[0m\n\u001b[1;32m    133\u001b[0m \u001b[0;34m\u001b[0m\u001b[0m\n",
      "\u001b[0;32m_parser_model.pyx\u001b[0m in \u001b[0;36mspacy.syntax._parser_model.ParserModel.begin_update\u001b[0;34m()\u001b[0m\n",
      "\u001b[0;32m_parser_model.pyx\u001b[0m in \u001b[0;36mspacy.syntax._parser_model.ParserStepModel.__init__\u001b[0;34m()\u001b[0m\n",
      "\u001b[0;32m~/opt/miniconda3/envs/py-3.6/lib/python3.6/site-packages/thinc/neural/_classes/feed_forward.py\u001b[0m in \u001b[0;36mbegin_update\u001b[0;34m(self, X, drop)\u001b[0m\n\u001b[1;32m     44\u001b[0m         \u001b[0mcallbacks\u001b[0m \u001b[0;34m=\u001b[0m \u001b[0;34m[\u001b[0m\u001b[0;34m]\u001b[0m\u001b[0;34m\u001b[0m\u001b[0;34m\u001b[0m\u001b[0m\n\u001b[1;32m     45\u001b[0m         \u001b[0;32mfor\u001b[0m \u001b[0mlayer\u001b[0m \u001b[0;32min\u001b[0m \u001b[0mself\u001b[0m\u001b[0;34m.\u001b[0m\u001b[0m_layers\u001b[0m\u001b[0;34m:\u001b[0m\u001b[0;34m\u001b[0m\u001b[0;34m\u001b[0m\u001b[0m\n\u001b[0;32m---> 46\u001b[0;31m             \u001b[0mX\u001b[0m\u001b[0;34m,\u001b[0m \u001b[0minc_layer_grad\u001b[0m \u001b[0;34m=\u001b[0m \u001b[0mlayer\u001b[0m\u001b[0;34m.\u001b[0m\u001b[0mbegin_update\u001b[0m\u001b[0;34m(\u001b[0m\u001b[0mX\u001b[0m\u001b[0;34m,\u001b[0m \u001b[0mdrop\u001b[0m\u001b[0;34m=\u001b[0m\u001b[0mdrop\u001b[0m\u001b[0;34m)\u001b[0m\u001b[0;34m\u001b[0m\u001b[0;34m\u001b[0m\u001b[0m\n\u001b[0m\u001b[1;32m     47\u001b[0m             \u001b[0mcallbacks\u001b[0m\u001b[0;34m.\u001b[0m\u001b[0mappend\u001b[0m\u001b[0;34m(\u001b[0m\u001b[0minc_layer_grad\u001b[0m\u001b[0;34m)\u001b[0m\u001b[0;34m\u001b[0m\u001b[0;34m\u001b[0m\u001b[0m\n\u001b[1;32m     48\u001b[0m \u001b[0;34m\u001b[0m\u001b[0m\n",
      "\u001b[0;32m~/opt/miniconda3/envs/py-3.6/lib/python3.6/site-packages/thinc/api.py\u001b[0m in \u001b[0;36mbegin_update\u001b[0;34m(seqs_in, drop)\u001b[0m\n\u001b[1;32m    293\u001b[0m     \u001b[0;32mdef\u001b[0m \u001b[0mbegin_update\u001b[0m\u001b[0;34m(\u001b[0m\u001b[0mseqs_in\u001b[0m\u001b[0;34m,\u001b[0m \u001b[0mdrop\u001b[0m\u001b[0;34m=\u001b[0m\u001b[0;36m0.0\u001b[0m\u001b[0;34m)\u001b[0m\u001b[0;34m:\u001b[0m\u001b[0;34m\u001b[0m\u001b[0;34m\u001b[0m\u001b[0m\n\u001b[1;32m    294\u001b[0m         \u001b[0mlengths\u001b[0m \u001b[0;34m=\u001b[0m \u001b[0mlayer\u001b[0m\u001b[0;34m.\u001b[0m\u001b[0mops\u001b[0m\u001b[0;34m.\u001b[0m\u001b[0masarray\u001b[0m\u001b[0;34m(\u001b[0m\u001b[0;34m[\u001b[0m\u001b[0mlen\u001b[0m\u001b[0;34m(\u001b[0m\u001b[0mseq\u001b[0m\u001b[0;34m)\u001b[0m \u001b[0;32mfor\u001b[0m \u001b[0mseq\u001b[0m \u001b[0;32min\u001b[0m \u001b[0mseqs_in\u001b[0m\u001b[0;34m]\u001b[0m\u001b[0;34m)\u001b[0m\u001b[0;34m\u001b[0m\u001b[0;34m\u001b[0m\u001b[0m\n\u001b[0;32m--> 295\u001b[0;31m         \u001b[0mX\u001b[0m\u001b[0;34m,\u001b[0m \u001b[0mbp_layer\u001b[0m \u001b[0;34m=\u001b[0m \u001b[0mlayer\u001b[0m\u001b[0;34m.\u001b[0m\u001b[0mbegin_update\u001b[0m\u001b[0;34m(\u001b[0m\u001b[0mlayer\u001b[0m\u001b[0;34m.\u001b[0m\u001b[0mops\u001b[0m\u001b[0;34m.\u001b[0m\u001b[0mflatten\u001b[0m\u001b[0;34m(\u001b[0m\u001b[0mseqs_in\u001b[0m\u001b[0;34m,\u001b[0m \u001b[0mpad\u001b[0m\u001b[0;34m=\u001b[0m\u001b[0mpad\u001b[0m\u001b[0;34m)\u001b[0m\u001b[0;34m,\u001b[0m \u001b[0mdrop\u001b[0m\u001b[0;34m=\u001b[0m\u001b[0mdrop\u001b[0m\u001b[0;34m)\u001b[0m\u001b[0;34m\u001b[0m\u001b[0;34m\u001b[0m\u001b[0m\n\u001b[0m\u001b[1;32m    296\u001b[0m         \u001b[0;32mif\u001b[0m \u001b[0mbp_layer\u001b[0m \u001b[0;32mis\u001b[0m \u001b[0;32mNone\u001b[0m\u001b[0;34m:\u001b[0m\u001b[0;34m\u001b[0m\u001b[0;34m\u001b[0m\u001b[0m\n\u001b[1;32m    297\u001b[0m             \u001b[0;32mreturn\u001b[0m \u001b[0mlayer\u001b[0m\u001b[0;34m.\u001b[0m\u001b[0mops\u001b[0m\u001b[0;34m.\u001b[0m\u001b[0munflatten\u001b[0m\u001b[0;34m(\u001b[0m\u001b[0mX\u001b[0m\u001b[0;34m,\u001b[0m \u001b[0mlengths\u001b[0m\u001b[0;34m,\u001b[0m \u001b[0mpad\u001b[0m\u001b[0;34m=\u001b[0m\u001b[0mpad\u001b[0m\u001b[0;34m)\u001b[0m\u001b[0;34m,\u001b[0m \u001b[0;32mNone\u001b[0m\u001b[0;34m\u001b[0m\u001b[0;34m\u001b[0m\u001b[0m\n",
      "\u001b[0;32m~/opt/miniconda3/envs/py-3.6/lib/python3.6/site-packages/thinc/neural/_classes/feed_forward.py\u001b[0m in \u001b[0;36mbegin_update\u001b[0;34m(self, X, drop)\u001b[0m\n\u001b[1;32m     44\u001b[0m         \u001b[0mcallbacks\u001b[0m \u001b[0;34m=\u001b[0m \u001b[0;34m[\u001b[0m\u001b[0;34m]\u001b[0m\u001b[0;34m\u001b[0m\u001b[0;34m\u001b[0m\u001b[0m\n\u001b[1;32m     45\u001b[0m         \u001b[0;32mfor\u001b[0m \u001b[0mlayer\u001b[0m \u001b[0;32min\u001b[0m \u001b[0mself\u001b[0m\u001b[0;34m.\u001b[0m\u001b[0m_layers\u001b[0m\u001b[0;34m:\u001b[0m\u001b[0;34m\u001b[0m\u001b[0;34m\u001b[0m\u001b[0m\n\u001b[0;32m---> 46\u001b[0;31m             \u001b[0mX\u001b[0m\u001b[0;34m,\u001b[0m \u001b[0minc_layer_grad\u001b[0m \u001b[0;34m=\u001b[0m \u001b[0mlayer\u001b[0m\u001b[0;34m.\u001b[0m\u001b[0mbegin_update\u001b[0m\u001b[0;34m(\u001b[0m\u001b[0mX\u001b[0m\u001b[0;34m,\u001b[0m \u001b[0mdrop\u001b[0m\u001b[0;34m=\u001b[0m\u001b[0mdrop\u001b[0m\u001b[0;34m)\u001b[0m\u001b[0;34m\u001b[0m\u001b[0;34m\u001b[0m\u001b[0m\n\u001b[0m\u001b[1;32m     47\u001b[0m             \u001b[0mcallbacks\u001b[0m\u001b[0;34m.\u001b[0m\u001b[0mappend\u001b[0m\u001b[0;34m(\u001b[0m\u001b[0minc_layer_grad\u001b[0m\u001b[0;34m)\u001b[0m\u001b[0;34m\u001b[0m\u001b[0;34m\u001b[0m\u001b[0m\n\u001b[1;32m     48\u001b[0m \u001b[0;34m\u001b[0m\u001b[0m\n",
      "\u001b[0;32m~/opt/miniconda3/envs/py-3.6/lib/python3.6/site-packages/thinc/api.py\u001b[0m in \u001b[0;36muniqued_fwd\u001b[0;34m(X, drop)\u001b[0m\n\u001b[1;32m    377\u001b[0m         )\n\u001b[1;32m    378\u001b[0m         \u001b[0mX_uniq\u001b[0m \u001b[0;34m=\u001b[0m \u001b[0mlayer\u001b[0m\u001b[0;34m.\u001b[0m\u001b[0mops\u001b[0m\u001b[0;34m.\u001b[0m\u001b[0mxp\u001b[0m\u001b[0;34m.\u001b[0m\u001b[0mascontiguousarray\u001b[0m\u001b[0;34m(\u001b[0m\u001b[0mX\u001b[0m\u001b[0;34m[\u001b[0m\u001b[0mind\u001b[0m\u001b[0;34m]\u001b[0m\u001b[0;34m)\u001b[0m\u001b[0;34m\u001b[0m\u001b[0;34m\u001b[0m\u001b[0m\n\u001b[0;32m--> 379\u001b[0;31m         \u001b[0mY_uniq\u001b[0m\u001b[0;34m,\u001b[0m \u001b[0mbp_Y_uniq\u001b[0m \u001b[0;34m=\u001b[0m \u001b[0mlayer\u001b[0m\u001b[0;34m.\u001b[0m\u001b[0mbegin_update\u001b[0m\u001b[0;34m(\u001b[0m\u001b[0mX_uniq\u001b[0m\u001b[0;34m,\u001b[0m \u001b[0mdrop\u001b[0m\u001b[0;34m=\u001b[0m\u001b[0mdrop\u001b[0m\u001b[0;34m)\u001b[0m\u001b[0;34m\u001b[0m\u001b[0;34m\u001b[0m\u001b[0m\n\u001b[0m\u001b[1;32m    380\u001b[0m         \u001b[0mY\u001b[0m \u001b[0;34m=\u001b[0m \u001b[0mY_uniq\u001b[0m\u001b[0;34m[\u001b[0m\u001b[0minv\u001b[0m\u001b[0;34m]\u001b[0m\u001b[0;34m.\u001b[0m\u001b[0mreshape\u001b[0m\u001b[0;34m(\u001b[0m\u001b[0;34m(\u001b[0m\u001b[0mX\u001b[0m\u001b[0;34m.\u001b[0m\u001b[0mshape\u001b[0m\u001b[0;34m[\u001b[0m\u001b[0;36m0\u001b[0m\u001b[0;34m]\u001b[0m\u001b[0;34m,\u001b[0m\u001b[0;34m)\u001b[0m \u001b[0;34m+\u001b[0m \u001b[0mY_uniq\u001b[0m\u001b[0;34m.\u001b[0m\u001b[0mshape\u001b[0m\u001b[0;34m[\u001b[0m\u001b[0;36m1\u001b[0m\u001b[0;34m:\u001b[0m\u001b[0;34m]\u001b[0m\u001b[0;34m)\u001b[0m\u001b[0;34m\u001b[0m\u001b[0;34m\u001b[0m\u001b[0m\n\u001b[1;32m    381\u001b[0m \u001b[0;34m\u001b[0m\u001b[0m\n",
      "\u001b[0;32m~/opt/miniconda3/envs/py-3.6/lib/python3.6/site-packages/thinc/neural/_classes/feed_forward.py\u001b[0m in \u001b[0;36mbegin_update\u001b[0;34m(self, X, drop)\u001b[0m\n\u001b[1;32m     44\u001b[0m         \u001b[0mcallbacks\u001b[0m \u001b[0;34m=\u001b[0m \u001b[0;34m[\u001b[0m\u001b[0;34m]\u001b[0m\u001b[0;34m\u001b[0m\u001b[0;34m\u001b[0m\u001b[0m\n\u001b[1;32m     45\u001b[0m         \u001b[0;32mfor\u001b[0m \u001b[0mlayer\u001b[0m \u001b[0;32min\u001b[0m \u001b[0mself\u001b[0m\u001b[0;34m.\u001b[0m\u001b[0m_layers\u001b[0m\u001b[0;34m:\u001b[0m\u001b[0;34m\u001b[0m\u001b[0;34m\u001b[0m\u001b[0m\n\u001b[0;32m---> 46\u001b[0;31m             \u001b[0mX\u001b[0m\u001b[0;34m,\u001b[0m \u001b[0minc_layer_grad\u001b[0m \u001b[0;34m=\u001b[0m \u001b[0mlayer\u001b[0m\u001b[0;34m.\u001b[0m\u001b[0mbegin_update\u001b[0m\u001b[0;34m(\u001b[0m\u001b[0mX\u001b[0m\u001b[0;34m,\u001b[0m \u001b[0mdrop\u001b[0m\u001b[0;34m=\u001b[0m\u001b[0mdrop\u001b[0m\u001b[0;34m)\u001b[0m\u001b[0;34m\u001b[0m\u001b[0;34m\u001b[0m\u001b[0m\n\u001b[0m\u001b[1;32m     47\u001b[0m             \u001b[0mcallbacks\u001b[0m\u001b[0;34m.\u001b[0m\u001b[0mappend\u001b[0m\u001b[0;34m(\u001b[0m\u001b[0minc_layer_grad\u001b[0m\u001b[0;34m)\u001b[0m\u001b[0;34m\u001b[0m\u001b[0;34m\u001b[0m\u001b[0m\n\u001b[1;32m     48\u001b[0m \u001b[0;34m\u001b[0m\u001b[0m\n",
      "\u001b[0;32m~/opt/miniconda3/envs/py-3.6/lib/python3.6/site-packages/thinc/neural/_classes/layernorm.py\u001b[0m in \u001b[0;36mbegin_update\u001b[0;34m(self, X, drop)\u001b[0m\n\u001b[1;32m     60\u001b[0m     \u001b[0;32mdef\u001b[0m \u001b[0mbegin_update\u001b[0m\u001b[0;34m(\u001b[0m\u001b[0mself\u001b[0m\u001b[0;34m,\u001b[0m \u001b[0mX\u001b[0m\u001b[0;34m,\u001b[0m \u001b[0mdrop\u001b[0m\u001b[0;34m=\u001b[0m\u001b[0;36m0.0\u001b[0m\u001b[0;34m)\u001b[0m\u001b[0;34m:\u001b[0m\u001b[0;34m\u001b[0m\u001b[0;34m\u001b[0m\u001b[0m\n\u001b[1;32m     61\u001b[0m         \u001b[0;32mif\u001b[0m \u001b[0mself\u001b[0m\u001b[0;34m.\u001b[0m\u001b[0mchild\u001b[0m \u001b[0;32mis\u001b[0m \u001b[0;32mnot\u001b[0m \u001b[0;32mNone\u001b[0m\u001b[0;34m:\u001b[0m\u001b[0;34m\u001b[0m\u001b[0;34m\u001b[0m\u001b[0m\n\u001b[0;32m---> 62\u001b[0;31m             \u001b[0mX\u001b[0m\u001b[0;34m,\u001b[0m \u001b[0mbackprop_child\u001b[0m \u001b[0;34m=\u001b[0m \u001b[0mself\u001b[0m\u001b[0;34m.\u001b[0m\u001b[0mchild\u001b[0m\u001b[0;34m.\u001b[0m\u001b[0mbegin_update\u001b[0m\u001b[0;34m(\u001b[0m\u001b[0mX\u001b[0m\u001b[0;34m,\u001b[0m \u001b[0mdrop\u001b[0m\u001b[0;34m=\u001b[0m\u001b[0;36m0.0\u001b[0m\u001b[0;34m)\u001b[0m\u001b[0;34m\u001b[0m\u001b[0;34m\u001b[0m\u001b[0m\n\u001b[0m\u001b[1;32m     63\u001b[0m         \u001b[0;32melse\u001b[0m\u001b[0;34m:\u001b[0m\u001b[0;34m\u001b[0m\u001b[0;34m\u001b[0m\u001b[0m\n\u001b[1;32m     64\u001b[0m             \u001b[0mbackprop_child\u001b[0m \u001b[0;34m=\u001b[0m \u001b[0;32mNone\u001b[0m\u001b[0;34m\u001b[0m\u001b[0;34m\u001b[0m\u001b[0m\n",
      "\u001b[0;32m~/opt/miniconda3/envs/py-3.6/lib/python3.6/site-packages/thinc/neural/_classes/maxout.py\u001b[0m in \u001b[0;36mbegin_update\u001b[0;34m(self, X__bi, drop)\u001b[0m\n\u001b[1;32m     74\u001b[0m         \u001b[0;32mif\u001b[0m \u001b[0mdrop\u001b[0m \u001b[0;32mis\u001b[0m \u001b[0;32mnot\u001b[0m \u001b[0;32mNone\u001b[0m\u001b[0;34m:\u001b[0m\u001b[0;34m\u001b[0m\u001b[0;34m\u001b[0m\u001b[0m\n\u001b[1;32m     75\u001b[0m             \u001b[0mdrop\u001b[0m \u001b[0;34m*=\u001b[0m \u001b[0mself\u001b[0m\u001b[0;34m.\u001b[0m\u001b[0mdrop_factor\u001b[0m\u001b[0;34m\u001b[0m\u001b[0;34m\u001b[0m\u001b[0m\n\u001b[0;32m---> 76\u001b[0;31m         \u001b[0moutput__boc\u001b[0m \u001b[0;34m=\u001b[0m \u001b[0mself\u001b[0m\u001b[0;34m.\u001b[0m\u001b[0mops\u001b[0m\u001b[0;34m.\u001b[0m\u001b[0mgemm\u001b[0m\u001b[0;34m(\u001b[0m\u001b[0mX__bi\u001b[0m\u001b[0;34m,\u001b[0m \u001b[0mW\u001b[0m\u001b[0;34m,\u001b[0m \u001b[0mtrans2\u001b[0m\u001b[0;34m=\u001b[0m\u001b[0;32mTrue\u001b[0m\u001b[0;34m)\u001b[0m\u001b[0;34m\u001b[0m\u001b[0;34m\u001b[0m\u001b[0m\n\u001b[0m\u001b[1;32m     77\u001b[0m         \u001b[0moutput__boc\u001b[0m \u001b[0;34m+=\u001b[0m \u001b[0mself\u001b[0m\u001b[0;34m.\u001b[0m\u001b[0mb\u001b[0m\u001b[0;34m.\u001b[0m\u001b[0mreshape\u001b[0m\u001b[0;34m(\u001b[0m\u001b[0;34m(\u001b[0m\u001b[0mself\u001b[0m\u001b[0;34m.\u001b[0m\u001b[0mnO\u001b[0m \u001b[0;34m*\u001b[0m \u001b[0mself\u001b[0m\u001b[0;34m.\u001b[0m\u001b[0mnP\u001b[0m\u001b[0;34m,\u001b[0m\u001b[0;34m)\u001b[0m\u001b[0;34m)\u001b[0m\u001b[0;34m\u001b[0m\u001b[0;34m\u001b[0m\u001b[0m\n\u001b[1;32m     78\u001b[0m         \u001b[0moutput__boc\u001b[0m \u001b[0;34m=\u001b[0m \u001b[0moutput__boc\u001b[0m\u001b[0;34m.\u001b[0m\u001b[0mreshape\u001b[0m\u001b[0;34m(\u001b[0m\u001b[0;34m(\u001b[0m\u001b[0moutput__boc\u001b[0m\u001b[0;34m.\u001b[0m\u001b[0mshape\u001b[0m\u001b[0;34m[\u001b[0m\u001b[0;36m0\u001b[0m\u001b[0;34m]\u001b[0m\u001b[0;34m,\u001b[0m \u001b[0mself\u001b[0m\u001b[0;34m.\u001b[0m\u001b[0mnO\u001b[0m\u001b[0;34m,\u001b[0m \u001b[0mself\u001b[0m\u001b[0;34m.\u001b[0m\u001b[0mnP\u001b[0m\u001b[0;34m)\u001b[0m\u001b[0;34m)\u001b[0m\u001b[0;34m\u001b[0m\u001b[0;34m\u001b[0m\u001b[0m\n",
      "\u001b[0;31mKeyboardInterrupt\u001b[0m: "
     ]
    }
   ],
   "source": [
    "print(spacy.__version__) #2.3.0\n",
    "\n",
    "spacy_NLP_model = spacy.load('en_core_web_sm', disable=['ner'])\n",
    "\n",
    "nlp_pipeline = PatentNLPPreprocessor(spacy_NLP_model)\n",
    "\n",
    "\n",
    "\n",
    "rows_kw = []\n",
    "rows_tit_abst_clem = []\n",
    "count_key_not_in_dict=0\n",
    "count_no_itersec=0\n",
    "count_pass_kw=0\n",
    "\n",
    "start_time = time.time()\n",
    "\n",
    "for i, (key, value) in enumerate(data.dict_der_text.items()):    \n",
    "\n",
    "    if key in data.dict_full_text: \n",
    "\n",
    "        keyterms_derwent=set(nlp_pipeline.run_NLP(value, lemma_normalize=True))\n",
    "\n",
    "        df_temp=data.df_full_text.loc[data.df_full_text['PPID'] == key]\n",
    "\n",
    "        title=df_temp['TIEN'].iloc[0]\n",
    "        abst=df_temp['ABEN'].iloc[0]\n",
    "        claim=df_temp['CLMEN'].iloc[0]   \n",
    "        detden=df_temp['DETDEN'].iloc[0] \n",
    "\n",
    "        count_cor_tien=nlp_pipeline.run_NLP(title, lemma_normalize=True)\n",
    "        print(\"--- %s seconds title---\" % (time.time() - start_time))\n",
    "        start_time = time.time()\n",
    "        \n",
    "        count_cor_abst=nlp_pipeline.run_NLP(abst, lemma_normalize=True)\n",
    "        print(\"--- %s seconds abst---\" % (time.time() - start_time))\n",
    "        start_time = time.time()\n",
    "        \n",
    "        count_cor_clem = nlp_pipeline.run_NLP(claim, lemma_normalize=True)\n",
    "        print(\"--- %s seconds clem---\" % (time.time() - start_time))\n",
    "        start_time = time.time()\n",
    "        \n",
    "        count_cor_detden = nlp_pipeline.run_NLP(detden, lemma_normalize=True)\n",
    "        print(\"--- %s seconds detden---\" % (time.time() - start_time))\n",
    "        start_time = time.time()\n",
    "\n",
    "        set_labels_full_text=set(itertools.chain(count_cor_tien, count_cor_abst,count_cor_clem,count_cor_detden))\n",
    "\n",
    "        set_intersec = keyterms_derwent.intersection(set_labels_full_text)  #common elments derwent and full text \n",
    "\n",
    "        if len(set_intersec)==0: \n",
    "            count_no_itersec+=1\n",
    "\n",
    "        else:\n",
    "            sub_list=set_intersec\n",
    "            rows_tit_abst_clem.append([key, count_cor_tien, count_cor_abst, count_cor_clem, count_cor_detden])\n",
    "\n",
    "            for kw in sub_list:\n",
    "                rows_kw.append([key, kw])\n",
    "                if kw not in set_labels_full_text :\n",
    "                    print('Keyterm is not in intersection', can[0])\n",
    "                    sys.exit()\n",
    "    else:\n",
    "        count_key_not_in_dict+=1\n",
    "\n",
    "\n",
    "    if i%10==0:\n",
    "        print(i,\"--- %s seconds ---\" % (time.time() - start_time))\n",
    "        start_time = time.time()\n",
    "\n",
    "\n",
    "print('No itersection elements found count:',count_no_itersec)\n",
    "print('count_key_not_in_dict:',count_key_not_in_dict)\n",
    "print('count_pass_kw:',count_pass_kw)\n",
    "print('index:',i)\n",
    "\n",
    "#print(\"Number of intersec elements is less than %s :\",n_of_keywords_to_extract,count_less_kws)\n",
    "\n",
    "df_kw = pd.DataFrame(rows_kw, columns=[\"PPID\", \"KEYWORD\"])  \n",
    "df_res = pd.DataFrame(rows_tit_abst_clem, columns=[\"PPID\",\"TIEN\", \"ABEN\",\"CLMEN\",\"DETDEN\"]) \n",
    "\n",
    "\n",
    "\n",
    "'''\n",
    "terms = nlp_pipeline.run_NLP(text, lemma_normalize=True)\n",
    "\n",
    "# Extract noun hrases as are in the original text\n",
    "nouns = nlp_pipeline.get_noun_phrases(text)\n",
    "doc = spacy_NLP_model(text1)\n",
    "\n",
    "# Extract Subject-Verb-Object\n",
    "svo_out= svo_pipeline.subject_verb_object_triples(doc)\n",
    "\n",
    "print(list(svo_out))\n",
    "print(list(terms))\n",
    "print(nouns)\n",
    "\n",
    "'''"
   ]
  },
  {
   "cell_type": "code",
   "execution_count": 13,
   "id": "82acefcf",
   "metadata": {},
   "outputs": [],
   "source": [
    "with open('test.txt', 'wb') as handle:\n",
    "    pickle.dump(dict_occ_sorted, handle)"
   ]
  },
  {
   "cell_type": "code",
   "execution_count": 15,
   "id": "219d884e",
   "metadata": {},
   "outputs": [
    {
     "name": "stdout",
     "output_type": "stream",
     "text": [
      "{'pcr process': 1, 'place': 1, 'chinese toon cornus': 1, 'radix scutellariae': 1, 'nominal voltage': 1, 'cell surface receptor': 1, 'wound healing': 1, 'alkenylene': 1, 'vi': 1, 'zinc': 1, 'membere heterocycloalkyl': 1, 'serum fraction': 1, 'therapeutic benefit': 1, 'rna sequence': 1, 'bone degradation': 1, 'rhinovirus': 1, 'cationic amino acid': 1, 'sealable container': 1, 'high performance': 1, 'green tea': 1, 'viral hepatitis vaccine': 1, 'antibody-specific peptide': 1, 'digital conversion': 1, 'electrical trigger': 1, 'tissue typing': 1, 'non-touch': 1, 'non-preferred codon': 1, 'image rotation correction module': 1, 'low respiratory illness': 1, 'cmir': 1, 'non-specific alkaline phosphatase': 1, 'amll': 1, 'administer cysteamine': 1, 'cell mediate immune response': 1, 'leukemias': 1, 'cellular product': 1, 'tracking': 1, 'osmotic pressure': 1, 'swab collection equipment': 1, 'antisense oligonucleotides': 1, 'chemotherapy': 1, 'germ': 1, 'precision medicine': 1, 'distilled water': 1, 'ethane': 1, 'effective component': 1, 'plant': 1, 'stem cell line': 1, 'dna target': 1, 'single person': 1, 'aa': 1, 'avian host': 1, 'actinic keratosis': 1, 'ascite': 1, 'tlr agonist': 1, 'handheld device': 1, 'human body': 1, 'xylene': 1, 'brachyury-expressing cancer': 1, 'rgb': 1, 'autoimmune vasculitis': 1, 'mobile phase': 1, 'police': 1, 'follicular lymphoma': 1, 'juvenile vasculitis': 1, 'calcium hypochlorite': 1, 'sars virus infection': 1, 'primer set': 1, 'neutralizing determinant': 1, 'rotavirus': 1, 'muscle protein metabolism': 1, 'high efficiency': 1, 'fluorogenic quantitative pcr': 1, 'non-host albumin': 1, 'ry': 1, 'standard deviation': 1, 'single cell': 1, 'double stranded rna duplex': 1, 'pct': 1, 'hand': 1, 'acetylsalicylic acid': 1, 'semi-purified blood serum': 1, 'import export quarantine': 1, 'putative differentiation-inducing compound': 1, 'embryonate fowl egg': 1, 'template cdna': 1, 'rotavirus illness': 1, 'low risk': 1, 'totipotent': 1, 'radix peucedani': 1, 'design': 1, 'automatic contactless manner': 1, 'igf-i': 1, 'individual member': 1, 'contact free swab collect equipment': 1, 'cachexia anorexia': 1, 'bed side': 1, 'canine parainfluenza virus': 1, 'cutaneous t-cell lymphoma': 1, 'immunotherapeutic composition': 1, 'smart sanitizer dispenser': 1, 'deep facial recognition': 1, 'oral liquid': 1, 'vessel': 1, 'orfa virus gene': 1, 'cell-free assay': 1, 'osteoporosis': 1, 'cell type': 1, 'healthcare provider': 1, 'health department official': 1, 'attendant bone loss': 1, 'il receptor': 1, 'breathe information': 1, 'untranslated region': 1, 'broad-spectrum activity': 1, 'epimedium': 1, 'sera sample': 1, 'dc': 1, 'paget disease': 1, 'steroid': 1, 'parainfluenzavirus': 1, 'characterization': 1, 'tea tree oil extract': 1, 'machine learning': 1, 'specific site': 1, 'hybridize nucleic acid sequence': 1, 'supermarket cart': 1, 'sneeze': 1, 'image rotation correction model': 1, 'video sequences': 1, 'infectious canine hepatitis virus': 1, 'skin cancer': 1, 'juvenile reactive arthritis': 1, 'chemical analysis': 1, 'stabilization': 1, 'ghrm rehearse': 1, 'collar': 1, 'leukocyte': 1, 'usage': 1, 'yolo': 1, 'forehead': 1, 'poxvirus': 1, 'relief': 1, 'average immune response': 1, 'mammalian gene expression': 1, 'femoral lateral condyle vertex': 1, 'inflammatory cytokine storm': 1, 'yeast': 1, 'machine learning model': 1, 'double strand rna': 1, 'rf': 1, 'taaggatgcgctcaacacggtcgt': 1, 'hydrogen peroxide': 1, 'dermatitis': 1, 'vivo': 1, 'hand proximity detector': 1, 'qx': 1, 'nose': 1, 'protein extracellular domain': 1, 'matrix metalloproteinase': 1, 'covalent bond': 1, 'include angle': 1, 'therapeutic procedure': 1, 'pressure': 1, 'juvenile reter syndrome': 1, 'transplantation therapie': 1, 'hole': 1, 'alkynylene': 1, 'anti-bacterial additive': 1, 'packaging material': 1, 'cleaner': 1, 'cloud': 1, 'contiguous nucleotide': 1, 'separate vessel': 1, 'apheresis product': 1, 'solvent': 1, 'supportable execution': 1, 'america': 1, 'medical staff': 1, 'wild-type strain': 1, 'bacterial disease': 1, 'juvenile scleroderma': 1, 'hyperalgesia': 1, 'bone marrow transplantation': 1, 'transmitter': 1, 'bone loss': 1, 'stress': 1, 'airport': 1, 'copd': 1, 'nucleic acids': 1, 'time postpartum': 1, 'lg': 1, 'akt phosphorylation activity': 1, 'tolerogenic vaccine': 1, 'opportunity': 1, 'statistical record': 1, 'distribute antenna base system': 1, 'cdr': 1, 'safe prevent': 1, 'cultivation medium': 1, 'taq enzyme': 1, 'disinfectant composition': 1, 'myocardial cell': 1, 'regulation': 1, 'specificity primer pair': 1, 'dermatomyolitis': 1, 'immunization': 1, 'proteus': 1, 'residual impurity': 1, 'ccaatcctgtttgtctgctggca': 1, 'recombinant nucleic acid molecule': 1, 'cocktail': 1, 'plastic zip bag': 1, 'essential oil': 1, 'chronic wound': 1, 'alkenyl': 1, 'strains': 1, 'corrective action': 1, 'heavy chain cdr': 1, 'hn': 1, 'organic solvent phase': 1, 'receiver': 1, 'idiopathic thrombocytopenia': 1, 'insufficient excessive production': 1, 'smart automate patient monitoring system': 1, 'cat': 1, 'purpose': 1, 'nasopharyngeal carcinoma': 1, 'reaction': 1, 'initial inoculation': 1, 'dispenser': 1, 'mobile alcohol brethylser': 1, 'inactivated hepatitis virus': 1, 'osteopenia': 1, 'periodontal disease': 1, 'sore throat': 1, 'newcastle disease virus': 1, 'influenzavirus': 1, 'desire function': 1, 'juvenile systemic lupus erythematosus': 1, 'human intervention': 1, 'target protein': 1, 'wavelength': 1, 'sterile adjuvant complex': 1, 'step assay method': 1, 'social insurance association': 1, 'accuracy': 1, 'increase ease': 1, 'gggugacuggcgggauugcgau': 1, 'alleviation': 1, 'breast carcinoma': 1, 'effective amount': 1, 'endothelial inducer cell': 1, 'pd-l': 1, 'human il receptor': 1, 'touch': 1, 'rc': 1, 'prosthetic device': 1, 'essential service': 1, 'bone cartilage tissue': 1, 'heterocyclylalkyl': 1, 'organ storage solution': 1, 'endothelial lineage': 1, 'canine herpes virus': 1, 'product surface': 1, 'esophageal cancer': 1, 'large child': 1, 'pseudomonas': 1, 'scientific method': 1, 'heterocyclylene': 1, 'tris hydroxymethyl aminomethane-aspartate buffer': 1, 'aggregation formation': 1, 'relb': 1, 'immune system disease': 1, 'increase convenience': 1, 'suppository': 1, 'physical condition': 1, 'local site': 1, 'eczema': 1, 'workload': 1, 'hybridize condition': 1, 'diagnostic assays': 1, 'disinfect substance': 1, 'synthetic anti-influenza medicine': 1, 'two-carbon moiety': 1, 'immune cell': 1, 'mammalian expression': 1, 'antisense strand': 1, 'regulatory dendritic cell': 1, 'immunogen': 1, 'gene trap': 1, 'measles virus': 1, 'consumer': 1, 'natural bind partner': 1, 'pet owner': 1, 'sil-r': 1, 'ibvm strain': 1, 'plasmid': 1, 'non-human transgenic animal': 1, 'therapeutically effective amount': 1, 'maximum specific glucose consumption rate': 1, 'polyarticular juvenile rheumatoid arthritis': 1, 'herpesvirus': 1, 'wheel shopping cart': 1, 'canister': 1, 'il-ra-binding fragment': 1, 'sarcoidosis': 1, 'ache': 1, 'framework': 1, 'immune modulatory gene': 1, 'nucleic acid detection': 1, 'antigenic recombinant fusion protein': 1, 'histidine-glutamate buffer': 1, 'octanoic acid': 1, 'lung disease': 1, 'low temperature inactivation': 1, 'space plane': 1, 'porcine reproductive respiratory syndrome virus': 1, 'lymphoproliferative syndrome': 1, 'bind motif': 1, 'polypeptide vaccine': 1, 'practicability': 1, 'recombinant virus': 1, 'sinusitis': 1, 'side effect': 1, 'real-time datum': 1, 'immune modulation': 1, 'regard': 1, 'retrovirus': 1, 'magnitude': 1, 'autoimmune uveitis': 1, 'efficacy': 1, 'pulse oximeter unit': 1, 'antigenic recombinant vp vp': 1, 'ecacc': 1, 'health care medicine': 1, 'virally infected people': 1, 'temporal mandibular joint disease': 1, 'polyarticular rheumatoid arthritis': 1, 'mesodermal lineage': 1, 'alopecia areata': 1, 'icterohaemorrhagiae': 1, 'nucleic acid sequence': 1, 'hematological malignancy': 1, 'actuation portion': 1, 'standard unified femur x-ray film': 1, 'eosinophilia': 1, 'angelica': 1, 'oh': 1, 'clinical pdcov sample': 1, 'sanitizer': 1, 'biologically active portion': 1, 'primer pair': 1, 'erythema nodosum leprosum': 1, 'femur x-ray film generation module': 1, 'smart automate bed': 1, 'renal cancer': 1, 'polypeptidic complex': 1, 'vasculitis': 1, 'rotavirus-related disease': 1, 'ngh': 1, 'bronchitis': 1, 'reporter gene': 1, 'cheap accessible product': 1, 'particulate carrier': 1, 'audit': 1, 'incite factor': 1, 'arylalkyl': 1, 'passive immunity': 1, 'non-pathogen-infected disease': 1, 'uninfected human subject': 1, 'cryptosporidiosis': 1, 'human coronaviruse': 1, 'transferable': 1, 'side-effects': 1, 'effectiveness': 1, 'viable form': 1, 'ethyl group': 1, 'joint': 1, 'virus allantoic fluid': 1, 'mhc gene': 1, 'attenuated west nile virus vaccine': 1, 'human il-ra': 1, 'hso': 1, 'optimization': 1, 'alert system': 1, 'pure red cell anemia': 1, 'excellent safety profile': 1, 'impairment': 1, 'mammalian subject': 1, 'growth factor': 1, 'renal cell carcinoma': 1, 'substitution': 1, 'bronchiseptica': 1, 'sclerose': 1, 'ssd': 1, 'prrs virus polypeptide': 1, 'current specific glucose consumption rate': 1, 'intelligence': 1, 'pi': 1, 'pdcov': 1, 'vaccine adjuvant': 1, 'pathogens': 1, 'patient primary secondary contact': 1, 'structural model': 1, 'frozen condition': 1, 'collect datum': 1, 'candidiasis': 1, 'obtain target molecule': 1, 'point': 1, 'allergic encephalomyelitis': 1, 'vitamin': 1, 'incidence': 1, 'modulate': 1, 'nasal passage': 1, 'brachyury expression': 1, 'abbreviation': 1, 'cysteamine': 1, 'small-cell lung carcinoma': 1, 'mathematical index': 1, 'super-antigen fusion protein': 1, 'artificial intelligence': 1, 'isolated monoclonal antibody': 1, 'toxoplasmosis': 1, 'glass slide': 1, 'inhibitory activity': 1, 'minimize': 1, 'real-time condition': 1, 'chromatography': 1, 'individual transfecte cell': 1, 'history': 1, 'trochanter': 1, 'cold plasma technology': 1, 'chip device': 1, 'low respiratory tract illness': 1, 'school': 1, 'vaccine delivery': 1, 'ulcerative colitis': 1, 'stethoscope': 1, 'gggcgcugugacauuaaggac': 1, 'cell response': 1, 'covid scenario': 1, 'mantle cell lymphoma': 1, 'tumor necrosis factor': 1, 'rapid action': 1, 'femoral x-ray film': 1, 'cell population': 1, 'immunosuppressive disease': 1, 'database': 1, 'illiterate person': 1, 'bank': 1, 'primary secondary contact list': 1, 'coronavirus gene chip': 1, 'hbsag': 1, 'anti-horse igg monoclonal antibody': 1, 'touch safe plastic': 1, 'complementary strand': 1, 'ib qx': 1, 'selenium': 1, 'localized immune response': 1, 'cell culture': 1, 'trypanosome infection': 1, 'recombinant hepatitis virus antigen': 1, 'er': 1, 'select virus': 1, 'autoimmune hepatitis': 1, 'autoimmune condition': 1, 'panel': 1, 'quantitative chemical reagent': 1, 'polyarteritis nodossa': 1, 'adverse vaccine reaction': 1, 'classification': 1, 'competent cell': 1, 'extracellular molecule': 1, 'chlamydia': 1, 'prevent': 1, 'azithromycin': 1, 'mask nostril area': 1, 'report generation': 1, 'correct three-dimensional femoral image': 1, 'cancer patient': 1, 'flavivirus': 1, 'prrsv polypeptide': 1, 'radiation-resistance': 1, 'carbocyclylene': 1, 'usefulness': 1, 'exist influenza infection': 1, 'seq id nos': 1, 'adsorptive moiety': 1, 'patient suffering': 1, 'sound recording': 1, 'histoplasmosis': 1, 'hand hold device': 1, 'comparison': 1, 'personnel': 1, 'bluetooth': 1, 'synergistic combination': 1, 'amplified product': 1, 'arginine-aspartate': 1, 'private dwelling': 1, 'pharmacokinetic': 1, 'systemic inflammation': 1, 'light chain': 1, 'volatile organic compound': 1, 't-bet': 1, 'heavy chain variable domain sequence': 1, 'myopathy': 1, 'khpo': 1, 'cytokine production': 1, 'cycloalkyl': 1, 'pct capture antibody': 1, 'guttate psoriasis': 1, 'polynucleotide sequences': 1, 'dispersible tablet': 1, 'personalized medicine service': 1, 'erythrodermic psoriasis': 1, 'tumor burden': 1, 'fresh distilled water': 1, 'sodium': 1, 'nh': 1, 'minimum': 1, 'gvhd': 1, 'mesodermal neural lineage': 1, 'nacl': 1, 'hav': 1, 'actuation': 1, 'pvp-i': 1, 'otitis media': 1, 'accomplish hierarchical objective': 1, 'ir temperature check unit': 1, 'ethanol solution': 1, 'bead': 1, 'ar aryl hetero atom aryl': 1, 'connective tissue': 1, 'klebsiella': 1, 'target molecule': 1, 'mobile phone': 1, 'physical property': 1, 'endometriosis': 1, 'pauciarticular rheumatoid arthritis': 1, 'run nose': 1, 'biocidal agent': 1, 'glutamic acid': 1, 'parameter': 1, 'immobilization': 1, 'protein vaccine': 1, 'herpes zoster': 1, 'glycosylated m-s-s-gp polypeptidic complex': 1, 'polymyolitis': 1, 'minimum contraction': 1, 'gene chip': 1, 'kidney': 1, 'touch safe plastic polymer material': 1, 'il-a': 1, 'cup promoter': 1, 'omnibank': 1, 'idiopathic sprue': 1, 'cdr cdr': 1, 'dsrna': 1, 'high molecular weight': 1, 'large scale': 1, 'powder': 1, 'meaning': 1, 'pregnant mother': 1, 'absence': 1, 'railway station': 1, 'non-apoptotic mechanism': 1, 'tumor antigen': 1, 'isolation rule': 1, 'inactivated yeast': 1, 'typical epithelial tissue source': 1, 'advance device': 1, 'transfection': 1, 'sars coronavirus main proteinase': 1, 'bone liver': 1, 'transgene': 1, 'cart handle': 1, 'canicola': 1, 'ibvm': 1, 'drug discovery': 1, 'spray': 1, 'oxide': 1, 'systemic onset juvenile rheumatoid arthritis': 1, 'average antibody response': 1, 'metastatic nodule': 1, 'rhubarb': 1, 'heteroatom': 1, 'helicobacter': 1, 'snp site': 1, 'parkinson disease': 1, 'exogenous protein': 1, 'vibrator': 1, 'template cdna positive standard': 1, 'equine coronavirus': 1, 'mobile number': 1, 'human skin': 1, 'differentiate partially differentiate cell': 1, 'extract': 1, 'chromosome mapping': 1, 'nurse': 1, 'heavy chain': 1, 'immune enhancement': 1, 'activation': 1, 'causative potentially causative agent': 1, 'anthocyanin': 1, 'quality control point': 1, 'predisposition': 1, 'sanitizer sprayer': 1, 'epithelial tissue source': 1, 'global positioning system': 1, 'selective death': 1, 'multiple people': 1, 'performance': 1, 'premembrane membrane prm protein': 1, 'small amount': 1, 'translocate peptide': 1, 'guard': 1, 'equation': 1, 'immune inhibitory gene': 1, 'immunopotentiator': 1, 'respiratory information': 1, 'veterinarians': 1, 'antibody activity': 1, 'double-stranded duplex possess homology': 1, 'prostate carcinoma': 1, 'tgev': 1, 'frontline workers': 1, 'hepadnavirus': 1, 'buffer': 1, 'contiguous amino acid residue': 1, 'porcine tgev': 1, 'hat': 1, 'bind fragment': 1, 'diabetes mellitus': 1, 'opgl': 1, 'detection module': 1, 'rna interference': 1, 'neoplastic disease': 1, 'purification': 1, 'esophagus': 1, 'addison disease': 1, 'contactless sensor': 1, 'disposable blow tube': 1, 'cost': 1, 'positive standard': 1, 'human parainfluenza virus': 1, 'microprocessor unit': 1, 'specific epitope': 1, 'screening': 1, 'wifi': 1, 'obtain extract': 1, 'gene-trap vector insertion': 1, 'viral transmission': 1, 'light chain sequence': 1, 'small interfere rna': 1, 'autoimmune disorder': 1, 'improved stability': 1, 'swab sample': 1, 'phosphate buffer': 1, 'stable antibody-comprising formulation': 1, 'covid pandemic arrangement': 1, 'optimal expression': 1, 'ms': 1, 'heteroaryl group': 1, 'avian influenza': 1, 'qr': 1, 'worldwide concern': 1, 'orthomyxovirus': 1, 'lichen planus': 1, 'test stand': 1, 'atmospheric pressure': 1, 'interferon alpha': 1, 'relevant host resistance factor': 1, 'temperature sensor': 1, 'inflammatory condition': 1, 'usual function': 1, 'intraepithelial neoplasias': 1, 'sirna expression vector': 1, 'hotel': 1, 'polymerase chain reaction': 1, 'honey': 1, 'stro hybridoma cell line': 1, 'ploymyalgia rheumatica': 1, 'gtst library': 1, 'il-ra': 1, 'safety pharmacology study': 1, 'epitope specific peptide': 1, 'covid scanning': 1, 'great extent': 1, 't-bet activity': 1, 'canine core vaccine': 1, 'fine three-dimensional structure': 1, 'interstitial lung fibrosis': 1, 'muc': 1, 'merc cell': 1, 'micro electronics': 1, 'respiratory syncytial virus': 1, 'gene expression': 1, 'porcine transmissible gastroenteritis virus': 1, 'hospital efficiency': 1, 'hospitalization': 1, 'infected person': 1, 'sleep disturbance': 1, 'chemokine': 1, 'y-r': 1, 'continuous discharge': 1, 'complement': 1, 'alkyl substituent': 1, 'basal cell carcinoma': 1, 'cytoplasmic protein': 1, 'cinema house': 1, 'radiological image': 1, 'enthesopathy': 1, 'pulmonary disease': 1, 'pluripotent stem cell': 1, 'vertex': 1, 'instruction': 1, 'automatic manner': 1, 'thermal screening': 1, 'graft rejection': 1, 'fibroblast inducer cell': 1, 'separate well': 1, 'batryticated silkworm': 1, 'parasitic disease': 1, 'ointment': 1, 'normal condition': 1, 'liquid storage': 1, 'epitopes': 1, 'nucleic acid chimera virus chimera': 1, 'cardiac tissue': 1, 'osteopenic disorder': 1, 'juvenile psoriatic arthritis': 1, 'public place': 1, 'attack': 1, 'dr': 1, 'enteropathic arthritis': 1, 'brachyury fusion protein': 1, 'myeloma tumor cell': 1, 'electrical circuit': 1, 'od': 1, 'increase sensitivity': 1, 'cholangitis': 1, 'mammalian gene': 1, 'reperfusion injury': 1, 'non-human primate': 1, 'th-associate cytokine': 1, 'microorganism vaccine immunogenicity': 1, 'interest': 1, 'social distance': 1, 'si': 1, 'recombinant host cell': 1, 'duration': 1, 'squamous cell carcinoma': 1, 'staphylococcus': 1, 'chills': 1, 'antiviral agent': 1, 'sirna': 1, 'biological experiment': 1, 'long period': 1, 'readily financially beneficial solution': 1, 'human service association': 1, 'autoimmune process': 1, 'frozen storage': 1, 'press': 1, 'n-terminal alkylamide': 1, 'aspartic acid': 1, 'injection': 1, 'colon cancer': 1, 'automate screening system': 1, 'gprs': 1, 'organism': 1, 'patient mobile number': 1, 'prostate': 1, 'guarantee': 1, 'preservation': 1, 'idiopathic bilateral progressive sensorineural hearing loss': 1, 'recombinant vector': 1, 'undesirable systemic side effect': 1, 'transform plant': 1, 'large b-cell lymphoma': 1, 'promoter enhancer terminator region': 1, 'safe': 1, 'structural protein': 1, 'watch': 1, 'identification': 1, 'isolated antibody': 1, 't-bet protein': 1, 'celiac disease': 1, 'cloud base software component': 1, 'pdcov rna': 1, 'cold plasma': 1, 'covid virus corona virus sars covid': 1, 'tea': 1, 'soft capsule': 1, 'severity': 1, 'pd-l inhibitor': 1, 'chitosan derivative': 1, 'viii': 1, 'chemotherapy radiation therapy': 1, 'immunological protection': 1, 'tr': 1, 'magnolia bark': 1, 'wide range': 1, 'dna damaging agent': 1, 'high concentration': 1, 'specificity': 1, 'affinity column': 1, 'glomerulonephritis': 1, 'expression level': 1, 'life': 1, 'lung carcinoma': 1, 'diagnostic composition': 1, 'disease vector': 1, 'cyno cell': 1, 'vesicular stomatitis virus': 1, 'cyclodextrin': 1, 'microbial shedding': 1, 'fibroblast': 1, 'tumor': 1, 'hemorrhagic encephalopathy': 1, 'heterologous clade': 1, 'viral development': 1, 'isolated infectious bronchitis virus': 1, 'nitrogen atom': 1, 'infected healthy people': 1, 'oxygen saturation level': 1, 'respiratory sound': 1, 'cancer-related pain': 1, 'research': 1, 'wuss': 1, 'diagnostic prognostic assays': 1, 'customer patient': 1, 'kr': 1, 'influenza': 1, 'sea syndrome': 1, 'intramuscular retention time': 1, 'molecular model': 1, 'alzheimer disease': 1, 'stomach': 1, 'conjunctiva cancer': 1, 'nasal congestion': 1, 'organic solvent': 1, 'reter syndrome': 1, 'partial sars spike protein': 1, 'oc': 1, 'antenna base system': 1, 'xc': 1, 'strategy producer desire': 1, 'construct': 1, 'external preparation': 1, 'electrical switch': 1, 'plaque psoriasis': 1, 'ra aa z-rb': 1, 'positive control': 1, 'circulate stem cell': 1, 'parturition': 1, 'automatic detection': 1, 'highly-concentrated antibody-comprising formulation': 1, 'glaucoma': 1, 'mumps virus': 1, 'substantial systemic cytokine induction': 1, 'herbs glycyrrhiza': 1, 'o-alkyl': 1, 'rhizoma atractylodis': 1, 'high accuracy': 1, 'guillain-barre disease': 1, 'sick': 1, 'enrichment': 1, 'low battery indicator': 1, 'live standard': 1, 'tgev gene': 1, 'il-ra activation': 1, 'genus escherichia': 1, 'femur': 1, 'cell therefrom': 1, 'myelogenous leukemia': 1, 'covid particle': 1, 'metastatic progression': 1, 'wind repair': 1, 'hrv': 1, 'eukaryotic cell': 1, 'human hand': 1, 'viable circulate stem cell': 1, 'probe': 1, 'seronegativity': 1, 'respiratory viral illness': 1, 'provisional accession': 1, 'enriched expand cell population': 1, 'adjuvant complex': 1, 'gardenia': 1, 'disease treatment': 1, 'i-a': 1, 'kcl': 1, 'rs': 1, 'forensic identification': 1, 'cmax': 1, 'respiratory datum': 1, 'nature': 1, 'medical control unit': 1, 'data flow diagram': 1, 'glucose': 1, 'pauciarticular juvenile rheumatoid arthritis': 1, 'ingredient': 1, 'molecule': 1, 'il sil-r': 1, 'highly contagious corona virus': 1, 'bronchial impairment': 1, 'isolated infectious bronchitis ib virus': 1, 'nucleated cell': 1, 'operator': 1, 'agonist': 1, 'hbv': 1, 'partial severe acute respiratory syndrome': 1, 'economy': 1, 'scleroderma': 1, 'envelope protein': 1, 'individual totipotent': 1, 'cancer subclass': 1, 'putative differentiation-inducing condition': 1, 'aryl': 1, 'immunotherapy': 1, 'pathogens-infected disease': 1, 'heterocycloalkynyl': 1, 'single multiple booster inoculation': 1, 'optical biosensor': 1, 'lymphocyte proliferation': 1, 'ir temperature sensor': 1, 'prrsv protein': 1, 'modulator': 1, 'crp': 1, 'digital reconstruction radiography': 1, 'chemotherapy-resistance': 1, 'world economy': 1, 'inhibitor': 1, 'tolerance': 1, 'ghrm framework practice': 1, 'inject muscle': 1, 'distribute antenna system': 1, 'human being': 1, 'heterocyclyl': 1, 'model training sample module': 1, 'mortality': 1, 'time prepartum': 1, 'electronic array': 1, 'test strip': 1, 'cancer cell': 1, 'australians citizen': 1, 'ion channel': 1, 'special method': 1, 'shopping complex': 1, 'rotaviral disease-reducing immunogenic response': 1, 'fresh xylene': 1, 'country': 1, 'phosphonate group': 1, 'australian industry': 1, 'corona virus disease': 1, 'horizontal plane': 1, 'femoral medial condyle vertex': 1, 'primate embryonic stem cell': 1, 'arthropathy syndrome': 1, 'cancer antigen': 1, 'dbomb': 1, 'exchange': 1, 'multiple schlerosis': 1, 'antibody production': 1, 'consequent organ damage': 1, 'naturally occur allelic': 1, 'murine embryonic stem cell': 1, 'immunomodulatory gene': 1, 'aids': 1, 'pancreatic cancer': 1, 'almond': 1, 'broad-based disease resistance': 1, 'sepsis': 1, 'full recovery': 1, 'base pairs': 1, 'smart automate patient monitoring bed': 1, 'high immune responder': 1, 'amino acid substitution er': 1, 'arteritis': 1, 'enterobacter': 1, 'non-hodgkin lymphoma': 1, 'fungal disease': 1, 'cystamine': 1, 'epstein barr virus ebv infection': 1, 'eosin': 1, 'audio beep': 1, 'synergistic protection': 1, 'ease': 1, 'bed': 1, 'mutation': 1, 'dry paste sample': 1, 'stevens-johnson syndrome': 1, 'sr': 1, 'functionality': 1, 'complement regulatory protein': 1, 'volatile oil': 1, 'plant soot': 1, 'suffering': 1, 'bladder': 1, 'culture yeast': 1, 'light chain variable domain sequence': 1, 'forensic medicine': 1, 'ibd': 1, 'pill': 1, 'allantoic cavity': 1, 'imidazoquinoline compound': 1, 'codon': 1, 'chicken': 1, 'coronavirus impact': 1, 'target sequence': 1, 'brachyury-specific cell response': 1, 'uveitis posterior': 1, 'covid case': 1, 'smart bed': 1, 'quaternary response': 1, 'high temperature': 1, 'spike protein': 1, 'human hand temperature': 1, 'ib-qx-like virus': 1, 'high practical': 1, 'clathrate': 1, 'patient immune response': 1, 'deposit': 1, 'non-pathogens-infected disease': 1, 'curve': 1, 'factor': 1, 'body': 1, 'heterocycloalkenyl': 1, 'cell adhesion molecule': 1, 'upstream primer': 1, 'plastic material': 1, 'travel': 1, 'immune function': 1, 'cervical dysplasia': 1, 'cold symptom': 1, 'yeast-brachyury immunotherapy': 1, 'fruition': 1, 'delivery': 1, 'container': 1, 'tcid': 1, 'increase growth hormone': 1, 'future': 1, 'constant management': 1, 'immunoliposome': 1, 'gene-trap sequence tag': 1, 'advanced technology': 1, 'freeze-thawing stress': 1, 'animal vaccine': 1, 'alkyl': 1, 'sclerosis': 1, 'respiratory infection': 1, 'total amino acid addition': 1, 'cancer status': 1, 'femoral condyle': 1, 'button': 1, 'canine parvoviral enteritis': 1, 'oil seepage': 1, 'high safety': 1, 'virtually nucleotide amplification product detection': 1, 'sars vaccine': 1, 'polychondritis': 1, 'primary biliary sclerosis': 1, 'sct gene': 1, 'myolitis': 1, 'negative secondary tertiary response': 1, 'peptide fragment': 1, 'european collection': 1, 'amyotrophic lateral sclerosis': 1, 'antigenic fragment': 1, 'amino': 1, 'sars coronavirus main proteinase inhibitor': 1, 'mutated ras antigen': 1, 'horse': 1, 'tlr agonist compound': 1, 'testicle': 1, 'sreg-dc': 1, 'ghrm': 1, 'breast': 1, 'adsorbed tlr agonist': 1, 'necklace': 1, 'upper respiratory tract infection': 1, 'air': 1, 'throw blow tube': 1, 'xh': 1, 'attachable grip': 1, 'streptococcus': 1, 'respiratory sound record unit': 1, 'fiber membrane ultrafiltration concentration': 1, 'bound box': 1, 'reaction plate': 1, 'prrs virus infection': 1, 'key point': 1, 'equivalent gadget': 1, 'optical microscope': 1, 'digital reconstruction': 1, 'downstream primer': 1, 'blood circulation': 1, 'negative point': 1, 'berry fruit': 1, 'chronological relationship': 1, 'primary secondary contact': 1, 'carbohydrates': 1, 'cctcc': 1, 'exacerbation': 1, 'septic shock': 1, 'quarantine person': 1, 'pandemic situation': 1, 'systemic onset rheumatoid arthritis': 1, 'animal owner': 1, 'percentage': 1, 'flir': 1, 'lou gehrig disease': 1, 'frail': 1, 'ambient temperature': 1, 'vaccine antigen': 1, 'cdna clone': 1, 'endocrinological disease': 1, 'astragaloside': 1, 'tlr': 1, 'automatic object detection': 1, 'carbocyclyl': 1, 'vertebrate': 1, 'angle': 1, 'unique nature': 1, 'disease state': 1, 'relapse': 1, 'coefficient': 1, 'plaster': 1, 'ireg-dc': 1, 'colon': 1, 'immune gene': 1, 'hairy cell leukemia': 1, 'coronavirus infection': 1, 'hereditary congenital form': 1, 'viability': 1, 'mechanical vibration': 1, 'keloid formation': 1, 'spray drying': 1, 'single component': 1, 'paramyxovirus': 1, 'environment': 1, 'povidone-iodine': 1, 'appearance': 1, 'inflammation autoimmune disease': 1, 'pulse oximeter': 1, 'diagnostic procedure': 1, 'femoral medial-lateral condyle vertex': 1, 'white oil': 1, 'medical device': 1, 'amh': 1, 'light chain variable domain': 1, 'immune preparation': 1, 'total management': 1, 'pbst': 1, 'cea': 1, 'plane': 1, 'ig': 1, 'bsa': 1, 'positive coefficient': 1, 'deep learning': 1, 'peripartum period': 1, 'non-adsorbed form': 1, 'deep learning method digital reconstruction radiological image': 1, 'outlay': 1, 'rg': 1, 'parvoviral enteritis': 1, 'cancer target': 1, 'picture data': 1, 'cold': 1, 'headache': 1, 'approximate range': 1, 'cystic fibrosis': 1, 'recombinant hepatitis virus surface antigen': 1, 'contact': 1, 'non-invasive smart screening test': 1, 'indicator composition': 1, 'transfecte totipotent': 1, 'knowledge': 1, 'egg drop syndrome': 1, 'early diagnosis': 1, 'monoclonal antibody': 1, 'germanium': 1, 'sign': 1, 'live attenuate infectious bronchitis ib virus': 1, 'human respiratory syncytial virus': 1, 'grippotyphosa': 1, 'emergency': 1, 'peripartum disease': 1, 'polyclonal antibody': 1, 'gastric cancer': 1, 'enterovirus': 1, 'heavy chain variable domain': 1, 'paste': 1, 'pharmaceutically acceptable carrier': 1, 'pre-scan process': 1, 'pd-l target molecule': 1, 'auxiliary model': 1, 'dendritic cell': 1, 'yeast vehicle': 1, 'testing function': 1, 'emulsification': 1, 'insect': 1, 'switch action': 1, 'chemical biological agent': 1, 'color': 1, 'cameras': 1, 'alarm': 1, 'speed': 1, 'neuronal graft': 1, 'histidine-aspartate buffer': 1, 'tablet': 1, 'forsythia': 1, 'variable region': 1, 'low limit': 1, 'option': 1, 'stringent hybridization condition': 1, 'waldenstrom macroglobulinemia': 1, 'transplantation': 1, 'heavy chain sequence': 1, 'drr method': 1, 'membrane structure protein': 1, 'brain': 1, 'human mouth': 1, 'pancreas': 1, 'small lymphocytic lymphoma': 1, 'chimeric polypeptide': 1, 'immune complex': 1, 'reagent': 1, 'counter ion species': 1, 'plastic hand grip option': 1, 'juvenile enteropathic arthritis': 1, 'vehicle': 1, 'prescient significance': 1, 'equipment': 1, 'liquorice': 1, 'virus infection': 1, 'secondary illness': 1, 'watson-crick base': 1, 'lymphoma': 1, 'regular feed': 1, 'scanner': 1, 'previously administer rotavirus vaccine': 1, 'necktie': 1, 'pairs': 1, 'precision medicine treatment': 1, 'avian infectious bronchitis virus': 1, 'cervix': 1, 'prrs virus': 1, 'reduce systemic tnf induction': 1, 'remote control': 1, 'volume': 1, 'osteoarthritis': 1, 'sars spike protein': 1, 'moment': 1, 'promoter cup': 1, 'ib': 1, 'granule': 1, 'weight ratio': 1, 'low level': 1, 'healthcare organization': 1, 'arginine-glutamate': 1, 'lyophilization': 1, 'isolated attenuate infectious bronchitis ib virus': 1, 'bracelet': 1, 'progeny cell': 1, 'immune stimulatory gene': 1, 'oxygen saturation': 1, 'transplant': 1, 'chronic active hepatitis': 1, 'cleavage site': 1, 'serum': 1, 'quinazolinone compound': 1, 'individual group': 1, 'rna polymerase': 1, 'sle': 1, 'acute myeloid leukemia': 1, 'lack': 1, 'tris hydroxymethyl aminomethane-glutamate buffer': 1, 'solid phase carrier': 1, 'transfected cell': 1, 'arthritis': 1, 'currency': 1, 'safety': 1, 'reactive arthritis': 1, 'pre-warne system': 1, 'rx': 1, 'onset': 1, 'infectivity': 1, 'three-dimensional coordinate position': 1, 'recombinant baculovirus genome plasmid': 1, 'successful outcome': 1, 'raynaud phenomenon': 1, 'pd-l-pd interaction': 1, 'heteroalkyl': 1, 'specific marker': 1, 'prrsv infection': 1, 'individual cell': 1, 'human subject': 1, 'genbank accession number af': 1, 'smart scanner': 1, 'adenovirus': 1, 'malaria': 1, 'ribe': 1, 'caretaker': 1, 'therapeutic agent': 1, 'covid test': 1, 'carcinoembryonic antigen': 1, 'potent stimulator': 1, 'oral cancer': 1, 'insoluble metal salt': 1, 'frontline worker': 1, 'antibody response': 1, 'heat': 1, 'inactivation': 1, 'brachyury antigen': 1, 'uterus': 1, 'recombinant baculovirus': 1, 'kaposi sarcoma': 1, 'capture antibody': 1, 'scanning process': 1, 'xg': 1, 'hindrance': 1, 'surrounding': 1, 'leprosy reversal reaction': 1, 'viral induce cell death': 1, 'traditional disinfectant method': 1, 'autoimmunity': 1, 'recombinant dna': 1, 'lactic acid': 1, 'adenoviruses': 1, 'peptide fragment encoding': 1, 'fibromyalgia': 1, 'papovavirus': 1, 'sirna construct': 1, 'abnormal cell': 1, 'label reagent': 1, 'veterinarian': 1, 'colorectal cancer': 1, 'tumor growth': 1, 'host diseae': 1, 'protective immune response': 1, 'cryptococcal meningitis': 1, 'interferon-gamma': 1, 'inclusion': 1, 'evaluation': 1, 'yeast-brachyury immunotherapeutic composition': 1, 'low peak serum concentration': 1, 'histidine': 1, 'flavivirus vaccine': 1, 'pomona': 1, 'flavivirus disease': 1, 'femoral x-ray film generation module': 1, 'medical equipment': 1, 'antagonist': 1, 'regular interval': 1, 'juvenile arthritis': 1, 'antibody quantity': 1, 'telescope type virus scanner': 1, 'dna-damaging agent': 1, 'cartilage inflammation': 1, 'difficulty': 1, 'retail venue': 1, 'emphysema': 1, 'test tube': 1, 'traditional approach': 1, 'wells': 1, 'isolate serum composition': 1, 'mrna': 1, 'target sequences': 1, 'circulate tumor cell': 1, 'kawasaki disease': 1, 'stability': 1, 'amplified dna product': 1, 'plant-derived edible vaccine': 1, 'endodermal lineage': 1, 'lytic bone metastasis': 1, 'colorectal carcinoma': 1, 'public private industry': 1, 'switch': 1, 'world': 1, 'niht cell': 1, 'acute pancreatitis': 1, 'spondylitis': 1, 'disinfectant bomb': 1, 'implementation': 1, 'alkynyl': 1, 'mask': 1, 'discoid lupus': 1, 'microorganism inactivate vaccine': 1, 'acetic acid': 1, 'parenteral administration technique': 1, 'contagious corona virus disease': 1, 'prison': 1, 'liver': 1, 'high level': 1, 'hematologic malignancy': 1, 'x-ray film generation': 1, 'inverse psoriasis': 1, 'rsv virus infection': 1, 'peptide sequences': 1, 'apheresis': 1, 'lstm': 1, 'conventionally hydrochloric acid': 1, 'acid': 1, 'lld': 1, 'topical formulation': 1, 'cr': 1, 'entrance': 1, 'pd-l polypeptide': 1, 'test animal': 1, 'learn': 1, 'leukemia': 1, 'trochanter vertex': 1, 'specific sar spike protein': 1, 'pvp': 1, 'live attenuate strain': 1, 'cancer marker': 1, 'promoter': 1, 'aplastic anemia': 1, 'acute lymphocytic leukemia': 1, 'aivhl': 1, 'proliferation': 2, 'cytokine': 2, 'b-cell lymphoma': 2, 'contact list': 2, 'metal oxide silicon': 2, 'fusion protein': 2, 'electronic sensor': 2, 'diagnosis': 2, 'enzyme': 2, 'inflammation': 2, 'doctor': 2, 'people': 2, 'medium': 2, 'wegener granulomatosis': 2, 'insect cell': 2, 'transgenic animal': 2, 'industry': 2, 'vocs': 2, 'iv': 2, 'specific tissue type': 2, 'ra': 2, 'measurement': 2, 'virus chimera': 2, 'diabetes': 2, 'lymphocyte': 2, 'protein crystal structure': 2, 'fever': 2, 'survival': 2, 'natural product': 2, 'quarantine': 2, 'hybridoma cell line': 2, 'library': 2, 'canine': 2, 'immunoglobulin': 2, 'therapy': 2, 'adjuvant': 2, 'traditional chinese medicine': 2, 'nonstructural protein': 2, 'halo': 2, 'la sota': 2, 'epitope': 2, 'block diagram': 2, 'tween': 2, 'myasthenia gravis': 2, 'hepatitis': 2, 'hybridoma': 2, 'deletion': 2, 'heart': 2, 'immunogenicity': 2, 'strain': 2, 'kennel cough': 2, 'business': 2, 'expand cell population': 2, 'cpi': 2, 'sensor': 2, 'budapest treaty': 2, 'optional dose': 2, 'pain': 2, 'chronic lymphocytic leukemia': 2, 'preparation method': 2, 'carcinoma': 2, 'host disease': 2, 'formulation': 2, 'homology': 2, 'stimulatory factor': 2, 'cough': 2, 'microprocessor': 2, 'infectious bronchitis': 2, 'nucleic acid chimera': 2, 'lr': 2, 'transmission': 2, 'small circuit board': 2, 'atherosclerosis': 2, 'bird': 2, 'neck': 2, 'psoriatic arthritis': 2, 'constant': 2, 'prrsv': 2, 'bind': 2, 'hepatitis virus': 2, 'atopic dermatitis': 2, 'flavonoid': 2, 'sjogren syndrome': 2, 'liver cancer': 2, 'morbidity': 2, 'schematic view': 2, 'indicator': 2, 'juvenile rheumatoid arthritis': 2, 'interaction': 2, 'pcr': 2, 'baculovirus': 2, 'canine parainfluenza cpi virus': 2, 'bratislava': 2, 'analysis': 2, 'tissue specific committed cell population': 2, 'stro antibody': 2, 'enriched adult multipotential cell': 2, 'immunity': 2, 'chronic obstructive pulmonary disease': 2, 'common cold': 2, 'immune effect': 2, 'west nile virus': 2, 'alkylene': 2, 'orfa gene': 2, 'cultured population': 2, 'room temperature': 2, 'expression vector': 2, 'proportion': 2, 'test compound': 2, 'quality': 2, 'low cost': 2, 'inactivated vaccine': 2, 'pattern': 2, 'combine vaccine': 2, 'capsid protein': 2, 'viral disease': 2, 'pneumonia': 2, 'enriched population': 2, 'voc': 2, 'primer': 2, 'culture medium': 2, 'copper sulfate': 2, 'interleukin': 2, 'sars coronavirus antibody': 2, 'ratio': 2, 'deposit accession number': 2, 'disorder': 2, 'sequences': 2, 'neutralize antibody': 2, 'arylene': 2, 'suitable medium': 2, 'enriched cell population': 2, 'lab': 2, 'polymer': 2, 'medicine': 2, 'metastasis': 2, 'lung': 2, 'atcc': 2, 'tnap': 2, 'covid virus': 2, 'flu': 2, 'microphone': 2, 'multipotential cell': 2, 'adult multipotential cell': 2, 'capsule': 2, 'stem cell': 2, 'cell sample': 2, 'hospital': 2, 'influenza virus': 2, 'temperature': 2, 'multiple myeloma': 2, 'uveitis': 2, 'tissue source': 2, 'gps': 2, 'provision': 2, 'canine adenovirus type': 3, 'salt': 3, 'canine coronavirus': 3, 'allergy': 3, 'crohn disease': 3, 'water': 3, 'polynucleotide': 3, 'individual': 3, 'canine disease': 3, 'isolated nucleic acid molecule': 3, 'peptide': 3, 'leptospirosis': 3, 'breast cancer': 3, 'autoimmune disease': 3, 'bordetella bronchiseptica': 3, 'transplant rejection': 3, 'vaccine composition': 3, 'sensitivity': 3, 'ethanol': 3, 'corona virus': 3, 'enteritis': 3, 'canine parvovirus': 3, 'leptospira canicola': 3, 'liquid': 3, 'dengue virus': 3, 'skin': 3, 'annual dose': 3, 'il': 3, 'infectious canine hepatitis': 3, 'sars virus': 3, 'pet': 3, 'graft': 3, 'bacterin': 3, 'camera': 3, 'inhibition': 3, 'differentiation': 3, 'inflammatory bowel disease': 3, 'isolate antibody': 3, 'newcastle disease': 3, 'cav': 3, 'resistance': 3, 'ccv': 3, 'viral antigen': 3, 'liposome': 3, 'systemic lupus erythematosus': 3, 'cpi virus': 3, 'nucleotide': 3, 'chip': 3, 'prostate cancer': 3, 'administration': 3, 'pig': 3, 'dog': 3, 'respiratory disease': 3, 'protection': 3, 'span': 3, 'receptor': 3, 'culture': 3, 'covid patient': 3, 'cloud server': 3, 'immunogenic composition': 3, 'infectious tracheobronchitis': 3, 'cpv': 3, 'effect': 3, 'isolate cell': 3, 'head': 3, 'host cell': 3, 'nucleic acid molecule': 3, 'viral infection': 3, 'sars coronavirus': 3, 'death': 3, 'concentration': 3, 'biological sample': 3, 'canine distemper virus': 3, 'tumor cell': 4, 'expression': 4, 'pathogen': 4, 'fragment': 4, 'symptom': 4, 'amino acid': 4, 'multiple sclerosis': 4, 'rheumatoid arthritis': 4, 'psoriasis': 4, 'infectious disease': 4, 'lung cancer': 4, 'target': 4, 'melanoma': 4, 'specification': 4, 'gene': 4, 'dose': 4, 'production': 4, 'hiv': 4, 'activity': 4, 'marker': 4, 'manufacture': 4, 'tissue': 4, 'nucleotide sequence': 5, 'severe acute respiratory syndrome': 5, 'rna': 5, 'risk': 5, 'carrier': 5, 'kit': 5, 'pharmaceutical composition': 5, 'population': 5, 'human': 5, 'prevention': 5, 'draw': 5, 'polypeptide': 6, 'amino acid sequence': 6, 'detection': 6, 'medicament': 6, 'sequence': 6, 'infection': 6, 'treatment': 6, 'coronavirus': 6, 'nucleic acid': 6, 'spread': 6, 'antigen': 6, 'asthma': 7, 'immune response': 8, 'development': 8, 'bacteria': 8, 'animal': 8, 'preparation': 8, 'covid': 9, 'protein': 10, 'sars': 11, 'seq id': 11, 'patient': 12, 'cancer': 12, 'antibody': 12, 'disease': 13, 'cell': 14, 'vaccine': 14}\n"
     ]
    }
   ],
   "source": [
    "with open('test.txt', 'rb') as handle:\n",
    "    b = pickle.loads(handle.read())"
   ]
  },
  {
   "cell_type": "code",
   "execution_count": 16,
   "id": "e69cc38a",
   "metadata": {},
   "outputs": [
    {
     "name": "stdout",
     "output_type": "stream",
     "text": [
      "<class 'dict'>\n"
     ]
    }
   ],
   "source": [
    "print(type(b))"
   ]
  },
  {
   "cell_type": "code",
   "execution_count": null,
   "id": "6665b50d",
   "metadata": {},
   "outputs": [],
   "source": []
  },
  {
   "cell_type": "code",
   "execution_count": null,
   "id": "8e9fb990",
   "metadata": {},
   "outputs": [],
   "source": [
    "data.dict_der_text[ex_id]"
   ]
  },
  {
   "cell_type": "code",
   "execution_count": null,
   "id": "57bdda62",
   "metadata": {},
   "outputs": [],
   "source": [
    "ex_id=\"CA2798250A1\"#\"CA2798250A1\"#\"CN101204448A\""
   ]
  },
  {
   "cell_type": "code",
   "execution_count": null,
   "id": "5debb711",
   "metadata": {},
   "outputs": [],
   "source": [
    "print(list(data.df_full_text.loc[data.df_full_text['PPID'] == ex_id]['ABEN']))"
   ]
  },
  {
   "cell_type": "code",
   "execution_count": null,
   "id": "03fc79e8",
   "metadata": {},
   "outputs": [],
   "source": [
    "print(list(df_kw.loc[df_kw['PPID'] == ex_id]['KEYWORD']))"
   ]
  },
  {
   "cell_type": "code",
   "execution_count": null,
   "id": "e2b17064",
   "metadata": {},
   "outputs": [],
   "source": []
  },
  {
   "cell_type": "code",
   "execution_count": null,
   "id": "d5ca5c37",
   "metadata": {},
   "outputs": [],
   "source": []
  },
  {
   "cell_type": "code",
   "execution_count": null,
   "id": "67f5fe82",
   "metadata": {},
   "outputs": [],
   "source": [
    "spacy_NLP_model = spacy.load('en_core_web_sm', disable=['ner'])"
   ]
  },
  {
   "cell_type": "code",
   "execution_count": null,
   "id": "0d07206e",
   "metadata": {},
   "outputs": [],
   "source": []
  },
  {
   "cell_type": "code",
   "execution_count": null,
   "id": "7ae15292",
   "metadata": {},
   "outputs": [],
   "source": []
  },
  {
   "cell_type": "code",
   "execution_count": null,
   "id": "89884381",
   "metadata": {},
   "outputs": [],
   "source": [
    "sw_list= StopWords()"
   ]
  },
  {
   "cell_type": "code",
   "execution_count": null,
   "id": "90730082",
   "metadata": {},
   "outputs": [],
   "source": [
    "sw_list.sw_all"
   ]
  },
  {
   "cell_type": "code",
   "execution_count": null,
   "id": "62906b7d",
   "metadata": {},
   "outputs": [],
   "source": [
    "df_kw, df_res= obj_gen_training_data.label_data_with_noun_phrase_pipeline()"
   ]
  },
  {
   "cell_type": "code",
   "execution_count": null,
   "id": "3b0fd81e",
   "metadata": {},
   "outputs": [],
   "source": [
    "df_kw.head()"
   ]
  },
  {
   "cell_type": "code",
   "execution_count": null,
   "id": "611e9a10",
   "metadata": {},
   "outputs": [],
   "source": []
  },
  {
   "cell_type": "code",
   "execution_count": null,
   "id": "d95115c7",
   "metadata": {},
   "outputs": [],
   "source": []
  },
  {
   "cell_type": "code",
   "execution_count": null,
   "id": "aab4391e",
   "metadata": {},
   "outputs": [],
   "source": []
  },
  {
   "cell_type": "code",
   "execution_count": null,
   "id": "b8a40b7a",
   "metadata": {},
   "outputs": [],
   "source": [
    "len(list_kw)"
   ]
  },
  {
   "cell_type": "code",
   "execution_count": null,
   "id": "adf3b164",
   "metadata": {},
   "outputs": [],
   "source": []
  },
  {
   "cell_type": "code",
   "execution_count": null,
   "id": "7b1b6a90",
   "metadata": {},
   "outputs": [],
   "source": [
    "set1=sw_list.sw_all\n",
    "set2=set(list_kw)\n",
    "\n",
    "set3=set1.intersection(set2)"
   ]
  },
  {
   "cell_type": "code",
   "execution_count": null,
   "id": "aab0c260",
   "metadata": {},
   "outputs": [],
   "source": [
    "set3"
   ]
  },
  {
   "cell_type": "code",
   "execution_count": null,
   "id": "a56c8b53",
   "metadata": {},
   "outputs": [],
   "source": [
    "df=pd.read_csv('../../resources/data_dwpi_basic_abstract.csv', error_bad_lines=False)"
   ]
  },
  {
   "cell_type": "code",
   "execution_count": null,
   "id": "0b579166",
   "metadata": {},
   "outputs": [],
   "source": [
    "df.head()"
   ]
  },
  {
   "cell_type": "code",
   "execution_count": null,
   "id": "3efe938f",
   "metadata": {},
   "outputs": [],
   "source": [
    "data.df_full_text.head()"
   ]
  },
  {
   "cell_type": "code",
   "execution_count": null,
   "id": "ed55213e",
   "metadata": {},
   "outputs": [],
   "source": []
  },
  {
   "cell_type": "code",
   "execution_count": null,
   "id": "864df290",
   "metadata": {},
   "outputs": [],
   "source": [
    "print(data.df_full_text[data.df_full_text['PPID']=='CN101246163A']['TIEN'])"
   ]
  },
  {
   "cell_type": "code",
   "execution_count": null,
   "id": "d02463d9",
   "metadata": {},
   "outputs": [],
   "source": [
    "df_=pd.read_csv('df_np_analysis.csv')"
   ]
  },
  {
   "cell_type": "code",
   "execution_count": null,
   "id": "f1dc38d0",
   "metadata": {},
   "outputs": [],
   "source": [
    "df_[df_['#np_claim']==0]"
   ]
  },
  {
   "cell_type": "code",
   "execution_count": null,
   "id": "86d6d1ba",
   "metadata": {},
   "outputs": [],
   "source": []
  }
 ],
 "metadata": {
  "kernelspec": {
   "display_name": "Python [conda env:py-3.6]",
   "language": "python",
   "name": "conda-env-py-3.6-py"
  },
  "language_info": {
   "codemirror_mode": {
    "name": "ipython",
    "version": 3
   },
   "file_extension": ".py",
   "mimetype": "text/x-python",
   "name": "python",
   "nbconvert_exporter": "python",
   "pygments_lexer": "ipython3",
   "version": "3.6.13"
  }
 },
 "nbformat": 4,
 "nbformat_minor": 5
}
